{
  "nbformat": 4,
  "nbformat_minor": 0,
  "metadata": {
    "colab": {
      "name": "Python basics",
      "provenance": [],
      "include_colab_link": true
    },
    "kernelspec": {
      "name": "python3",
      "display_name": "Python 3"
    },
    "widgets": {
      "application/vnd.jupyter.widget-state+json": {
        "fb0aac5657b14228b149f3064127a8e4": {
          "model_module": "@jupyter-widgets/controls",
          "model_name": "HBoxModel",
          "model_module_version": "1.5.0",
          "state": {
            "_dom_classes": [],
            "_model_module": "@jupyter-widgets/controls",
            "_model_module_version": "1.5.0",
            "_model_name": "HBoxModel",
            "_view_count": null,
            "_view_module": "@jupyter-widgets/controls",
            "_view_module_version": "1.5.0",
            "_view_name": "HBoxView",
            "box_style": "",
            "children": [
              "IPY_MODEL_d737854056e74176b4b6abe11ef9f4ae",
              "IPY_MODEL_27ae3d6444944ca3b63c1846cad1b8f8",
              "IPY_MODEL_3e10c842be0a4c61b7b87aa393c16077"
            ],
            "layout": "IPY_MODEL_bdbca445f5e34b888607168fb5200f4e"
          }
        },
        "d737854056e74176b4b6abe11ef9f4ae": {
          "model_module": "@jupyter-widgets/controls",
          "model_name": "HTMLModel",
          "model_module_version": "1.5.0",
          "state": {
            "_dom_classes": [],
            "_model_module": "@jupyter-widgets/controls",
            "_model_module_version": "1.5.0",
            "_model_name": "HTMLModel",
            "_view_count": null,
            "_view_module": "@jupyter-widgets/controls",
            "_view_module_version": "1.5.0",
            "_view_name": "HTMLView",
            "description": "",
            "description_tooltip": null,
            "layout": "IPY_MODEL_a5c5231f89b64762869d7ebf20108a7b",
            "placeholder": "​",
            "style": "IPY_MODEL_8542f0ed633141d8acd6ad3696a9d047",
            "value": "Working for n conditional variables: 5: 100%"
          }
        },
        "27ae3d6444944ca3b63c1846cad1b8f8": {
          "model_module": "@jupyter-widgets/controls",
          "model_name": "FloatProgressModel",
          "model_module_version": "1.5.0",
          "state": {
            "_dom_classes": [],
            "_model_module": "@jupyter-widgets/controls",
            "_model_module_version": "1.5.0",
            "_model_name": "FloatProgressModel",
            "_view_count": null,
            "_view_module": "@jupyter-widgets/controls",
            "_view_module_version": "1.5.0",
            "_view_name": "ProgressView",
            "bar_style": "success",
            "description": "",
            "description_tooltip": null,
            "layout": "IPY_MODEL_0e9fb159c1294271b0d02acd7a33a26f",
            "max": 5,
            "min": 0,
            "orientation": "horizontal",
            "style": "IPY_MODEL_e6be9e571d0b476e830163c5662fb6cf",
            "value": 5
          }
        },
        "3e10c842be0a4c61b7b87aa393c16077": {
          "model_module": "@jupyter-widgets/controls",
          "model_name": "HTMLModel",
          "model_module_version": "1.5.0",
          "state": {
            "_dom_classes": [],
            "_model_module": "@jupyter-widgets/controls",
            "_model_module_version": "1.5.0",
            "_model_name": "HTMLModel",
            "_view_count": null,
            "_view_module": "@jupyter-widgets/controls",
            "_view_module_version": "1.5.0",
            "_view_name": "HTMLView",
            "description": "",
            "description_tooltip": null,
            "layout": "IPY_MODEL_ac31858957744b1a8a1211fccacfcbb1",
            "placeholder": "​",
            "style": "IPY_MODEL_a2541040bf724b779636be279fefc8a0",
            "value": " 5/5 [00:11&lt;00:00,  2.28s/it]"
          }
        },
        "bdbca445f5e34b888607168fb5200f4e": {
          "model_module": "@jupyter-widgets/base",
          "model_name": "LayoutModel",
          "model_module_version": "1.2.0",
          "state": {
            "_model_module": "@jupyter-widgets/base",
            "_model_module_version": "1.2.0",
            "_model_name": "LayoutModel",
            "_view_count": null,
            "_view_module": "@jupyter-widgets/base",
            "_view_module_version": "1.2.0",
            "_view_name": "LayoutView",
            "align_content": null,
            "align_items": null,
            "align_self": null,
            "border": null,
            "bottom": null,
            "display": null,
            "flex": null,
            "flex_flow": null,
            "grid_area": null,
            "grid_auto_columns": null,
            "grid_auto_flow": null,
            "grid_auto_rows": null,
            "grid_column": null,
            "grid_gap": null,
            "grid_row": null,
            "grid_template_areas": null,
            "grid_template_columns": null,
            "grid_template_rows": null,
            "height": null,
            "justify_content": null,
            "justify_items": null,
            "left": null,
            "margin": null,
            "max_height": null,
            "max_width": null,
            "min_height": null,
            "min_width": null,
            "object_fit": null,
            "object_position": null,
            "order": null,
            "overflow": null,
            "overflow_x": null,
            "overflow_y": null,
            "padding": null,
            "right": null,
            "top": null,
            "visibility": null,
            "width": null
          }
        },
        "a5c5231f89b64762869d7ebf20108a7b": {
          "model_module": "@jupyter-widgets/base",
          "model_name": "LayoutModel",
          "model_module_version": "1.2.0",
          "state": {
            "_model_module": "@jupyter-widgets/base",
            "_model_module_version": "1.2.0",
            "_model_name": "LayoutModel",
            "_view_count": null,
            "_view_module": "@jupyter-widgets/base",
            "_view_module_version": "1.2.0",
            "_view_name": "LayoutView",
            "align_content": null,
            "align_items": null,
            "align_self": null,
            "border": null,
            "bottom": null,
            "display": null,
            "flex": null,
            "flex_flow": null,
            "grid_area": null,
            "grid_auto_columns": null,
            "grid_auto_flow": null,
            "grid_auto_rows": null,
            "grid_column": null,
            "grid_gap": null,
            "grid_row": null,
            "grid_template_areas": null,
            "grid_template_columns": null,
            "grid_template_rows": null,
            "height": null,
            "justify_content": null,
            "justify_items": null,
            "left": null,
            "margin": null,
            "max_height": null,
            "max_width": null,
            "min_height": null,
            "min_width": null,
            "object_fit": null,
            "object_position": null,
            "order": null,
            "overflow": null,
            "overflow_x": null,
            "overflow_y": null,
            "padding": null,
            "right": null,
            "top": null,
            "visibility": null,
            "width": null
          }
        },
        "8542f0ed633141d8acd6ad3696a9d047": {
          "model_module": "@jupyter-widgets/controls",
          "model_name": "DescriptionStyleModel",
          "model_module_version": "1.5.0",
          "state": {
            "_model_module": "@jupyter-widgets/controls",
            "_model_module_version": "1.5.0",
            "_model_name": "DescriptionStyleModel",
            "_view_count": null,
            "_view_module": "@jupyter-widgets/base",
            "_view_module_version": "1.2.0",
            "_view_name": "StyleView",
            "description_width": ""
          }
        },
        "0e9fb159c1294271b0d02acd7a33a26f": {
          "model_module": "@jupyter-widgets/base",
          "model_name": "LayoutModel",
          "model_module_version": "1.2.0",
          "state": {
            "_model_module": "@jupyter-widgets/base",
            "_model_module_version": "1.2.0",
            "_model_name": "LayoutModel",
            "_view_count": null,
            "_view_module": "@jupyter-widgets/base",
            "_view_module_version": "1.2.0",
            "_view_name": "LayoutView",
            "align_content": null,
            "align_items": null,
            "align_self": null,
            "border": null,
            "bottom": null,
            "display": null,
            "flex": null,
            "flex_flow": null,
            "grid_area": null,
            "grid_auto_columns": null,
            "grid_auto_flow": null,
            "grid_auto_rows": null,
            "grid_column": null,
            "grid_gap": null,
            "grid_row": null,
            "grid_template_areas": null,
            "grid_template_columns": null,
            "grid_template_rows": null,
            "height": null,
            "justify_content": null,
            "justify_items": null,
            "left": null,
            "margin": null,
            "max_height": null,
            "max_width": null,
            "min_height": null,
            "min_width": null,
            "object_fit": null,
            "object_position": null,
            "order": null,
            "overflow": null,
            "overflow_x": null,
            "overflow_y": null,
            "padding": null,
            "right": null,
            "top": null,
            "visibility": null,
            "width": null
          }
        },
        "e6be9e571d0b476e830163c5662fb6cf": {
          "model_module": "@jupyter-widgets/controls",
          "model_name": "ProgressStyleModel",
          "model_module_version": "1.5.0",
          "state": {
            "_model_module": "@jupyter-widgets/controls",
            "_model_module_version": "1.5.0",
            "_model_name": "ProgressStyleModel",
            "_view_count": null,
            "_view_module": "@jupyter-widgets/base",
            "_view_module_version": "1.2.0",
            "_view_name": "StyleView",
            "bar_color": null,
            "description_width": ""
          }
        },
        "ac31858957744b1a8a1211fccacfcbb1": {
          "model_module": "@jupyter-widgets/base",
          "model_name": "LayoutModel",
          "model_module_version": "1.2.0",
          "state": {
            "_model_module": "@jupyter-widgets/base",
            "_model_module_version": "1.2.0",
            "_model_name": "LayoutModel",
            "_view_count": null,
            "_view_module": "@jupyter-widgets/base",
            "_view_module_version": "1.2.0",
            "_view_name": "LayoutView",
            "align_content": null,
            "align_items": null,
            "align_self": null,
            "border": null,
            "bottom": null,
            "display": null,
            "flex": null,
            "flex_flow": null,
            "grid_area": null,
            "grid_auto_columns": null,
            "grid_auto_flow": null,
            "grid_auto_rows": null,
            "grid_column": null,
            "grid_gap": null,
            "grid_row": null,
            "grid_template_areas": null,
            "grid_template_columns": null,
            "grid_template_rows": null,
            "height": null,
            "justify_content": null,
            "justify_items": null,
            "left": null,
            "margin": null,
            "max_height": null,
            "max_width": null,
            "min_height": null,
            "min_width": null,
            "object_fit": null,
            "object_position": null,
            "order": null,
            "overflow": null,
            "overflow_x": null,
            "overflow_y": null,
            "padding": null,
            "right": null,
            "top": null,
            "visibility": null,
            "width": null
          }
        },
        "a2541040bf724b779636be279fefc8a0": {
          "model_module": "@jupyter-widgets/controls",
          "model_name": "DescriptionStyleModel",
          "model_module_version": "1.5.0",
          "state": {
            "_model_module": "@jupyter-widgets/controls",
            "_model_module_version": "1.5.0",
            "_model_name": "DescriptionStyleModel",
            "_view_count": null,
            "_view_module": "@jupyter-widgets/base",
            "_view_module_version": "1.2.0",
            "_view_name": "StyleView",
            "description_width": ""
          }
        },
        "3eab41bb59354e23a0456492c3eaf716": {
          "model_module": "@jupyter-widgets/controls",
          "model_name": "HBoxModel",
          "model_module_version": "1.5.0",
          "state": {
            "_dom_classes": [],
            "_model_module": "@jupyter-widgets/controls",
            "_model_module_version": "1.5.0",
            "_model_name": "HBoxModel",
            "_view_count": null,
            "_view_module": "@jupyter-widgets/controls",
            "_view_module_version": "1.5.0",
            "_view_name": "HBoxView",
            "box_style": "",
            "children": [
              "IPY_MODEL_424629db15a045899a843be50a29897b",
              "IPY_MODEL_b964a5edc76240b6952dc807b1d877cc",
              "IPY_MODEL_c18629b4a0cc421590e1a14713dcf3fb"
            ],
            "layout": "IPY_MODEL_d03a5259130843bbb2c5f43affeff8de"
          }
        },
        "424629db15a045899a843be50a29897b": {
          "model_module": "@jupyter-widgets/controls",
          "model_name": "HTMLModel",
          "model_module_version": "1.5.0",
          "state": {
            "_dom_classes": [],
            "_model_module": "@jupyter-widgets/controls",
            "_model_module_version": "1.5.0",
            "_model_name": "HTMLModel",
            "_view_count": null,
            "_view_module": "@jupyter-widgets/controls",
            "_view_module_version": "1.5.0",
            "_view_name": "HTMLView",
            "description": "",
            "description_tooltip": null,
            "layout": "IPY_MODEL_52674a00373e4a5892d965097788fe15",
            "placeholder": "​",
            "style": "IPY_MODEL_e4a843cf91eb4894a2e2f33fb3d4f758",
            "value": "  0%"
          }
        },
        "b964a5edc76240b6952dc807b1d877cc": {
          "model_module": "@jupyter-widgets/controls",
          "model_name": "FloatProgressModel",
          "model_module_version": "1.5.0",
          "state": {
            "_dom_classes": [],
            "_model_module": "@jupyter-widgets/controls",
            "_model_module_version": "1.5.0",
            "_model_name": "FloatProgressModel",
            "_view_count": null,
            "_view_module": "@jupyter-widgets/controls",
            "_view_module_version": "1.5.0",
            "_view_name": "ProgressView",
            "bar_style": "danger",
            "description": "",
            "description_tooltip": null,
            "layout": "IPY_MODEL_01c91be368bc48e08c5974aa54c04b8d",
            "max": 1000000,
            "min": 0,
            "orientation": "horizontal",
            "style": "IPY_MODEL_5ad263ea7c1b4368bf6baa535bdf4e9c",
            "value": 21
          }
        },
        "c18629b4a0cc421590e1a14713dcf3fb": {
          "model_module": "@jupyter-widgets/controls",
          "model_name": "HTMLModel",
          "model_module_version": "1.5.0",
          "state": {
            "_dom_classes": [],
            "_model_module": "@jupyter-widgets/controls",
            "_model_module_version": "1.5.0",
            "_model_name": "HTMLModel",
            "_view_count": null,
            "_view_module": "@jupyter-widgets/controls",
            "_view_module_version": "1.5.0",
            "_view_name": "HTMLView",
            "description": "",
            "description_tooltip": null,
            "layout": "IPY_MODEL_b6b043c3ff604e0f984dc24be4e01585",
            "placeholder": "​",
            "style": "IPY_MODEL_0a5993230aa9437680a86ac4ed585f30",
            "value": " 21/1000000 [00:00&lt;9:55:22, 27.99it/s]"
          }
        },
        "d03a5259130843bbb2c5f43affeff8de": {
          "model_module": "@jupyter-widgets/base",
          "model_name": "LayoutModel",
          "model_module_version": "1.2.0",
          "state": {
            "_model_module": "@jupyter-widgets/base",
            "_model_module_version": "1.2.0",
            "_model_name": "LayoutModel",
            "_view_count": null,
            "_view_module": "@jupyter-widgets/base",
            "_view_module_version": "1.2.0",
            "_view_name": "LayoutView",
            "align_content": null,
            "align_items": null,
            "align_self": null,
            "border": null,
            "bottom": null,
            "display": null,
            "flex": null,
            "flex_flow": null,
            "grid_area": null,
            "grid_auto_columns": null,
            "grid_auto_flow": null,
            "grid_auto_rows": null,
            "grid_column": null,
            "grid_gap": null,
            "grid_row": null,
            "grid_template_areas": null,
            "grid_template_columns": null,
            "grid_template_rows": null,
            "height": null,
            "justify_content": null,
            "justify_items": null,
            "left": null,
            "margin": null,
            "max_height": null,
            "max_width": null,
            "min_height": null,
            "min_width": null,
            "object_fit": null,
            "object_position": null,
            "order": null,
            "overflow": null,
            "overflow_x": null,
            "overflow_y": null,
            "padding": null,
            "right": null,
            "top": null,
            "visibility": null,
            "width": null
          }
        },
        "52674a00373e4a5892d965097788fe15": {
          "model_module": "@jupyter-widgets/base",
          "model_name": "LayoutModel",
          "model_module_version": "1.2.0",
          "state": {
            "_model_module": "@jupyter-widgets/base",
            "_model_module_version": "1.2.0",
            "_model_name": "LayoutModel",
            "_view_count": null,
            "_view_module": "@jupyter-widgets/base",
            "_view_module_version": "1.2.0",
            "_view_name": "LayoutView",
            "align_content": null,
            "align_items": null,
            "align_self": null,
            "border": null,
            "bottom": null,
            "display": null,
            "flex": null,
            "flex_flow": null,
            "grid_area": null,
            "grid_auto_columns": null,
            "grid_auto_flow": null,
            "grid_auto_rows": null,
            "grid_column": null,
            "grid_gap": null,
            "grid_row": null,
            "grid_template_areas": null,
            "grid_template_columns": null,
            "grid_template_rows": null,
            "height": null,
            "justify_content": null,
            "justify_items": null,
            "left": null,
            "margin": null,
            "max_height": null,
            "max_width": null,
            "min_height": null,
            "min_width": null,
            "object_fit": null,
            "object_position": null,
            "order": null,
            "overflow": null,
            "overflow_x": null,
            "overflow_y": null,
            "padding": null,
            "right": null,
            "top": null,
            "visibility": null,
            "width": null
          }
        },
        "e4a843cf91eb4894a2e2f33fb3d4f758": {
          "model_module": "@jupyter-widgets/controls",
          "model_name": "DescriptionStyleModel",
          "model_module_version": "1.5.0",
          "state": {
            "_model_module": "@jupyter-widgets/controls",
            "_model_module_version": "1.5.0",
            "_model_name": "DescriptionStyleModel",
            "_view_count": null,
            "_view_module": "@jupyter-widgets/base",
            "_view_module_version": "1.2.0",
            "_view_name": "StyleView",
            "description_width": ""
          }
        },
        "01c91be368bc48e08c5974aa54c04b8d": {
          "model_module": "@jupyter-widgets/base",
          "model_name": "LayoutModel",
          "model_module_version": "1.2.0",
          "state": {
            "_model_module": "@jupyter-widgets/base",
            "_model_module_version": "1.2.0",
            "_model_name": "LayoutModel",
            "_view_count": null,
            "_view_module": "@jupyter-widgets/base",
            "_view_module_version": "1.2.0",
            "_view_name": "LayoutView",
            "align_content": null,
            "align_items": null,
            "align_self": null,
            "border": null,
            "bottom": null,
            "display": null,
            "flex": null,
            "flex_flow": null,
            "grid_area": null,
            "grid_auto_columns": null,
            "grid_auto_flow": null,
            "grid_auto_rows": null,
            "grid_column": null,
            "grid_gap": null,
            "grid_row": null,
            "grid_template_areas": null,
            "grid_template_columns": null,
            "grid_template_rows": null,
            "height": null,
            "justify_content": null,
            "justify_items": null,
            "left": null,
            "margin": null,
            "max_height": null,
            "max_width": null,
            "min_height": null,
            "min_width": null,
            "object_fit": null,
            "object_position": null,
            "order": null,
            "overflow": null,
            "overflow_x": null,
            "overflow_y": null,
            "padding": null,
            "right": null,
            "top": null,
            "visibility": null,
            "width": null
          }
        },
        "5ad263ea7c1b4368bf6baa535bdf4e9c": {
          "model_module": "@jupyter-widgets/controls",
          "model_name": "ProgressStyleModel",
          "model_module_version": "1.5.0",
          "state": {
            "_model_module": "@jupyter-widgets/controls",
            "_model_module_version": "1.5.0",
            "_model_name": "ProgressStyleModel",
            "_view_count": null,
            "_view_module": "@jupyter-widgets/base",
            "_view_module_version": "1.2.0",
            "_view_name": "StyleView",
            "bar_color": null,
            "description_width": ""
          }
        },
        "b6b043c3ff604e0f984dc24be4e01585": {
          "model_module": "@jupyter-widgets/base",
          "model_name": "LayoutModel",
          "model_module_version": "1.2.0",
          "state": {
            "_model_module": "@jupyter-widgets/base",
            "_model_module_version": "1.2.0",
            "_model_name": "LayoutModel",
            "_view_count": null,
            "_view_module": "@jupyter-widgets/base",
            "_view_module_version": "1.2.0",
            "_view_name": "LayoutView",
            "align_content": null,
            "align_items": null,
            "align_self": null,
            "border": null,
            "bottom": null,
            "display": null,
            "flex": null,
            "flex_flow": null,
            "grid_area": null,
            "grid_auto_columns": null,
            "grid_auto_flow": null,
            "grid_auto_rows": null,
            "grid_column": null,
            "grid_gap": null,
            "grid_row": null,
            "grid_template_areas": null,
            "grid_template_columns": null,
            "grid_template_rows": null,
            "height": null,
            "justify_content": null,
            "justify_items": null,
            "left": null,
            "margin": null,
            "max_height": null,
            "max_width": null,
            "min_height": null,
            "min_width": null,
            "object_fit": null,
            "object_position": null,
            "order": null,
            "overflow": null,
            "overflow_x": null,
            "overflow_y": null,
            "padding": null,
            "right": null,
            "top": null,
            "visibility": null,
            "width": null
          }
        },
        "0a5993230aa9437680a86ac4ed585f30": {
          "model_module": "@jupyter-widgets/controls",
          "model_name": "DescriptionStyleModel",
          "model_module_version": "1.5.0",
          "state": {
            "_model_module": "@jupyter-widgets/controls",
            "_model_module_version": "1.5.0",
            "_model_name": "DescriptionStyleModel",
            "_view_count": null,
            "_view_module": "@jupyter-widgets/base",
            "_view_module_version": "1.2.0",
            "_view_name": "StyleView",
            "description_width": ""
          }
        },
        "408969e0944a4e8c9cff5b82ac6f1890": {
          "model_module": "@jupyter-widgets/controls",
          "model_name": "HBoxModel",
          "model_module_version": "1.5.0",
          "state": {
            "_dom_classes": [],
            "_model_module": "@jupyter-widgets/controls",
            "_model_module_version": "1.5.0",
            "_model_name": "HBoxModel",
            "_view_count": null,
            "_view_module": "@jupyter-widgets/controls",
            "_view_module_version": "1.5.0",
            "_view_name": "HBoxView",
            "box_style": "",
            "children": [
              "IPY_MODEL_950102b653bd41fea488a05346312820",
              "IPY_MODEL_6d20f328fd284a219fedfdf67ec208f4",
              "IPY_MODEL_5bd4aab5721d484691245c3a34a653f4"
            ],
            "layout": "IPY_MODEL_00ecff8878c542d19fc45492761dea3e"
          }
        },
        "950102b653bd41fea488a05346312820": {
          "model_module": "@jupyter-widgets/controls",
          "model_name": "HTMLModel",
          "model_module_version": "1.5.0",
          "state": {
            "_dom_classes": [],
            "_model_module": "@jupyter-widgets/controls",
            "_model_module_version": "1.5.0",
            "_model_name": "HTMLModel",
            "_view_count": null,
            "_view_module": "@jupyter-widgets/controls",
            "_view_module_version": "1.5.0",
            "_view_name": "HTMLView",
            "description": "",
            "description_tooltip": null,
            "layout": "IPY_MODEL_bee512aa5ae54a82b17498a7f0679b3d",
            "placeholder": "​",
            "style": "IPY_MODEL_1ccff8047a6747779dccc8c071d2e07f",
            "value": "Working for n conditional variables: 5: 100%"
          }
        },
        "6d20f328fd284a219fedfdf67ec208f4": {
          "model_module": "@jupyter-widgets/controls",
          "model_name": "FloatProgressModel",
          "model_module_version": "1.5.0",
          "state": {
            "_dom_classes": [],
            "_model_module": "@jupyter-widgets/controls",
            "_model_module_version": "1.5.0",
            "_model_name": "FloatProgressModel",
            "_view_count": null,
            "_view_module": "@jupyter-widgets/controls",
            "_view_module_version": "1.5.0",
            "_view_name": "ProgressView",
            "bar_style": "success",
            "description": "",
            "description_tooltip": null,
            "layout": "IPY_MODEL_856073082aed459da9ac08aec594099d",
            "max": 5,
            "min": 0,
            "orientation": "horizontal",
            "style": "IPY_MODEL_e65e3c3db13c4269a4548b57f3118545",
            "value": 5
          }
        },
        "5bd4aab5721d484691245c3a34a653f4": {
          "model_module": "@jupyter-widgets/controls",
          "model_name": "HTMLModel",
          "model_module_version": "1.5.0",
          "state": {
            "_dom_classes": [],
            "_model_module": "@jupyter-widgets/controls",
            "_model_module_version": "1.5.0",
            "_model_name": "HTMLModel",
            "_view_count": null,
            "_view_module": "@jupyter-widgets/controls",
            "_view_module_version": "1.5.0",
            "_view_name": "HTMLView",
            "description": "",
            "description_tooltip": null,
            "layout": "IPY_MODEL_0b5249e438cc4e71a058e06725415703",
            "placeholder": "​",
            "style": "IPY_MODEL_ec10be429af84dca9f2b8f9baa057fb7",
            "value": " 5/5 [00:05&lt;00:00,  1.21s/it]"
          }
        },
        "00ecff8878c542d19fc45492761dea3e": {
          "model_module": "@jupyter-widgets/base",
          "model_name": "LayoutModel",
          "model_module_version": "1.2.0",
          "state": {
            "_model_module": "@jupyter-widgets/base",
            "_model_module_version": "1.2.0",
            "_model_name": "LayoutModel",
            "_view_count": null,
            "_view_module": "@jupyter-widgets/base",
            "_view_module_version": "1.2.0",
            "_view_name": "LayoutView",
            "align_content": null,
            "align_items": null,
            "align_self": null,
            "border": null,
            "bottom": null,
            "display": null,
            "flex": null,
            "flex_flow": null,
            "grid_area": null,
            "grid_auto_columns": null,
            "grid_auto_flow": null,
            "grid_auto_rows": null,
            "grid_column": null,
            "grid_gap": null,
            "grid_row": null,
            "grid_template_areas": null,
            "grid_template_columns": null,
            "grid_template_rows": null,
            "height": null,
            "justify_content": null,
            "justify_items": null,
            "left": null,
            "margin": null,
            "max_height": null,
            "max_width": null,
            "min_height": null,
            "min_width": null,
            "object_fit": null,
            "object_position": null,
            "order": null,
            "overflow": null,
            "overflow_x": null,
            "overflow_y": null,
            "padding": null,
            "right": null,
            "top": null,
            "visibility": null,
            "width": null
          }
        },
        "bee512aa5ae54a82b17498a7f0679b3d": {
          "model_module": "@jupyter-widgets/base",
          "model_name": "LayoutModel",
          "model_module_version": "1.2.0",
          "state": {
            "_model_module": "@jupyter-widgets/base",
            "_model_module_version": "1.2.0",
            "_model_name": "LayoutModel",
            "_view_count": null,
            "_view_module": "@jupyter-widgets/base",
            "_view_module_version": "1.2.0",
            "_view_name": "LayoutView",
            "align_content": null,
            "align_items": null,
            "align_self": null,
            "border": null,
            "bottom": null,
            "display": null,
            "flex": null,
            "flex_flow": null,
            "grid_area": null,
            "grid_auto_columns": null,
            "grid_auto_flow": null,
            "grid_auto_rows": null,
            "grid_column": null,
            "grid_gap": null,
            "grid_row": null,
            "grid_template_areas": null,
            "grid_template_columns": null,
            "grid_template_rows": null,
            "height": null,
            "justify_content": null,
            "justify_items": null,
            "left": null,
            "margin": null,
            "max_height": null,
            "max_width": null,
            "min_height": null,
            "min_width": null,
            "object_fit": null,
            "object_position": null,
            "order": null,
            "overflow": null,
            "overflow_x": null,
            "overflow_y": null,
            "padding": null,
            "right": null,
            "top": null,
            "visibility": null,
            "width": null
          }
        },
        "1ccff8047a6747779dccc8c071d2e07f": {
          "model_module": "@jupyter-widgets/controls",
          "model_name": "DescriptionStyleModel",
          "model_module_version": "1.5.0",
          "state": {
            "_model_module": "@jupyter-widgets/controls",
            "_model_module_version": "1.5.0",
            "_model_name": "DescriptionStyleModel",
            "_view_count": null,
            "_view_module": "@jupyter-widgets/base",
            "_view_module_version": "1.2.0",
            "_view_name": "StyleView",
            "description_width": ""
          }
        },
        "856073082aed459da9ac08aec594099d": {
          "model_module": "@jupyter-widgets/base",
          "model_name": "LayoutModel",
          "model_module_version": "1.2.0",
          "state": {
            "_model_module": "@jupyter-widgets/base",
            "_model_module_version": "1.2.0",
            "_model_name": "LayoutModel",
            "_view_count": null,
            "_view_module": "@jupyter-widgets/base",
            "_view_module_version": "1.2.0",
            "_view_name": "LayoutView",
            "align_content": null,
            "align_items": null,
            "align_self": null,
            "border": null,
            "bottom": null,
            "display": null,
            "flex": null,
            "flex_flow": null,
            "grid_area": null,
            "grid_auto_columns": null,
            "grid_auto_flow": null,
            "grid_auto_rows": null,
            "grid_column": null,
            "grid_gap": null,
            "grid_row": null,
            "grid_template_areas": null,
            "grid_template_columns": null,
            "grid_template_rows": null,
            "height": null,
            "justify_content": null,
            "justify_items": null,
            "left": null,
            "margin": null,
            "max_height": null,
            "max_width": null,
            "min_height": null,
            "min_width": null,
            "object_fit": null,
            "object_position": null,
            "order": null,
            "overflow": null,
            "overflow_x": null,
            "overflow_y": null,
            "padding": null,
            "right": null,
            "top": null,
            "visibility": null,
            "width": null
          }
        },
        "e65e3c3db13c4269a4548b57f3118545": {
          "model_module": "@jupyter-widgets/controls",
          "model_name": "ProgressStyleModel",
          "model_module_version": "1.5.0",
          "state": {
            "_model_module": "@jupyter-widgets/controls",
            "_model_module_version": "1.5.0",
            "_model_name": "ProgressStyleModel",
            "_view_count": null,
            "_view_module": "@jupyter-widgets/base",
            "_view_module_version": "1.2.0",
            "_view_name": "StyleView",
            "bar_color": null,
            "description_width": ""
          }
        },
        "0b5249e438cc4e71a058e06725415703": {
          "model_module": "@jupyter-widgets/base",
          "model_name": "LayoutModel",
          "model_module_version": "1.2.0",
          "state": {
            "_model_module": "@jupyter-widgets/base",
            "_model_module_version": "1.2.0",
            "_model_name": "LayoutModel",
            "_view_count": null,
            "_view_module": "@jupyter-widgets/base",
            "_view_module_version": "1.2.0",
            "_view_name": "LayoutView",
            "align_content": null,
            "align_items": null,
            "align_self": null,
            "border": null,
            "bottom": null,
            "display": null,
            "flex": null,
            "flex_flow": null,
            "grid_area": null,
            "grid_auto_columns": null,
            "grid_auto_flow": null,
            "grid_auto_rows": null,
            "grid_column": null,
            "grid_gap": null,
            "grid_row": null,
            "grid_template_areas": null,
            "grid_template_columns": null,
            "grid_template_rows": null,
            "height": null,
            "justify_content": null,
            "justify_items": null,
            "left": null,
            "margin": null,
            "max_height": null,
            "max_width": null,
            "min_height": null,
            "min_width": null,
            "object_fit": null,
            "object_position": null,
            "order": null,
            "overflow": null,
            "overflow_x": null,
            "overflow_y": null,
            "padding": null,
            "right": null,
            "top": null,
            "visibility": null,
            "width": null
          }
        },
        "ec10be429af84dca9f2b8f9baa057fb7": {
          "model_module": "@jupyter-widgets/controls",
          "model_name": "DescriptionStyleModel",
          "model_module_version": "1.5.0",
          "state": {
            "_model_module": "@jupyter-widgets/controls",
            "_model_module_version": "1.5.0",
            "_model_name": "DescriptionStyleModel",
            "_view_count": null,
            "_view_module": "@jupyter-widgets/base",
            "_view_module_version": "1.2.0",
            "_view_name": "StyleView",
            "description_width": ""
          }
        },
        "6c6c2ff73640441bb99d40b286ec5663": {
          "model_module": "@jupyter-widgets/controls",
          "model_name": "HBoxModel",
          "model_module_version": "1.5.0",
          "state": {
            "_dom_classes": [],
            "_model_module": "@jupyter-widgets/controls",
            "_model_module_version": "1.5.0",
            "_model_name": "HBoxModel",
            "_view_count": null,
            "_view_module": "@jupyter-widgets/controls",
            "_view_module_version": "1.5.0",
            "_view_name": "HBoxView",
            "box_style": "",
            "children": [
              "IPY_MODEL_27c6870a257744f395d0e84384e53f72",
              "IPY_MODEL_08c99a5f2ca548c190166bc9801163ca",
              "IPY_MODEL_55b4ccfd9791454ab0382364c68611b1"
            ],
            "layout": "IPY_MODEL_e4ad070cd6054d9e9afeeb3ac394dbe7"
          }
        },
        "27c6870a257744f395d0e84384e53f72": {
          "model_module": "@jupyter-widgets/controls",
          "model_name": "HTMLModel",
          "model_module_version": "1.5.0",
          "state": {
            "_dom_classes": [],
            "_model_module": "@jupyter-widgets/controls",
            "_model_module_version": "1.5.0",
            "_model_name": "HTMLModel",
            "_view_count": null,
            "_view_module": "@jupyter-widgets/controls",
            "_view_module_version": "1.5.0",
            "_view_name": "HTMLView",
            "description": "",
            "description_tooltip": null,
            "layout": "IPY_MODEL_a5f85f018fbc4907be0e51946716ea87",
            "placeholder": "​",
            "style": "IPY_MODEL_bc616665c39b484f9f5cd9b0c2c2ce48",
            "value": "Working for n conditional variables: 5: 100%"
          }
        },
        "08c99a5f2ca548c190166bc9801163ca": {
          "model_module": "@jupyter-widgets/controls",
          "model_name": "FloatProgressModel",
          "model_module_version": "1.5.0",
          "state": {
            "_dom_classes": [],
            "_model_module": "@jupyter-widgets/controls",
            "_model_module_version": "1.5.0",
            "_model_name": "FloatProgressModel",
            "_view_count": null,
            "_view_module": "@jupyter-widgets/controls",
            "_view_module_version": "1.5.0",
            "_view_name": "ProgressView",
            "bar_style": "success",
            "description": "",
            "description_tooltip": null,
            "layout": "IPY_MODEL_6da2a85ea59245afb6b16483b79c36e7",
            "max": 5,
            "min": 0,
            "orientation": "horizontal",
            "style": "IPY_MODEL_8bbb14dd619a4df4b3fee2b01412af91",
            "value": 5
          }
        },
        "55b4ccfd9791454ab0382364c68611b1": {
          "model_module": "@jupyter-widgets/controls",
          "model_name": "HTMLModel",
          "model_module_version": "1.5.0",
          "state": {
            "_dom_classes": [],
            "_model_module": "@jupyter-widgets/controls",
            "_model_module_version": "1.5.0",
            "_model_name": "HTMLModel",
            "_view_count": null,
            "_view_module": "@jupyter-widgets/controls",
            "_view_module_version": "1.5.0",
            "_view_name": "HTMLView",
            "description": "",
            "description_tooltip": null,
            "layout": "IPY_MODEL_538ba83576a44e0ea98c4fa1973f4aef",
            "placeholder": "​",
            "style": "IPY_MODEL_00ecd704673d4e4a9be5dee90cecbece",
            "value": " 5/5 [00:07&lt;00:00,  1.54s/it]"
          }
        },
        "e4ad070cd6054d9e9afeeb3ac394dbe7": {
          "model_module": "@jupyter-widgets/base",
          "model_name": "LayoutModel",
          "model_module_version": "1.2.0",
          "state": {
            "_model_module": "@jupyter-widgets/base",
            "_model_module_version": "1.2.0",
            "_model_name": "LayoutModel",
            "_view_count": null,
            "_view_module": "@jupyter-widgets/base",
            "_view_module_version": "1.2.0",
            "_view_name": "LayoutView",
            "align_content": null,
            "align_items": null,
            "align_self": null,
            "border": null,
            "bottom": null,
            "display": null,
            "flex": null,
            "flex_flow": null,
            "grid_area": null,
            "grid_auto_columns": null,
            "grid_auto_flow": null,
            "grid_auto_rows": null,
            "grid_column": null,
            "grid_gap": null,
            "grid_row": null,
            "grid_template_areas": null,
            "grid_template_columns": null,
            "grid_template_rows": null,
            "height": null,
            "justify_content": null,
            "justify_items": null,
            "left": null,
            "margin": null,
            "max_height": null,
            "max_width": null,
            "min_height": null,
            "min_width": null,
            "object_fit": null,
            "object_position": null,
            "order": null,
            "overflow": null,
            "overflow_x": null,
            "overflow_y": null,
            "padding": null,
            "right": null,
            "top": null,
            "visibility": null,
            "width": null
          }
        },
        "a5f85f018fbc4907be0e51946716ea87": {
          "model_module": "@jupyter-widgets/base",
          "model_name": "LayoutModel",
          "model_module_version": "1.2.0",
          "state": {
            "_model_module": "@jupyter-widgets/base",
            "_model_module_version": "1.2.0",
            "_model_name": "LayoutModel",
            "_view_count": null,
            "_view_module": "@jupyter-widgets/base",
            "_view_module_version": "1.2.0",
            "_view_name": "LayoutView",
            "align_content": null,
            "align_items": null,
            "align_self": null,
            "border": null,
            "bottom": null,
            "display": null,
            "flex": null,
            "flex_flow": null,
            "grid_area": null,
            "grid_auto_columns": null,
            "grid_auto_flow": null,
            "grid_auto_rows": null,
            "grid_column": null,
            "grid_gap": null,
            "grid_row": null,
            "grid_template_areas": null,
            "grid_template_columns": null,
            "grid_template_rows": null,
            "height": null,
            "justify_content": null,
            "justify_items": null,
            "left": null,
            "margin": null,
            "max_height": null,
            "max_width": null,
            "min_height": null,
            "min_width": null,
            "object_fit": null,
            "object_position": null,
            "order": null,
            "overflow": null,
            "overflow_x": null,
            "overflow_y": null,
            "padding": null,
            "right": null,
            "top": null,
            "visibility": null,
            "width": null
          }
        },
        "bc616665c39b484f9f5cd9b0c2c2ce48": {
          "model_module": "@jupyter-widgets/controls",
          "model_name": "DescriptionStyleModel",
          "model_module_version": "1.5.0",
          "state": {
            "_model_module": "@jupyter-widgets/controls",
            "_model_module_version": "1.5.0",
            "_model_name": "DescriptionStyleModel",
            "_view_count": null,
            "_view_module": "@jupyter-widgets/base",
            "_view_module_version": "1.2.0",
            "_view_name": "StyleView",
            "description_width": ""
          }
        },
        "6da2a85ea59245afb6b16483b79c36e7": {
          "model_module": "@jupyter-widgets/base",
          "model_name": "LayoutModel",
          "model_module_version": "1.2.0",
          "state": {
            "_model_module": "@jupyter-widgets/base",
            "_model_module_version": "1.2.0",
            "_model_name": "LayoutModel",
            "_view_count": null,
            "_view_module": "@jupyter-widgets/base",
            "_view_module_version": "1.2.0",
            "_view_name": "LayoutView",
            "align_content": null,
            "align_items": null,
            "align_self": null,
            "border": null,
            "bottom": null,
            "display": null,
            "flex": null,
            "flex_flow": null,
            "grid_area": null,
            "grid_auto_columns": null,
            "grid_auto_flow": null,
            "grid_auto_rows": null,
            "grid_column": null,
            "grid_gap": null,
            "grid_row": null,
            "grid_template_areas": null,
            "grid_template_columns": null,
            "grid_template_rows": null,
            "height": null,
            "justify_content": null,
            "justify_items": null,
            "left": null,
            "margin": null,
            "max_height": null,
            "max_width": null,
            "min_height": null,
            "min_width": null,
            "object_fit": null,
            "object_position": null,
            "order": null,
            "overflow": null,
            "overflow_x": null,
            "overflow_y": null,
            "padding": null,
            "right": null,
            "top": null,
            "visibility": null,
            "width": null
          }
        },
        "8bbb14dd619a4df4b3fee2b01412af91": {
          "model_module": "@jupyter-widgets/controls",
          "model_name": "ProgressStyleModel",
          "model_module_version": "1.5.0",
          "state": {
            "_model_module": "@jupyter-widgets/controls",
            "_model_module_version": "1.5.0",
            "_model_name": "ProgressStyleModel",
            "_view_count": null,
            "_view_module": "@jupyter-widgets/base",
            "_view_module_version": "1.2.0",
            "_view_name": "StyleView",
            "bar_color": null,
            "description_width": ""
          }
        },
        "538ba83576a44e0ea98c4fa1973f4aef": {
          "model_module": "@jupyter-widgets/base",
          "model_name": "LayoutModel",
          "model_module_version": "1.2.0",
          "state": {
            "_model_module": "@jupyter-widgets/base",
            "_model_module_version": "1.2.0",
            "_model_name": "LayoutModel",
            "_view_count": null,
            "_view_module": "@jupyter-widgets/base",
            "_view_module_version": "1.2.0",
            "_view_name": "LayoutView",
            "align_content": null,
            "align_items": null,
            "align_self": null,
            "border": null,
            "bottom": null,
            "display": null,
            "flex": null,
            "flex_flow": null,
            "grid_area": null,
            "grid_auto_columns": null,
            "grid_auto_flow": null,
            "grid_auto_rows": null,
            "grid_column": null,
            "grid_gap": null,
            "grid_row": null,
            "grid_template_areas": null,
            "grid_template_columns": null,
            "grid_template_rows": null,
            "height": null,
            "justify_content": null,
            "justify_items": null,
            "left": null,
            "margin": null,
            "max_height": null,
            "max_width": null,
            "min_height": null,
            "min_width": null,
            "object_fit": null,
            "object_position": null,
            "order": null,
            "overflow": null,
            "overflow_x": null,
            "overflow_y": null,
            "padding": null,
            "right": null,
            "top": null,
            "visibility": null,
            "width": null
          }
        },
        "00ecd704673d4e4a9be5dee90cecbece": {
          "model_module": "@jupyter-widgets/controls",
          "model_name": "DescriptionStyleModel",
          "model_module_version": "1.5.0",
          "state": {
            "_model_module": "@jupyter-widgets/controls",
            "_model_module_version": "1.5.0",
            "_model_name": "DescriptionStyleModel",
            "_view_count": null,
            "_view_module": "@jupyter-widgets/base",
            "_view_module_version": "1.2.0",
            "_view_name": "StyleView",
            "description_width": ""
          }
        },
        "e5c4269e904748ecbe81fb804d818cb8": {
          "model_module": "@jupyter-widgets/controls",
          "model_name": "HBoxModel",
          "model_module_version": "1.5.0",
          "state": {
            "_dom_classes": [],
            "_model_module": "@jupyter-widgets/controls",
            "_model_module_version": "1.5.0",
            "_model_name": "HBoxModel",
            "_view_count": null,
            "_view_module": "@jupyter-widgets/controls",
            "_view_module_version": "1.5.0",
            "_view_name": "HBoxView",
            "box_style": "",
            "children": [
              "IPY_MODEL_b64e098e46aa45b5b46523fc96771b9c",
              "IPY_MODEL_b286f266a8314a64aa999a5a92183225",
              "IPY_MODEL_1e38aa579c52482c90adcc4530420508"
            ],
            "layout": "IPY_MODEL_5b2903f3f12d4e73bbce06a4fe7a4339"
          }
        },
        "b64e098e46aa45b5b46523fc96771b9c": {
          "model_module": "@jupyter-widgets/controls",
          "model_name": "HTMLModel",
          "model_module_version": "1.5.0",
          "state": {
            "_dom_classes": [],
            "_model_module": "@jupyter-widgets/controls",
            "_model_module_version": "1.5.0",
            "_model_name": "HTMLModel",
            "_view_count": null,
            "_view_module": "@jupyter-widgets/controls",
            "_view_module_version": "1.5.0",
            "_view_name": "HTMLView",
            "description": "",
            "description_tooltip": null,
            "layout": "IPY_MODEL_de2842bab15745c886c509ab2c1209c4",
            "placeholder": "​",
            "style": "IPY_MODEL_8d9793d5523446329bd0349a752f77c2",
            "value": "Working for n conditional variables: 5: 100%"
          }
        },
        "b286f266a8314a64aa999a5a92183225": {
          "model_module": "@jupyter-widgets/controls",
          "model_name": "FloatProgressModel",
          "model_module_version": "1.5.0",
          "state": {
            "_dom_classes": [],
            "_model_module": "@jupyter-widgets/controls",
            "_model_module_version": "1.5.0",
            "_model_name": "FloatProgressModel",
            "_view_count": null,
            "_view_module": "@jupyter-widgets/controls",
            "_view_module_version": "1.5.0",
            "_view_name": "ProgressView",
            "bar_style": "success",
            "description": "",
            "description_tooltip": null,
            "layout": "IPY_MODEL_88768cd1448d4cd8af10a976e31c3ac1",
            "max": 5,
            "min": 0,
            "orientation": "horizontal",
            "style": "IPY_MODEL_4fe20bcac9f54957a12d8820a47bb6a2",
            "value": 5
          }
        },
        "1e38aa579c52482c90adcc4530420508": {
          "model_module": "@jupyter-widgets/controls",
          "model_name": "HTMLModel",
          "model_module_version": "1.5.0",
          "state": {
            "_dom_classes": [],
            "_model_module": "@jupyter-widgets/controls",
            "_model_module_version": "1.5.0",
            "_model_name": "HTMLModel",
            "_view_count": null,
            "_view_module": "@jupyter-widgets/controls",
            "_view_module_version": "1.5.0",
            "_view_name": "HTMLView",
            "description": "",
            "description_tooltip": null,
            "layout": "IPY_MODEL_ad69639ed8354e31a595f3112514bfdf",
            "placeholder": "​",
            "style": "IPY_MODEL_21ec2c60fc4a4247ba09d97152441cad",
            "value": " 5/5 [00:06&lt;00:00,  1.33s/it]"
          }
        },
        "5b2903f3f12d4e73bbce06a4fe7a4339": {
          "model_module": "@jupyter-widgets/base",
          "model_name": "LayoutModel",
          "model_module_version": "1.2.0",
          "state": {
            "_model_module": "@jupyter-widgets/base",
            "_model_module_version": "1.2.0",
            "_model_name": "LayoutModel",
            "_view_count": null,
            "_view_module": "@jupyter-widgets/base",
            "_view_module_version": "1.2.0",
            "_view_name": "LayoutView",
            "align_content": null,
            "align_items": null,
            "align_self": null,
            "border": null,
            "bottom": null,
            "display": null,
            "flex": null,
            "flex_flow": null,
            "grid_area": null,
            "grid_auto_columns": null,
            "grid_auto_flow": null,
            "grid_auto_rows": null,
            "grid_column": null,
            "grid_gap": null,
            "grid_row": null,
            "grid_template_areas": null,
            "grid_template_columns": null,
            "grid_template_rows": null,
            "height": null,
            "justify_content": null,
            "justify_items": null,
            "left": null,
            "margin": null,
            "max_height": null,
            "max_width": null,
            "min_height": null,
            "min_width": null,
            "object_fit": null,
            "object_position": null,
            "order": null,
            "overflow": null,
            "overflow_x": null,
            "overflow_y": null,
            "padding": null,
            "right": null,
            "top": null,
            "visibility": null,
            "width": null
          }
        },
        "de2842bab15745c886c509ab2c1209c4": {
          "model_module": "@jupyter-widgets/base",
          "model_name": "LayoutModel",
          "model_module_version": "1.2.0",
          "state": {
            "_model_module": "@jupyter-widgets/base",
            "_model_module_version": "1.2.0",
            "_model_name": "LayoutModel",
            "_view_count": null,
            "_view_module": "@jupyter-widgets/base",
            "_view_module_version": "1.2.0",
            "_view_name": "LayoutView",
            "align_content": null,
            "align_items": null,
            "align_self": null,
            "border": null,
            "bottom": null,
            "display": null,
            "flex": null,
            "flex_flow": null,
            "grid_area": null,
            "grid_auto_columns": null,
            "grid_auto_flow": null,
            "grid_auto_rows": null,
            "grid_column": null,
            "grid_gap": null,
            "grid_row": null,
            "grid_template_areas": null,
            "grid_template_columns": null,
            "grid_template_rows": null,
            "height": null,
            "justify_content": null,
            "justify_items": null,
            "left": null,
            "margin": null,
            "max_height": null,
            "max_width": null,
            "min_height": null,
            "min_width": null,
            "object_fit": null,
            "object_position": null,
            "order": null,
            "overflow": null,
            "overflow_x": null,
            "overflow_y": null,
            "padding": null,
            "right": null,
            "top": null,
            "visibility": null,
            "width": null
          }
        },
        "8d9793d5523446329bd0349a752f77c2": {
          "model_module": "@jupyter-widgets/controls",
          "model_name": "DescriptionStyleModel",
          "model_module_version": "1.5.0",
          "state": {
            "_model_module": "@jupyter-widgets/controls",
            "_model_module_version": "1.5.0",
            "_model_name": "DescriptionStyleModel",
            "_view_count": null,
            "_view_module": "@jupyter-widgets/base",
            "_view_module_version": "1.2.0",
            "_view_name": "StyleView",
            "description_width": ""
          }
        },
        "88768cd1448d4cd8af10a976e31c3ac1": {
          "model_module": "@jupyter-widgets/base",
          "model_name": "LayoutModel",
          "model_module_version": "1.2.0",
          "state": {
            "_model_module": "@jupyter-widgets/base",
            "_model_module_version": "1.2.0",
            "_model_name": "LayoutModel",
            "_view_count": null,
            "_view_module": "@jupyter-widgets/base",
            "_view_module_version": "1.2.0",
            "_view_name": "LayoutView",
            "align_content": null,
            "align_items": null,
            "align_self": null,
            "border": null,
            "bottom": null,
            "display": null,
            "flex": null,
            "flex_flow": null,
            "grid_area": null,
            "grid_auto_columns": null,
            "grid_auto_flow": null,
            "grid_auto_rows": null,
            "grid_column": null,
            "grid_gap": null,
            "grid_row": null,
            "grid_template_areas": null,
            "grid_template_columns": null,
            "grid_template_rows": null,
            "height": null,
            "justify_content": null,
            "justify_items": null,
            "left": null,
            "margin": null,
            "max_height": null,
            "max_width": null,
            "min_height": null,
            "min_width": null,
            "object_fit": null,
            "object_position": null,
            "order": null,
            "overflow": null,
            "overflow_x": null,
            "overflow_y": null,
            "padding": null,
            "right": null,
            "top": null,
            "visibility": null,
            "width": null
          }
        },
        "4fe20bcac9f54957a12d8820a47bb6a2": {
          "model_module": "@jupyter-widgets/controls",
          "model_name": "ProgressStyleModel",
          "model_module_version": "1.5.0",
          "state": {
            "_model_module": "@jupyter-widgets/controls",
            "_model_module_version": "1.5.0",
            "_model_name": "ProgressStyleModel",
            "_view_count": null,
            "_view_module": "@jupyter-widgets/base",
            "_view_module_version": "1.2.0",
            "_view_name": "StyleView",
            "bar_color": null,
            "description_width": ""
          }
        },
        "ad69639ed8354e31a595f3112514bfdf": {
          "model_module": "@jupyter-widgets/base",
          "model_name": "LayoutModel",
          "model_module_version": "1.2.0",
          "state": {
            "_model_module": "@jupyter-widgets/base",
            "_model_module_version": "1.2.0",
            "_model_name": "LayoutModel",
            "_view_count": null,
            "_view_module": "@jupyter-widgets/base",
            "_view_module_version": "1.2.0",
            "_view_name": "LayoutView",
            "align_content": null,
            "align_items": null,
            "align_self": null,
            "border": null,
            "bottom": null,
            "display": null,
            "flex": null,
            "flex_flow": null,
            "grid_area": null,
            "grid_auto_columns": null,
            "grid_auto_flow": null,
            "grid_auto_rows": null,
            "grid_column": null,
            "grid_gap": null,
            "grid_row": null,
            "grid_template_areas": null,
            "grid_template_columns": null,
            "grid_template_rows": null,
            "height": null,
            "justify_content": null,
            "justify_items": null,
            "left": null,
            "margin": null,
            "max_height": null,
            "max_width": null,
            "min_height": null,
            "min_width": null,
            "object_fit": null,
            "object_position": null,
            "order": null,
            "overflow": null,
            "overflow_x": null,
            "overflow_y": null,
            "padding": null,
            "right": null,
            "top": null,
            "visibility": null,
            "width": null
          }
        },
        "21ec2c60fc4a4247ba09d97152441cad": {
          "model_module": "@jupyter-widgets/controls",
          "model_name": "DescriptionStyleModel",
          "model_module_version": "1.5.0",
          "state": {
            "_model_module": "@jupyter-widgets/controls",
            "_model_module_version": "1.5.0",
            "_model_name": "DescriptionStyleModel",
            "_view_count": null,
            "_view_module": "@jupyter-widgets/base",
            "_view_module_version": "1.2.0",
            "_view_name": "StyleView",
            "description_width": ""
          }
        },
        "56e4b63bbb754d4e8bbbe6e1411bf92a": {
          "model_module": "@jupyter-widgets/controls",
          "model_name": "HBoxModel",
          "model_module_version": "1.5.0",
          "state": {
            "_dom_classes": [],
            "_model_module": "@jupyter-widgets/controls",
            "_model_module_version": "1.5.0",
            "_model_name": "HBoxModel",
            "_view_count": null,
            "_view_module": "@jupyter-widgets/controls",
            "_view_module_version": "1.5.0",
            "_view_name": "HBoxView",
            "box_style": "",
            "children": [
              "IPY_MODEL_3fdd2951729845d2a23371e00b61bed7",
              "IPY_MODEL_699c323fb0554d85b3ac82868df014f1",
              "IPY_MODEL_68b47ddc33474fe4a423f5f70cf0efc4"
            ],
            "layout": "IPY_MODEL_e1973536539d49e99849ef42dff92b29"
          }
        },
        "3fdd2951729845d2a23371e00b61bed7": {
          "model_module": "@jupyter-widgets/controls",
          "model_name": "HTMLModel",
          "model_module_version": "1.5.0",
          "state": {
            "_dom_classes": [],
            "_model_module": "@jupyter-widgets/controls",
            "_model_module_version": "1.5.0",
            "_model_name": "HTMLModel",
            "_view_count": null,
            "_view_module": "@jupyter-widgets/controls",
            "_view_module_version": "1.5.0",
            "_view_name": "HTMLView",
            "description": "",
            "description_tooltip": null,
            "layout": "IPY_MODEL_09dd887dc8bd4ab796e8f0941bbb19f0",
            "placeholder": "​",
            "style": "IPY_MODEL_c0ab2f5201f043b189f3ae2e4df56ace",
            "value": "Working for n conditional variables: 5: 100%"
          }
        },
        "699c323fb0554d85b3ac82868df014f1": {
          "model_module": "@jupyter-widgets/controls",
          "model_name": "FloatProgressModel",
          "model_module_version": "1.5.0",
          "state": {
            "_dom_classes": [],
            "_model_module": "@jupyter-widgets/controls",
            "_model_module_version": "1.5.0",
            "_model_name": "FloatProgressModel",
            "_view_count": null,
            "_view_module": "@jupyter-widgets/controls",
            "_view_module_version": "1.5.0",
            "_view_name": "ProgressView",
            "bar_style": "success",
            "description": "",
            "description_tooltip": null,
            "layout": "IPY_MODEL_a409117df51748ce9617623577f930db",
            "max": 5,
            "min": 0,
            "orientation": "horizontal",
            "style": "IPY_MODEL_80417cc078e64973a1a0708e3d607fd7",
            "value": 5
          }
        },
        "68b47ddc33474fe4a423f5f70cf0efc4": {
          "model_module": "@jupyter-widgets/controls",
          "model_name": "HTMLModel",
          "model_module_version": "1.5.0",
          "state": {
            "_dom_classes": [],
            "_model_module": "@jupyter-widgets/controls",
            "_model_module_version": "1.5.0",
            "_model_name": "HTMLModel",
            "_view_count": null,
            "_view_module": "@jupyter-widgets/controls",
            "_view_module_version": "1.5.0",
            "_view_name": "HTMLView",
            "description": "",
            "description_tooltip": null,
            "layout": "IPY_MODEL_bc2161ea20e940ca99554dd122d3963d",
            "placeholder": "​",
            "style": "IPY_MODEL_d5f9bcbd45864d0a959231da39c7adda",
            "value": " 5/5 [00:05&lt;00:00,  1.19s/it]"
          }
        },
        "e1973536539d49e99849ef42dff92b29": {
          "model_module": "@jupyter-widgets/base",
          "model_name": "LayoutModel",
          "model_module_version": "1.2.0",
          "state": {
            "_model_module": "@jupyter-widgets/base",
            "_model_module_version": "1.2.0",
            "_model_name": "LayoutModel",
            "_view_count": null,
            "_view_module": "@jupyter-widgets/base",
            "_view_module_version": "1.2.0",
            "_view_name": "LayoutView",
            "align_content": null,
            "align_items": null,
            "align_self": null,
            "border": null,
            "bottom": null,
            "display": null,
            "flex": null,
            "flex_flow": null,
            "grid_area": null,
            "grid_auto_columns": null,
            "grid_auto_flow": null,
            "grid_auto_rows": null,
            "grid_column": null,
            "grid_gap": null,
            "grid_row": null,
            "grid_template_areas": null,
            "grid_template_columns": null,
            "grid_template_rows": null,
            "height": null,
            "justify_content": null,
            "justify_items": null,
            "left": null,
            "margin": null,
            "max_height": null,
            "max_width": null,
            "min_height": null,
            "min_width": null,
            "object_fit": null,
            "object_position": null,
            "order": null,
            "overflow": null,
            "overflow_x": null,
            "overflow_y": null,
            "padding": null,
            "right": null,
            "top": null,
            "visibility": null,
            "width": null
          }
        },
        "09dd887dc8bd4ab796e8f0941bbb19f0": {
          "model_module": "@jupyter-widgets/base",
          "model_name": "LayoutModel",
          "model_module_version": "1.2.0",
          "state": {
            "_model_module": "@jupyter-widgets/base",
            "_model_module_version": "1.2.0",
            "_model_name": "LayoutModel",
            "_view_count": null,
            "_view_module": "@jupyter-widgets/base",
            "_view_module_version": "1.2.0",
            "_view_name": "LayoutView",
            "align_content": null,
            "align_items": null,
            "align_self": null,
            "border": null,
            "bottom": null,
            "display": null,
            "flex": null,
            "flex_flow": null,
            "grid_area": null,
            "grid_auto_columns": null,
            "grid_auto_flow": null,
            "grid_auto_rows": null,
            "grid_column": null,
            "grid_gap": null,
            "grid_row": null,
            "grid_template_areas": null,
            "grid_template_columns": null,
            "grid_template_rows": null,
            "height": null,
            "justify_content": null,
            "justify_items": null,
            "left": null,
            "margin": null,
            "max_height": null,
            "max_width": null,
            "min_height": null,
            "min_width": null,
            "object_fit": null,
            "object_position": null,
            "order": null,
            "overflow": null,
            "overflow_x": null,
            "overflow_y": null,
            "padding": null,
            "right": null,
            "top": null,
            "visibility": null,
            "width": null
          }
        },
        "c0ab2f5201f043b189f3ae2e4df56ace": {
          "model_module": "@jupyter-widgets/controls",
          "model_name": "DescriptionStyleModel",
          "model_module_version": "1.5.0",
          "state": {
            "_model_module": "@jupyter-widgets/controls",
            "_model_module_version": "1.5.0",
            "_model_name": "DescriptionStyleModel",
            "_view_count": null,
            "_view_module": "@jupyter-widgets/base",
            "_view_module_version": "1.2.0",
            "_view_name": "StyleView",
            "description_width": ""
          }
        },
        "a409117df51748ce9617623577f930db": {
          "model_module": "@jupyter-widgets/base",
          "model_name": "LayoutModel",
          "model_module_version": "1.2.0",
          "state": {
            "_model_module": "@jupyter-widgets/base",
            "_model_module_version": "1.2.0",
            "_model_name": "LayoutModel",
            "_view_count": null,
            "_view_module": "@jupyter-widgets/base",
            "_view_module_version": "1.2.0",
            "_view_name": "LayoutView",
            "align_content": null,
            "align_items": null,
            "align_self": null,
            "border": null,
            "bottom": null,
            "display": null,
            "flex": null,
            "flex_flow": null,
            "grid_area": null,
            "grid_auto_columns": null,
            "grid_auto_flow": null,
            "grid_auto_rows": null,
            "grid_column": null,
            "grid_gap": null,
            "grid_row": null,
            "grid_template_areas": null,
            "grid_template_columns": null,
            "grid_template_rows": null,
            "height": null,
            "justify_content": null,
            "justify_items": null,
            "left": null,
            "margin": null,
            "max_height": null,
            "max_width": null,
            "min_height": null,
            "min_width": null,
            "object_fit": null,
            "object_position": null,
            "order": null,
            "overflow": null,
            "overflow_x": null,
            "overflow_y": null,
            "padding": null,
            "right": null,
            "top": null,
            "visibility": null,
            "width": null
          }
        },
        "80417cc078e64973a1a0708e3d607fd7": {
          "model_module": "@jupyter-widgets/controls",
          "model_name": "ProgressStyleModel",
          "model_module_version": "1.5.0",
          "state": {
            "_model_module": "@jupyter-widgets/controls",
            "_model_module_version": "1.5.0",
            "_model_name": "ProgressStyleModel",
            "_view_count": null,
            "_view_module": "@jupyter-widgets/base",
            "_view_module_version": "1.2.0",
            "_view_name": "StyleView",
            "bar_color": null,
            "description_width": ""
          }
        },
        "bc2161ea20e940ca99554dd122d3963d": {
          "model_module": "@jupyter-widgets/base",
          "model_name": "LayoutModel",
          "model_module_version": "1.2.0",
          "state": {
            "_model_module": "@jupyter-widgets/base",
            "_model_module_version": "1.2.0",
            "_model_name": "LayoutModel",
            "_view_count": null,
            "_view_module": "@jupyter-widgets/base",
            "_view_module_version": "1.2.0",
            "_view_name": "LayoutView",
            "align_content": null,
            "align_items": null,
            "align_self": null,
            "border": null,
            "bottom": null,
            "display": null,
            "flex": null,
            "flex_flow": null,
            "grid_area": null,
            "grid_auto_columns": null,
            "grid_auto_flow": null,
            "grid_auto_rows": null,
            "grid_column": null,
            "grid_gap": null,
            "grid_row": null,
            "grid_template_areas": null,
            "grid_template_columns": null,
            "grid_template_rows": null,
            "height": null,
            "justify_content": null,
            "justify_items": null,
            "left": null,
            "margin": null,
            "max_height": null,
            "max_width": null,
            "min_height": null,
            "min_width": null,
            "object_fit": null,
            "object_position": null,
            "order": null,
            "overflow": null,
            "overflow_x": null,
            "overflow_y": null,
            "padding": null,
            "right": null,
            "top": null,
            "visibility": null,
            "width": null
          }
        },
        "d5f9bcbd45864d0a959231da39c7adda": {
          "model_module": "@jupyter-widgets/controls",
          "model_name": "DescriptionStyleModel",
          "model_module_version": "1.5.0",
          "state": {
            "_model_module": "@jupyter-widgets/controls",
            "_model_module_version": "1.5.0",
            "_model_name": "DescriptionStyleModel",
            "_view_count": null,
            "_view_module": "@jupyter-widgets/base",
            "_view_module_version": "1.2.0",
            "_view_name": "StyleView",
            "description_width": ""
          }
        },
        "cc230498651947a78a4840e3f802c4ce": {
          "model_module": "@jupyter-widgets/controls",
          "model_name": "HBoxModel",
          "model_module_version": "1.5.0",
          "state": {
            "_dom_classes": [],
            "_model_module": "@jupyter-widgets/controls",
            "_model_module_version": "1.5.0",
            "_model_name": "HBoxModel",
            "_view_count": null,
            "_view_module": "@jupyter-widgets/controls",
            "_view_module_version": "1.5.0",
            "_view_name": "HBoxView",
            "box_style": "",
            "children": [
              "IPY_MODEL_180d44ea2ed44d99a425da42a040c513",
              "IPY_MODEL_6c3e538ddced42e88f9145c16b47fee3",
              "IPY_MODEL_e557523e718c4d31b0c28833ba3bc418"
            ],
            "layout": "IPY_MODEL_0ef8b0c8a6d14e2d9c897ef7e042bfa6"
          }
        },
        "180d44ea2ed44d99a425da42a040c513": {
          "model_module": "@jupyter-widgets/controls",
          "model_name": "HTMLModel",
          "model_module_version": "1.5.0",
          "state": {
            "_dom_classes": [],
            "_model_module": "@jupyter-widgets/controls",
            "_model_module_version": "1.5.0",
            "_model_name": "HTMLModel",
            "_view_count": null,
            "_view_module": "@jupyter-widgets/controls",
            "_view_module_version": "1.5.0",
            "_view_name": "HTMLView",
            "description": "",
            "description_tooltip": null,
            "layout": "IPY_MODEL_be1f7867f50c4cb19652437229f48eae",
            "placeholder": "​",
            "style": "IPY_MODEL_232245f08e4e4960ae5e3486e2f4a5b1",
            "value": "Working for n conditional variables: 5: 100%"
          }
        },
        "6c3e538ddced42e88f9145c16b47fee3": {
          "model_module": "@jupyter-widgets/controls",
          "model_name": "FloatProgressModel",
          "model_module_version": "1.5.0",
          "state": {
            "_dom_classes": [],
            "_model_module": "@jupyter-widgets/controls",
            "_model_module_version": "1.5.0",
            "_model_name": "FloatProgressModel",
            "_view_count": null,
            "_view_module": "@jupyter-widgets/controls",
            "_view_module_version": "1.5.0",
            "_view_name": "ProgressView",
            "bar_style": "success",
            "description": "",
            "description_tooltip": null,
            "layout": "IPY_MODEL_575269e8bce84f56a18ad31ebab1fd05",
            "max": 5,
            "min": 0,
            "orientation": "horizontal",
            "style": "IPY_MODEL_fbd5e7a18b02415597b885c6ef421cb9",
            "value": 5
          }
        },
        "e557523e718c4d31b0c28833ba3bc418": {
          "model_module": "@jupyter-widgets/controls",
          "model_name": "HTMLModel",
          "model_module_version": "1.5.0",
          "state": {
            "_dom_classes": [],
            "_model_module": "@jupyter-widgets/controls",
            "_model_module_version": "1.5.0",
            "_model_name": "HTMLModel",
            "_view_count": null,
            "_view_module": "@jupyter-widgets/controls",
            "_view_module_version": "1.5.0",
            "_view_name": "HTMLView",
            "description": "",
            "description_tooltip": null,
            "layout": "IPY_MODEL_254d28c40f534e4584dbb00315cd99bd",
            "placeholder": "​",
            "style": "IPY_MODEL_0c21b336dbf5447da6c127a7181106e5",
            "value": " 5/5 [00:07&lt;00:00,  1.46s/it]"
          }
        },
        "0ef8b0c8a6d14e2d9c897ef7e042bfa6": {
          "model_module": "@jupyter-widgets/base",
          "model_name": "LayoutModel",
          "model_module_version": "1.2.0",
          "state": {
            "_model_module": "@jupyter-widgets/base",
            "_model_module_version": "1.2.0",
            "_model_name": "LayoutModel",
            "_view_count": null,
            "_view_module": "@jupyter-widgets/base",
            "_view_module_version": "1.2.0",
            "_view_name": "LayoutView",
            "align_content": null,
            "align_items": null,
            "align_self": null,
            "border": null,
            "bottom": null,
            "display": null,
            "flex": null,
            "flex_flow": null,
            "grid_area": null,
            "grid_auto_columns": null,
            "grid_auto_flow": null,
            "grid_auto_rows": null,
            "grid_column": null,
            "grid_gap": null,
            "grid_row": null,
            "grid_template_areas": null,
            "grid_template_columns": null,
            "grid_template_rows": null,
            "height": null,
            "justify_content": null,
            "justify_items": null,
            "left": null,
            "margin": null,
            "max_height": null,
            "max_width": null,
            "min_height": null,
            "min_width": null,
            "object_fit": null,
            "object_position": null,
            "order": null,
            "overflow": null,
            "overflow_x": null,
            "overflow_y": null,
            "padding": null,
            "right": null,
            "top": null,
            "visibility": null,
            "width": null
          }
        },
        "be1f7867f50c4cb19652437229f48eae": {
          "model_module": "@jupyter-widgets/base",
          "model_name": "LayoutModel",
          "model_module_version": "1.2.0",
          "state": {
            "_model_module": "@jupyter-widgets/base",
            "_model_module_version": "1.2.0",
            "_model_name": "LayoutModel",
            "_view_count": null,
            "_view_module": "@jupyter-widgets/base",
            "_view_module_version": "1.2.0",
            "_view_name": "LayoutView",
            "align_content": null,
            "align_items": null,
            "align_self": null,
            "border": null,
            "bottom": null,
            "display": null,
            "flex": null,
            "flex_flow": null,
            "grid_area": null,
            "grid_auto_columns": null,
            "grid_auto_flow": null,
            "grid_auto_rows": null,
            "grid_column": null,
            "grid_gap": null,
            "grid_row": null,
            "grid_template_areas": null,
            "grid_template_columns": null,
            "grid_template_rows": null,
            "height": null,
            "justify_content": null,
            "justify_items": null,
            "left": null,
            "margin": null,
            "max_height": null,
            "max_width": null,
            "min_height": null,
            "min_width": null,
            "object_fit": null,
            "object_position": null,
            "order": null,
            "overflow": null,
            "overflow_x": null,
            "overflow_y": null,
            "padding": null,
            "right": null,
            "top": null,
            "visibility": null,
            "width": null
          }
        },
        "232245f08e4e4960ae5e3486e2f4a5b1": {
          "model_module": "@jupyter-widgets/controls",
          "model_name": "DescriptionStyleModel",
          "model_module_version": "1.5.0",
          "state": {
            "_model_module": "@jupyter-widgets/controls",
            "_model_module_version": "1.5.0",
            "_model_name": "DescriptionStyleModel",
            "_view_count": null,
            "_view_module": "@jupyter-widgets/base",
            "_view_module_version": "1.2.0",
            "_view_name": "StyleView",
            "description_width": ""
          }
        },
        "575269e8bce84f56a18ad31ebab1fd05": {
          "model_module": "@jupyter-widgets/base",
          "model_name": "LayoutModel",
          "model_module_version": "1.2.0",
          "state": {
            "_model_module": "@jupyter-widgets/base",
            "_model_module_version": "1.2.0",
            "_model_name": "LayoutModel",
            "_view_count": null,
            "_view_module": "@jupyter-widgets/base",
            "_view_module_version": "1.2.0",
            "_view_name": "LayoutView",
            "align_content": null,
            "align_items": null,
            "align_self": null,
            "border": null,
            "bottom": null,
            "display": null,
            "flex": null,
            "flex_flow": null,
            "grid_area": null,
            "grid_auto_columns": null,
            "grid_auto_flow": null,
            "grid_auto_rows": null,
            "grid_column": null,
            "grid_gap": null,
            "grid_row": null,
            "grid_template_areas": null,
            "grid_template_columns": null,
            "grid_template_rows": null,
            "height": null,
            "justify_content": null,
            "justify_items": null,
            "left": null,
            "margin": null,
            "max_height": null,
            "max_width": null,
            "min_height": null,
            "min_width": null,
            "object_fit": null,
            "object_position": null,
            "order": null,
            "overflow": null,
            "overflow_x": null,
            "overflow_y": null,
            "padding": null,
            "right": null,
            "top": null,
            "visibility": null,
            "width": null
          }
        },
        "fbd5e7a18b02415597b885c6ef421cb9": {
          "model_module": "@jupyter-widgets/controls",
          "model_name": "ProgressStyleModel",
          "model_module_version": "1.5.0",
          "state": {
            "_model_module": "@jupyter-widgets/controls",
            "_model_module_version": "1.5.0",
            "_model_name": "ProgressStyleModel",
            "_view_count": null,
            "_view_module": "@jupyter-widgets/base",
            "_view_module_version": "1.2.0",
            "_view_name": "StyleView",
            "bar_color": null,
            "description_width": ""
          }
        },
        "254d28c40f534e4584dbb00315cd99bd": {
          "model_module": "@jupyter-widgets/base",
          "model_name": "LayoutModel",
          "model_module_version": "1.2.0",
          "state": {
            "_model_module": "@jupyter-widgets/base",
            "_model_module_version": "1.2.0",
            "_model_name": "LayoutModel",
            "_view_count": null,
            "_view_module": "@jupyter-widgets/base",
            "_view_module_version": "1.2.0",
            "_view_name": "LayoutView",
            "align_content": null,
            "align_items": null,
            "align_self": null,
            "border": null,
            "bottom": null,
            "display": null,
            "flex": null,
            "flex_flow": null,
            "grid_area": null,
            "grid_auto_columns": null,
            "grid_auto_flow": null,
            "grid_auto_rows": null,
            "grid_column": null,
            "grid_gap": null,
            "grid_row": null,
            "grid_template_areas": null,
            "grid_template_columns": null,
            "grid_template_rows": null,
            "height": null,
            "justify_content": null,
            "justify_items": null,
            "left": null,
            "margin": null,
            "max_height": null,
            "max_width": null,
            "min_height": null,
            "min_width": null,
            "object_fit": null,
            "object_position": null,
            "order": null,
            "overflow": null,
            "overflow_x": null,
            "overflow_y": null,
            "padding": null,
            "right": null,
            "top": null,
            "visibility": null,
            "width": null
          }
        },
        "0c21b336dbf5447da6c127a7181106e5": {
          "model_module": "@jupyter-widgets/controls",
          "model_name": "DescriptionStyleModel",
          "model_module_version": "1.5.0",
          "state": {
            "_model_module": "@jupyter-widgets/controls",
            "_model_module_version": "1.5.0",
            "_model_name": "DescriptionStyleModel",
            "_view_count": null,
            "_view_module": "@jupyter-widgets/base",
            "_view_module_version": "1.2.0",
            "_view_name": "StyleView",
            "description_width": ""
          }
        },
        "9a564819daac4bd9828073733c63d1e1": {
          "model_module": "@jupyter-widgets/controls",
          "model_name": "HBoxModel",
          "model_module_version": "1.5.0",
          "state": {
            "_dom_classes": [],
            "_model_module": "@jupyter-widgets/controls",
            "_model_module_version": "1.5.0",
            "_model_name": "HBoxModel",
            "_view_count": null,
            "_view_module": "@jupyter-widgets/controls",
            "_view_module_version": "1.5.0",
            "_view_name": "HBoxView",
            "box_style": "",
            "children": [
              "IPY_MODEL_876d4ac7fe3945ecaca6266d512c16c5",
              "IPY_MODEL_3240fb44cf9b45e285cab00c131684a3",
              "IPY_MODEL_0c8f5cef1de04d20abb6644082b3b108"
            ],
            "layout": "IPY_MODEL_cbb29847b70b45378a86bcb5e481354f"
          }
        },
        "876d4ac7fe3945ecaca6266d512c16c5": {
          "model_module": "@jupyter-widgets/controls",
          "model_name": "HTMLModel",
          "model_module_version": "1.5.0",
          "state": {
            "_dom_classes": [],
            "_model_module": "@jupyter-widgets/controls",
            "_model_module_version": "1.5.0",
            "_model_name": "HTMLModel",
            "_view_count": null,
            "_view_module": "@jupyter-widgets/controls",
            "_view_module_version": "1.5.0",
            "_view_name": "HTMLView",
            "description": "",
            "description_tooltip": null,
            "layout": "IPY_MODEL_e2619b59093f4685ae17351c033fe56f",
            "placeholder": "​",
            "style": "IPY_MODEL_4baa5077097e427aafbefa369dc7badb",
            "value": "Working for n conditional variables: 5: 100%"
          }
        },
        "3240fb44cf9b45e285cab00c131684a3": {
          "model_module": "@jupyter-widgets/controls",
          "model_name": "FloatProgressModel",
          "model_module_version": "1.5.0",
          "state": {
            "_dom_classes": [],
            "_model_module": "@jupyter-widgets/controls",
            "_model_module_version": "1.5.0",
            "_model_name": "FloatProgressModel",
            "_view_count": null,
            "_view_module": "@jupyter-widgets/controls",
            "_view_module_version": "1.5.0",
            "_view_name": "ProgressView",
            "bar_style": "success",
            "description": "",
            "description_tooltip": null,
            "layout": "IPY_MODEL_2c6ef54e07f4436f9236bfd61ae1f31b",
            "max": 5,
            "min": 0,
            "orientation": "horizontal",
            "style": "IPY_MODEL_89d77579c37348b89ff72886107c6223",
            "value": 5
          }
        },
        "0c8f5cef1de04d20abb6644082b3b108": {
          "model_module": "@jupyter-widgets/controls",
          "model_name": "HTMLModel",
          "model_module_version": "1.5.0",
          "state": {
            "_dom_classes": [],
            "_model_module": "@jupyter-widgets/controls",
            "_model_module_version": "1.5.0",
            "_model_name": "HTMLModel",
            "_view_count": null,
            "_view_module": "@jupyter-widgets/controls",
            "_view_module_version": "1.5.0",
            "_view_name": "HTMLView",
            "description": "",
            "description_tooltip": null,
            "layout": "IPY_MODEL_7a32dfe2e5be402bb884936c78e2903d",
            "placeholder": "​",
            "style": "IPY_MODEL_08b5d15228e7410cba6af5637415dda4",
            "value": " 5/5 [00:05&lt;00:00,  1.23s/it]"
          }
        },
        "cbb29847b70b45378a86bcb5e481354f": {
          "model_module": "@jupyter-widgets/base",
          "model_name": "LayoutModel",
          "model_module_version": "1.2.0",
          "state": {
            "_model_module": "@jupyter-widgets/base",
            "_model_module_version": "1.2.0",
            "_model_name": "LayoutModel",
            "_view_count": null,
            "_view_module": "@jupyter-widgets/base",
            "_view_module_version": "1.2.0",
            "_view_name": "LayoutView",
            "align_content": null,
            "align_items": null,
            "align_self": null,
            "border": null,
            "bottom": null,
            "display": null,
            "flex": null,
            "flex_flow": null,
            "grid_area": null,
            "grid_auto_columns": null,
            "grid_auto_flow": null,
            "grid_auto_rows": null,
            "grid_column": null,
            "grid_gap": null,
            "grid_row": null,
            "grid_template_areas": null,
            "grid_template_columns": null,
            "grid_template_rows": null,
            "height": null,
            "justify_content": null,
            "justify_items": null,
            "left": null,
            "margin": null,
            "max_height": null,
            "max_width": null,
            "min_height": null,
            "min_width": null,
            "object_fit": null,
            "object_position": null,
            "order": null,
            "overflow": null,
            "overflow_x": null,
            "overflow_y": null,
            "padding": null,
            "right": null,
            "top": null,
            "visibility": null,
            "width": null
          }
        },
        "e2619b59093f4685ae17351c033fe56f": {
          "model_module": "@jupyter-widgets/base",
          "model_name": "LayoutModel",
          "model_module_version": "1.2.0",
          "state": {
            "_model_module": "@jupyter-widgets/base",
            "_model_module_version": "1.2.0",
            "_model_name": "LayoutModel",
            "_view_count": null,
            "_view_module": "@jupyter-widgets/base",
            "_view_module_version": "1.2.0",
            "_view_name": "LayoutView",
            "align_content": null,
            "align_items": null,
            "align_self": null,
            "border": null,
            "bottom": null,
            "display": null,
            "flex": null,
            "flex_flow": null,
            "grid_area": null,
            "grid_auto_columns": null,
            "grid_auto_flow": null,
            "grid_auto_rows": null,
            "grid_column": null,
            "grid_gap": null,
            "grid_row": null,
            "grid_template_areas": null,
            "grid_template_columns": null,
            "grid_template_rows": null,
            "height": null,
            "justify_content": null,
            "justify_items": null,
            "left": null,
            "margin": null,
            "max_height": null,
            "max_width": null,
            "min_height": null,
            "min_width": null,
            "object_fit": null,
            "object_position": null,
            "order": null,
            "overflow": null,
            "overflow_x": null,
            "overflow_y": null,
            "padding": null,
            "right": null,
            "top": null,
            "visibility": null,
            "width": null
          }
        },
        "4baa5077097e427aafbefa369dc7badb": {
          "model_module": "@jupyter-widgets/controls",
          "model_name": "DescriptionStyleModel",
          "model_module_version": "1.5.0",
          "state": {
            "_model_module": "@jupyter-widgets/controls",
            "_model_module_version": "1.5.0",
            "_model_name": "DescriptionStyleModel",
            "_view_count": null,
            "_view_module": "@jupyter-widgets/base",
            "_view_module_version": "1.2.0",
            "_view_name": "StyleView",
            "description_width": ""
          }
        },
        "2c6ef54e07f4436f9236bfd61ae1f31b": {
          "model_module": "@jupyter-widgets/base",
          "model_name": "LayoutModel",
          "model_module_version": "1.2.0",
          "state": {
            "_model_module": "@jupyter-widgets/base",
            "_model_module_version": "1.2.0",
            "_model_name": "LayoutModel",
            "_view_count": null,
            "_view_module": "@jupyter-widgets/base",
            "_view_module_version": "1.2.0",
            "_view_name": "LayoutView",
            "align_content": null,
            "align_items": null,
            "align_self": null,
            "border": null,
            "bottom": null,
            "display": null,
            "flex": null,
            "flex_flow": null,
            "grid_area": null,
            "grid_auto_columns": null,
            "grid_auto_flow": null,
            "grid_auto_rows": null,
            "grid_column": null,
            "grid_gap": null,
            "grid_row": null,
            "grid_template_areas": null,
            "grid_template_columns": null,
            "grid_template_rows": null,
            "height": null,
            "justify_content": null,
            "justify_items": null,
            "left": null,
            "margin": null,
            "max_height": null,
            "max_width": null,
            "min_height": null,
            "min_width": null,
            "object_fit": null,
            "object_position": null,
            "order": null,
            "overflow": null,
            "overflow_x": null,
            "overflow_y": null,
            "padding": null,
            "right": null,
            "top": null,
            "visibility": null,
            "width": null
          }
        },
        "89d77579c37348b89ff72886107c6223": {
          "model_module": "@jupyter-widgets/controls",
          "model_name": "ProgressStyleModel",
          "model_module_version": "1.5.0",
          "state": {
            "_model_module": "@jupyter-widgets/controls",
            "_model_module_version": "1.5.0",
            "_model_name": "ProgressStyleModel",
            "_view_count": null,
            "_view_module": "@jupyter-widgets/base",
            "_view_module_version": "1.2.0",
            "_view_name": "StyleView",
            "bar_color": null,
            "description_width": ""
          }
        },
        "7a32dfe2e5be402bb884936c78e2903d": {
          "model_module": "@jupyter-widgets/base",
          "model_name": "LayoutModel",
          "model_module_version": "1.2.0",
          "state": {
            "_model_module": "@jupyter-widgets/base",
            "_model_module_version": "1.2.0",
            "_model_name": "LayoutModel",
            "_view_count": null,
            "_view_module": "@jupyter-widgets/base",
            "_view_module_version": "1.2.0",
            "_view_name": "LayoutView",
            "align_content": null,
            "align_items": null,
            "align_self": null,
            "border": null,
            "bottom": null,
            "display": null,
            "flex": null,
            "flex_flow": null,
            "grid_area": null,
            "grid_auto_columns": null,
            "grid_auto_flow": null,
            "grid_auto_rows": null,
            "grid_column": null,
            "grid_gap": null,
            "grid_row": null,
            "grid_template_areas": null,
            "grid_template_columns": null,
            "grid_template_rows": null,
            "height": null,
            "justify_content": null,
            "justify_items": null,
            "left": null,
            "margin": null,
            "max_height": null,
            "max_width": null,
            "min_height": null,
            "min_width": null,
            "object_fit": null,
            "object_position": null,
            "order": null,
            "overflow": null,
            "overflow_x": null,
            "overflow_y": null,
            "padding": null,
            "right": null,
            "top": null,
            "visibility": null,
            "width": null
          }
        },
        "08b5d15228e7410cba6af5637415dda4": {
          "model_module": "@jupyter-widgets/controls",
          "model_name": "DescriptionStyleModel",
          "model_module_version": "1.5.0",
          "state": {
            "_model_module": "@jupyter-widgets/controls",
            "_model_module_version": "1.5.0",
            "_model_name": "DescriptionStyleModel",
            "_view_count": null,
            "_view_module": "@jupyter-widgets/base",
            "_view_module_version": "1.2.0",
            "_view_name": "StyleView",
            "description_width": ""
          }
        },
        "64d9d046bf8a4022a7cbc7f50001a842": {
          "model_module": "@jupyter-widgets/controls",
          "model_name": "HBoxModel",
          "model_module_version": "1.5.0",
          "state": {
            "_dom_classes": [],
            "_model_module": "@jupyter-widgets/controls",
            "_model_module_version": "1.5.0",
            "_model_name": "HBoxModel",
            "_view_count": null,
            "_view_module": "@jupyter-widgets/controls",
            "_view_module_version": "1.5.0",
            "_view_name": "HBoxView",
            "box_style": "",
            "children": [
              "IPY_MODEL_56d32797a2eb4a73953ecf0b4cd09842",
              "IPY_MODEL_00d85cf1319a45f48fda007415216d69",
              "IPY_MODEL_6f5eb3b18d1e4593bd7b9e7f33ab9db4"
            ],
            "layout": "IPY_MODEL_a90064ff5ed643b8ad10549e63f114f2"
          }
        },
        "56d32797a2eb4a73953ecf0b4cd09842": {
          "model_module": "@jupyter-widgets/controls",
          "model_name": "HTMLModel",
          "model_module_version": "1.5.0",
          "state": {
            "_dom_classes": [],
            "_model_module": "@jupyter-widgets/controls",
            "_model_module_version": "1.5.0",
            "_model_name": "HTMLModel",
            "_view_count": null,
            "_view_module": "@jupyter-widgets/controls",
            "_view_module_version": "1.5.0",
            "_view_name": "HTMLView",
            "description": "",
            "description_tooltip": null,
            "layout": "IPY_MODEL_786c29ef9e6f43bc8d5870bc5674948b",
            "placeholder": "​",
            "style": "IPY_MODEL_499ed2aa33ee48328d6af51c019c7b15",
            "value": "Generating for node: dysp: 100%"
          }
        },
        "00d85cf1319a45f48fda007415216d69": {
          "model_module": "@jupyter-widgets/controls",
          "model_name": "FloatProgressModel",
          "model_module_version": "1.5.0",
          "state": {
            "_dom_classes": [],
            "_model_module": "@jupyter-widgets/controls",
            "_model_module_version": "1.5.0",
            "_model_name": "FloatProgressModel",
            "_view_count": null,
            "_view_module": "@jupyter-widgets/controls",
            "_view_module_version": "1.5.0",
            "_view_name": "ProgressView",
            "bar_style": "success",
            "description": "",
            "description_tooltip": null,
            "layout": "IPY_MODEL_eb2de55ff58640ce8746b8f5b57d0555",
            "max": 8,
            "min": 0,
            "orientation": "horizontal",
            "style": "IPY_MODEL_d065615d14ce40c6b6704616a11ba4f9",
            "value": 8
          }
        },
        "6f5eb3b18d1e4593bd7b9e7f33ab9db4": {
          "model_module": "@jupyter-widgets/controls",
          "model_name": "HTMLModel",
          "model_module_version": "1.5.0",
          "state": {
            "_dom_classes": [],
            "_model_module": "@jupyter-widgets/controls",
            "_model_module_version": "1.5.0",
            "_model_name": "HTMLModel",
            "_view_count": null,
            "_view_module": "@jupyter-widgets/controls",
            "_view_module_version": "1.5.0",
            "_view_name": "HTMLView",
            "description": "",
            "description_tooltip": null,
            "layout": "IPY_MODEL_333f6a0d9cc84334b94b7c565dcb8267",
            "placeholder": "​",
            "style": "IPY_MODEL_8d2bd1e722264716b01d1614c4175ddc",
            "value": " 8/8 [00:00&lt;00:00, 37.96it/s]"
          }
        },
        "a90064ff5ed643b8ad10549e63f114f2": {
          "model_module": "@jupyter-widgets/base",
          "model_name": "LayoutModel",
          "model_module_version": "1.2.0",
          "state": {
            "_model_module": "@jupyter-widgets/base",
            "_model_module_version": "1.2.0",
            "_model_name": "LayoutModel",
            "_view_count": null,
            "_view_module": "@jupyter-widgets/base",
            "_view_module_version": "1.2.0",
            "_view_name": "LayoutView",
            "align_content": null,
            "align_items": null,
            "align_self": null,
            "border": null,
            "bottom": null,
            "display": null,
            "flex": null,
            "flex_flow": null,
            "grid_area": null,
            "grid_auto_columns": null,
            "grid_auto_flow": null,
            "grid_auto_rows": null,
            "grid_column": null,
            "grid_gap": null,
            "grid_row": null,
            "grid_template_areas": null,
            "grid_template_columns": null,
            "grid_template_rows": null,
            "height": null,
            "justify_content": null,
            "justify_items": null,
            "left": null,
            "margin": null,
            "max_height": null,
            "max_width": null,
            "min_height": null,
            "min_width": null,
            "object_fit": null,
            "object_position": null,
            "order": null,
            "overflow": null,
            "overflow_x": null,
            "overflow_y": null,
            "padding": null,
            "right": null,
            "top": null,
            "visibility": null,
            "width": null
          }
        },
        "786c29ef9e6f43bc8d5870bc5674948b": {
          "model_module": "@jupyter-widgets/base",
          "model_name": "LayoutModel",
          "model_module_version": "1.2.0",
          "state": {
            "_model_module": "@jupyter-widgets/base",
            "_model_module_version": "1.2.0",
            "_model_name": "LayoutModel",
            "_view_count": null,
            "_view_module": "@jupyter-widgets/base",
            "_view_module_version": "1.2.0",
            "_view_name": "LayoutView",
            "align_content": null,
            "align_items": null,
            "align_self": null,
            "border": null,
            "bottom": null,
            "display": null,
            "flex": null,
            "flex_flow": null,
            "grid_area": null,
            "grid_auto_columns": null,
            "grid_auto_flow": null,
            "grid_auto_rows": null,
            "grid_column": null,
            "grid_gap": null,
            "grid_row": null,
            "grid_template_areas": null,
            "grid_template_columns": null,
            "grid_template_rows": null,
            "height": null,
            "justify_content": null,
            "justify_items": null,
            "left": null,
            "margin": null,
            "max_height": null,
            "max_width": null,
            "min_height": null,
            "min_width": null,
            "object_fit": null,
            "object_position": null,
            "order": null,
            "overflow": null,
            "overflow_x": null,
            "overflow_y": null,
            "padding": null,
            "right": null,
            "top": null,
            "visibility": null,
            "width": null
          }
        },
        "499ed2aa33ee48328d6af51c019c7b15": {
          "model_module": "@jupyter-widgets/controls",
          "model_name": "DescriptionStyleModel",
          "model_module_version": "1.5.0",
          "state": {
            "_model_module": "@jupyter-widgets/controls",
            "_model_module_version": "1.5.0",
            "_model_name": "DescriptionStyleModel",
            "_view_count": null,
            "_view_module": "@jupyter-widgets/base",
            "_view_module_version": "1.2.0",
            "_view_name": "StyleView",
            "description_width": ""
          }
        },
        "eb2de55ff58640ce8746b8f5b57d0555": {
          "model_module": "@jupyter-widgets/base",
          "model_name": "LayoutModel",
          "model_module_version": "1.2.0",
          "state": {
            "_model_module": "@jupyter-widgets/base",
            "_model_module_version": "1.2.0",
            "_model_name": "LayoutModel",
            "_view_count": null,
            "_view_module": "@jupyter-widgets/base",
            "_view_module_version": "1.2.0",
            "_view_name": "LayoutView",
            "align_content": null,
            "align_items": null,
            "align_self": null,
            "border": null,
            "bottom": null,
            "display": null,
            "flex": null,
            "flex_flow": null,
            "grid_area": null,
            "grid_auto_columns": null,
            "grid_auto_flow": null,
            "grid_auto_rows": null,
            "grid_column": null,
            "grid_gap": null,
            "grid_row": null,
            "grid_template_areas": null,
            "grid_template_columns": null,
            "grid_template_rows": null,
            "height": null,
            "justify_content": null,
            "justify_items": null,
            "left": null,
            "margin": null,
            "max_height": null,
            "max_width": null,
            "min_height": null,
            "min_width": null,
            "object_fit": null,
            "object_position": null,
            "order": null,
            "overflow": null,
            "overflow_x": null,
            "overflow_y": null,
            "padding": null,
            "right": null,
            "top": null,
            "visibility": null,
            "width": null
          }
        },
        "d065615d14ce40c6b6704616a11ba4f9": {
          "model_module": "@jupyter-widgets/controls",
          "model_name": "ProgressStyleModel",
          "model_module_version": "1.5.0",
          "state": {
            "_model_module": "@jupyter-widgets/controls",
            "_model_module_version": "1.5.0",
            "_model_name": "ProgressStyleModel",
            "_view_count": null,
            "_view_module": "@jupyter-widgets/base",
            "_view_module_version": "1.2.0",
            "_view_name": "StyleView",
            "bar_color": null,
            "description_width": ""
          }
        },
        "333f6a0d9cc84334b94b7c565dcb8267": {
          "model_module": "@jupyter-widgets/base",
          "model_name": "LayoutModel",
          "model_module_version": "1.2.0",
          "state": {
            "_model_module": "@jupyter-widgets/base",
            "_model_module_version": "1.2.0",
            "_model_name": "LayoutModel",
            "_view_count": null,
            "_view_module": "@jupyter-widgets/base",
            "_view_module_version": "1.2.0",
            "_view_name": "LayoutView",
            "align_content": null,
            "align_items": null,
            "align_self": null,
            "border": null,
            "bottom": null,
            "display": null,
            "flex": null,
            "flex_flow": null,
            "grid_area": null,
            "grid_auto_columns": null,
            "grid_auto_flow": null,
            "grid_auto_rows": null,
            "grid_column": null,
            "grid_gap": null,
            "grid_row": null,
            "grid_template_areas": null,
            "grid_template_columns": null,
            "grid_template_rows": null,
            "height": null,
            "justify_content": null,
            "justify_items": null,
            "left": null,
            "margin": null,
            "max_height": null,
            "max_width": null,
            "min_height": null,
            "min_width": null,
            "object_fit": null,
            "object_position": null,
            "order": null,
            "overflow": null,
            "overflow_x": null,
            "overflow_y": null,
            "padding": null,
            "right": null,
            "top": null,
            "visibility": null,
            "width": null
          }
        },
        "8d2bd1e722264716b01d1614c4175ddc": {
          "model_module": "@jupyter-widgets/controls",
          "model_name": "DescriptionStyleModel",
          "model_module_version": "1.5.0",
          "state": {
            "_model_module": "@jupyter-widgets/controls",
            "_model_module_version": "1.5.0",
            "_model_name": "DescriptionStyleModel",
            "_view_count": null,
            "_view_module": "@jupyter-widgets/base",
            "_view_module_version": "1.2.0",
            "_view_name": "StyleView",
            "description_width": ""
          }
        }
      }
    }
  },
  "cells": [
    {
      "cell_type": "markdown",
      "metadata": {
        "id": "view-in-github",
        "colab_type": "text"
      },
      "source": [
        "<a href=\"https://colab.research.google.com/github/PriGith/DataMining2/blob/main/notebooks/Assignment3_Priyanka.ipynb\" target=\"_parent\"><img src=\"https://colab.research.google.com/assets/colab-badge.svg\" alt=\"Open In Colab\"/></a>"
      ]
    },
    {
      "cell_type": "markdown",
      "source": [
        "**Assignment 3**\n",
        "\n"
      ],
      "metadata": {
        "id": "Mwu1sIKt0_YD"
      }
    },
    {
      "cell_type": "markdown",
      "source": [
        " **Submitted By: Priyanka Gandhi**\n"
      ],
      "metadata": {
        "id": "-fXr8avu1RlS"
      }
    },
    {
      "cell_type": "markdown",
      "source": [
        "**Language: Python**"
      ],
      "metadata": {
        "id": "E9B04x951fWE"
      }
    },
    {
      "cell_type": "markdown",
      "source": [
        "**Importing necessary packages**"
      ],
      "metadata": {
        "id": "4HGvLBiJ6irx"
      }
    },
    {
      "cell_type": "code",
      "source": [
        "import pandas as pd\n",
        "import numpy as np\n",
        "import matplotlib.pyplot as plt\n",
        "import seaborn as sns\n",
        "import sklearn as skl"
      ],
      "metadata": {
        "id": "_Jt8euuAgrt7"
      },
      "execution_count": 26,
      "outputs": []
    },
    {
      "cell_type": "code",
      "source": [
        "from google.colab import files\n",
        "uploaded = files.upload()"
      ],
      "metadata": {
        "colab": {
          "resources": {
            "http://localhost:8080/nbextensions/google.colab/files.js": {
              "data": "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",
              "ok": true,
              "headers": [
                [
                  "content-type",
                  "application/javascript"
                ]
              ],
              "status": 200,
              "status_text": ""
            }
          },
          "base_uri": "https://localhost:8080/",
          "height": 73
        },
        "id": "8OgPGCJ5gzoi",
        "outputId": "37dded49-02b6-4544-d52f-ea0b5c283a37"
      },
      "execution_count": 27,
      "outputs": [
        {
          "output_type": "display_data",
          "data": {
            "text/plain": [
              "<IPython.core.display.HTML object>"
            ],
            "text/html": [
              "\n",
              "     <input type=\"file\" id=\"files-42d8768b-9043-4ee9-88a7-211b01d055c5\" name=\"files[]\" multiple disabled\n",
              "        style=\"border:none\" />\n",
              "     <output id=\"result-42d8768b-9043-4ee9-88a7-211b01d055c5\">\n",
              "      Upload widget is only available when the cell has been executed in the\n",
              "      current browser session. Please rerun this cell to enable.\n",
              "      </output>\n",
              "      <script src=\"/nbextensions/google.colab/files.js\"></script> "
            ]
          },
          "metadata": {}
        },
        {
          "output_type": "stream",
          "name": "stdout",
          "text": [
            "Saving large.csv to large (1).csv\n"
          ]
        }
      ]
    },
    {
      "cell_type": "markdown",
      "source": [
        "Reading the CSV File"
      ],
      "metadata": {
        "id": "LrEyPAWz1syo"
      }
    },
    {
      "cell_type": "code",
      "source": [
        "import io\n",
        "df = pd.read_csv(io.BytesIO(uploaded['large.csv']))\n",
        "# Dataset is now stored in a Pandas Dataframe"
      ],
      "metadata": {
        "id": "xvTQqBk2g2Kq"
      },
      "execution_count": 28,
      "outputs": []
    },
    {
      "cell_type": "code",
      "source": [
        "df"
      ],
      "metadata": {
        "colab": {
          "base_uri": "https://localhost:8080/",
          "height": 424
        },
        "id": "1eoEwiMYhsBW",
        "outputId": "d0e19405-3e36-4796-c4c4-dee7ebe539e9"
      },
      "execution_count": 29,
      "outputs": [
        {
          "output_type": "execute_result",
          "data": {
            "text/plain": [
              "      N1  N2  N4  N16  N39  N3\n",
              "0      1   1   2    1    1   2\n",
              "1      2   2   2    1    1   1\n",
              "2      1   1   1    1    1   1\n",
              "3      2   2   2    1    1   1\n",
              "4      2   2   2    1    1   2\n",
              "...   ..  ..  ..  ...  ...  ..\n",
              "9995   1   1   2    1    1   1\n",
              "9996   1   1   1    2    1   1\n",
              "9997   1   1   1    2    2   2\n",
              "9998   1   1   1    2    1   2\n",
              "9999   2   2   2    1    1   2\n",
              "\n",
              "[10000 rows x 6 columns]"
            ],
            "text/html": [
              "\n",
              "  <div id=\"df-bc89dd49-8819-4bc5-8971-9fb5c9f7f564\">\n",
              "    <div class=\"colab-df-container\">\n",
              "      <div>\n",
              "<style scoped>\n",
              "    .dataframe tbody tr th:only-of-type {\n",
              "        vertical-align: middle;\n",
              "    }\n",
              "\n",
              "    .dataframe tbody tr th {\n",
              "        vertical-align: top;\n",
              "    }\n",
              "\n",
              "    .dataframe thead th {\n",
              "        text-align: right;\n",
              "    }\n",
              "</style>\n",
              "<table border=\"1\" class=\"dataframe\">\n",
              "  <thead>\n",
              "    <tr style=\"text-align: right;\">\n",
              "      <th></th>\n",
              "      <th>N1</th>\n",
              "      <th>N2</th>\n",
              "      <th>N4</th>\n",
              "      <th>N16</th>\n",
              "      <th>N39</th>\n",
              "      <th>N3</th>\n",
              "    </tr>\n",
              "  </thead>\n",
              "  <tbody>\n",
              "    <tr>\n",
              "      <th>0</th>\n",
              "      <td>1</td>\n",
              "      <td>1</td>\n",
              "      <td>2</td>\n",
              "      <td>1</td>\n",
              "      <td>1</td>\n",
              "      <td>2</td>\n",
              "    </tr>\n",
              "    <tr>\n",
              "      <th>1</th>\n",
              "      <td>2</td>\n",
              "      <td>2</td>\n",
              "      <td>2</td>\n",
              "      <td>1</td>\n",
              "      <td>1</td>\n",
              "      <td>1</td>\n",
              "    </tr>\n",
              "    <tr>\n",
              "      <th>2</th>\n",
              "      <td>1</td>\n",
              "      <td>1</td>\n",
              "      <td>1</td>\n",
              "      <td>1</td>\n",
              "      <td>1</td>\n",
              "      <td>1</td>\n",
              "    </tr>\n",
              "    <tr>\n",
              "      <th>3</th>\n",
              "      <td>2</td>\n",
              "      <td>2</td>\n",
              "      <td>2</td>\n",
              "      <td>1</td>\n",
              "      <td>1</td>\n",
              "      <td>1</td>\n",
              "    </tr>\n",
              "    <tr>\n",
              "      <th>4</th>\n",
              "      <td>2</td>\n",
              "      <td>2</td>\n",
              "      <td>2</td>\n",
              "      <td>1</td>\n",
              "      <td>1</td>\n",
              "      <td>2</td>\n",
              "    </tr>\n",
              "    <tr>\n",
              "      <th>...</th>\n",
              "      <td>...</td>\n",
              "      <td>...</td>\n",
              "      <td>...</td>\n",
              "      <td>...</td>\n",
              "      <td>...</td>\n",
              "      <td>...</td>\n",
              "    </tr>\n",
              "    <tr>\n",
              "      <th>9995</th>\n",
              "      <td>1</td>\n",
              "      <td>1</td>\n",
              "      <td>2</td>\n",
              "      <td>1</td>\n",
              "      <td>1</td>\n",
              "      <td>1</td>\n",
              "    </tr>\n",
              "    <tr>\n",
              "      <th>9996</th>\n",
              "      <td>1</td>\n",
              "      <td>1</td>\n",
              "      <td>1</td>\n",
              "      <td>2</td>\n",
              "      <td>1</td>\n",
              "      <td>1</td>\n",
              "    </tr>\n",
              "    <tr>\n",
              "      <th>9997</th>\n",
              "      <td>1</td>\n",
              "      <td>1</td>\n",
              "      <td>1</td>\n",
              "      <td>2</td>\n",
              "      <td>2</td>\n",
              "      <td>2</td>\n",
              "    </tr>\n",
              "    <tr>\n",
              "      <th>9998</th>\n",
              "      <td>1</td>\n",
              "      <td>1</td>\n",
              "      <td>1</td>\n",
              "      <td>2</td>\n",
              "      <td>1</td>\n",
              "      <td>2</td>\n",
              "    </tr>\n",
              "    <tr>\n",
              "      <th>9999</th>\n",
              "      <td>2</td>\n",
              "      <td>2</td>\n",
              "      <td>2</td>\n",
              "      <td>1</td>\n",
              "      <td>1</td>\n",
              "      <td>2</td>\n",
              "    </tr>\n",
              "  </tbody>\n",
              "</table>\n",
              "<p>10000 rows × 6 columns</p>\n",
              "</div>\n",
              "      <button class=\"colab-df-convert\" onclick=\"convertToInteractive('df-bc89dd49-8819-4bc5-8971-9fb5c9f7f564')\"\n",
              "              title=\"Convert this dataframe to an interactive table.\"\n",
              "              style=\"display:none;\">\n",
              "        \n",
              "  <svg xmlns=\"http://www.w3.org/2000/svg\" height=\"24px\"viewBox=\"0 0 24 24\"\n",
              "       width=\"24px\">\n",
              "    <path d=\"M0 0h24v24H0V0z\" fill=\"none\"/>\n",
              "    <path d=\"M18.56 5.44l.94 2.06.94-2.06 2.06-.94-2.06-.94-.94-2.06-.94 2.06-2.06.94zm-11 1L8.5 8.5l.94-2.06 2.06-.94-2.06-.94L8.5 2.5l-.94 2.06-2.06.94zm10 10l.94 2.06.94-2.06 2.06-.94-2.06-.94-.94-2.06-.94 2.06-2.06.94z\"/><path d=\"M17.41 7.96l-1.37-1.37c-.4-.4-.92-.59-1.43-.59-.52 0-1.04.2-1.43.59L10.3 9.45l-7.72 7.72c-.78.78-.78 2.05 0 2.83L4 21.41c.39.39.9.59 1.41.59.51 0 1.02-.2 1.41-.59l7.78-7.78 2.81-2.81c.8-.78.8-2.07 0-2.86zM5.41 20L4 18.59l7.72-7.72 1.47 1.35L5.41 20z\"/>\n",
              "  </svg>\n",
              "      </button>\n",
              "      \n",
              "  <style>\n",
              "    .colab-df-container {\n",
              "      display:flex;\n",
              "      flex-wrap:wrap;\n",
              "      gap: 12px;\n",
              "    }\n",
              "\n",
              "    .colab-df-convert {\n",
              "      background-color: #E8F0FE;\n",
              "      border: none;\n",
              "      border-radius: 50%;\n",
              "      cursor: pointer;\n",
              "      display: none;\n",
              "      fill: #1967D2;\n",
              "      height: 32px;\n",
              "      padding: 0 0 0 0;\n",
              "      width: 32px;\n",
              "    }\n",
              "\n",
              "    .colab-df-convert:hover {\n",
              "      background-color: #E2EBFA;\n",
              "      box-shadow: 0px 1px 2px rgba(60, 64, 67, 0.3), 0px 1px 3px 1px rgba(60, 64, 67, 0.15);\n",
              "      fill: #174EA6;\n",
              "    }\n",
              "\n",
              "    [theme=dark] .colab-df-convert {\n",
              "      background-color: #3B4455;\n",
              "      fill: #D2E3FC;\n",
              "    }\n",
              "\n",
              "    [theme=dark] .colab-df-convert:hover {\n",
              "      background-color: #434B5C;\n",
              "      box-shadow: 0px 1px 3px 1px rgba(0, 0, 0, 0.15);\n",
              "      filter: drop-shadow(0px 1px 2px rgba(0, 0, 0, 0.3));\n",
              "      fill: #FFFFFF;\n",
              "    }\n",
              "  </style>\n",
              "\n",
              "      <script>\n",
              "        const buttonEl =\n",
              "          document.querySelector('#df-bc89dd49-8819-4bc5-8971-9fb5c9f7f564 button.colab-df-convert');\n",
              "        buttonEl.style.display =\n",
              "          google.colab.kernel.accessAllowed ? 'block' : 'none';\n",
              "\n",
              "        async function convertToInteractive(key) {\n",
              "          const element = document.querySelector('#df-bc89dd49-8819-4bc5-8971-9fb5c9f7f564');\n",
              "          const dataTable =\n",
              "            await google.colab.kernel.invokeFunction('convertToInteractive',\n",
              "                                                     [key], {});\n",
              "          if (!dataTable) return;\n",
              "\n",
              "          const docLinkHtml = 'Like what you see? Visit the ' +\n",
              "            '<a target=\"_blank\" href=https://colab.research.google.com/notebooks/data_table.ipynb>data table notebook</a>'\n",
              "            + ' to learn more about interactive tables.';\n",
              "          element.innerHTML = '';\n",
              "          dataTable['output_type'] = 'display_data';\n",
              "          await google.colab.output.renderOutput(dataTable, element);\n",
              "          const docLink = document.createElement('div');\n",
              "          docLink.innerHTML = docLinkHtml;\n",
              "          element.appendChild(docLink);\n",
              "        }\n",
              "      </script>\n",
              "    </div>\n",
              "  </div>\n",
              "  "
            ]
          },
          "metadata": {},
          "execution_count": 29
        }
      ]
    },
    {
      "cell_type": "code",
      "source": [
        "df.head()"
      ],
      "metadata": {
        "colab": {
          "base_uri": "https://localhost:8080/",
          "height": 206
        },
        "id": "EyPNGFPghtKf",
        "outputId": "fd70ad0e-0086-4848-8ef3-8913fdf317d1"
      },
      "execution_count": 30,
      "outputs": [
        {
          "output_type": "execute_result",
          "data": {
            "text/plain": [
              "   N1  N2  N4  N16  N39  N3\n",
              "0   1   1   2    1    1   2\n",
              "1   2   2   2    1    1   1\n",
              "2   1   1   1    1    1   1\n",
              "3   2   2   2    1    1   1\n",
              "4   2   2   2    1    1   2"
            ],
            "text/html": [
              "\n",
              "  <div id=\"df-558e0f3d-3ccc-426c-a8d3-3c7493f94571\">\n",
              "    <div class=\"colab-df-container\">\n",
              "      <div>\n",
              "<style scoped>\n",
              "    .dataframe tbody tr th:only-of-type {\n",
              "        vertical-align: middle;\n",
              "    }\n",
              "\n",
              "    .dataframe tbody tr th {\n",
              "        vertical-align: top;\n",
              "    }\n",
              "\n",
              "    .dataframe thead th {\n",
              "        text-align: right;\n",
              "    }\n",
              "</style>\n",
              "<table border=\"1\" class=\"dataframe\">\n",
              "  <thead>\n",
              "    <tr style=\"text-align: right;\">\n",
              "      <th></th>\n",
              "      <th>N1</th>\n",
              "      <th>N2</th>\n",
              "      <th>N4</th>\n",
              "      <th>N16</th>\n",
              "      <th>N39</th>\n",
              "      <th>N3</th>\n",
              "    </tr>\n",
              "  </thead>\n",
              "  <tbody>\n",
              "    <tr>\n",
              "      <th>0</th>\n",
              "      <td>1</td>\n",
              "      <td>1</td>\n",
              "      <td>2</td>\n",
              "      <td>1</td>\n",
              "      <td>1</td>\n",
              "      <td>2</td>\n",
              "    </tr>\n",
              "    <tr>\n",
              "      <th>1</th>\n",
              "      <td>2</td>\n",
              "      <td>2</td>\n",
              "      <td>2</td>\n",
              "      <td>1</td>\n",
              "      <td>1</td>\n",
              "      <td>1</td>\n",
              "    </tr>\n",
              "    <tr>\n",
              "      <th>2</th>\n",
              "      <td>1</td>\n",
              "      <td>1</td>\n",
              "      <td>1</td>\n",
              "      <td>1</td>\n",
              "      <td>1</td>\n",
              "      <td>1</td>\n",
              "    </tr>\n",
              "    <tr>\n",
              "      <th>3</th>\n",
              "      <td>2</td>\n",
              "      <td>2</td>\n",
              "      <td>2</td>\n",
              "      <td>1</td>\n",
              "      <td>1</td>\n",
              "      <td>1</td>\n",
              "    </tr>\n",
              "    <tr>\n",
              "      <th>4</th>\n",
              "      <td>2</td>\n",
              "      <td>2</td>\n",
              "      <td>2</td>\n",
              "      <td>1</td>\n",
              "      <td>1</td>\n",
              "      <td>2</td>\n",
              "    </tr>\n",
              "  </tbody>\n",
              "</table>\n",
              "</div>\n",
              "      <button class=\"colab-df-convert\" onclick=\"convertToInteractive('df-558e0f3d-3ccc-426c-a8d3-3c7493f94571')\"\n",
              "              title=\"Convert this dataframe to an interactive table.\"\n",
              "              style=\"display:none;\">\n",
              "        \n",
              "  <svg xmlns=\"http://www.w3.org/2000/svg\" height=\"24px\"viewBox=\"0 0 24 24\"\n",
              "       width=\"24px\">\n",
              "    <path d=\"M0 0h24v24H0V0z\" fill=\"none\"/>\n",
              "    <path d=\"M18.56 5.44l.94 2.06.94-2.06 2.06-.94-2.06-.94-.94-2.06-.94 2.06-2.06.94zm-11 1L8.5 8.5l.94-2.06 2.06-.94-2.06-.94L8.5 2.5l-.94 2.06-2.06.94zm10 10l.94 2.06.94-2.06 2.06-.94-2.06-.94-.94-2.06-.94 2.06-2.06.94z\"/><path d=\"M17.41 7.96l-1.37-1.37c-.4-.4-.92-.59-1.43-.59-.52 0-1.04.2-1.43.59L10.3 9.45l-7.72 7.72c-.78.78-.78 2.05 0 2.83L4 21.41c.39.39.9.59 1.41.59.51 0 1.02-.2 1.41-.59l7.78-7.78 2.81-2.81c.8-.78.8-2.07 0-2.86zM5.41 20L4 18.59l7.72-7.72 1.47 1.35L5.41 20z\"/>\n",
              "  </svg>\n",
              "      </button>\n",
              "      \n",
              "  <style>\n",
              "    .colab-df-container {\n",
              "      display:flex;\n",
              "      flex-wrap:wrap;\n",
              "      gap: 12px;\n",
              "    }\n",
              "\n",
              "    .colab-df-convert {\n",
              "      background-color: #E8F0FE;\n",
              "      border: none;\n",
              "      border-radius: 50%;\n",
              "      cursor: pointer;\n",
              "      display: none;\n",
              "      fill: #1967D2;\n",
              "      height: 32px;\n",
              "      padding: 0 0 0 0;\n",
              "      width: 32px;\n",
              "    }\n",
              "\n",
              "    .colab-df-convert:hover {\n",
              "      background-color: #E2EBFA;\n",
              "      box-shadow: 0px 1px 2px rgba(60, 64, 67, 0.3), 0px 1px 3px 1px rgba(60, 64, 67, 0.15);\n",
              "      fill: #174EA6;\n",
              "    }\n",
              "\n",
              "    [theme=dark] .colab-df-convert {\n",
              "      background-color: #3B4455;\n",
              "      fill: #D2E3FC;\n",
              "    }\n",
              "\n",
              "    [theme=dark] .colab-df-convert:hover {\n",
              "      background-color: #434B5C;\n",
              "      box-shadow: 0px 1px 3px 1px rgba(0, 0, 0, 0.15);\n",
              "      filter: drop-shadow(0px 1px 2px rgba(0, 0, 0, 0.3));\n",
              "      fill: #FFFFFF;\n",
              "    }\n",
              "  </style>\n",
              "\n",
              "      <script>\n",
              "        const buttonEl =\n",
              "          document.querySelector('#df-558e0f3d-3ccc-426c-a8d3-3c7493f94571 button.colab-df-convert');\n",
              "        buttonEl.style.display =\n",
              "          google.colab.kernel.accessAllowed ? 'block' : 'none';\n",
              "\n",
              "        async function convertToInteractive(key) {\n",
              "          const element = document.querySelector('#df-558e0f3d-3ccc-426c-a8d3-3c7493f94571');\n",
              "          const dataTable =\n",
              "            await google.colab.kernel.invokeFunction('convertToInteractive',\n",
              "                                                     [key], {});\n",
              "          if (!dataTable) return;\n",
              "\n",
              "          const docLinkHtml = 'Like what you see? Visit the ' +\n",
              "            '<a target=\"_blank\" href=https://colab.research.google.com/notebooks/data_table.ipynb>data table notebook</a>'\n",
              "            + ' to learn more about interactive tables.';\n",
              "          element.innerHTML = '';\n",
              "          dataTable['output_type'] = 'display_data';\n",
              "          await google.colab.output.renderOutput(dataTable, element);\n",
              "          const docLink = document.createElement('div');\n",
              "          docLink.innerHTML = docLinkHtml;\n",
              "          element.appendChild(docLink);\n",
              "        }\n",
              "      </script>\n",
              "    </div>\n",
              "  </div>\n",
              "  "
            ]
          },
          "metadata": {},
          "execution_count": 30
        }
      ]
    },
    {
      "cell_type": "markdown",
      "source": [
        "**Constraint Based Algorithm : Python uses PC** "
      ],
      "metadata": {
        "id": "8H_V3h1s1xcv"
      }
    },
    {
      "cell_type": "code",
      "source": [
        "from pgmpy.estimators import PC\n",
        "df['sum'] = df.sum(axis=1)\n",
        "print(df)"
      ],
      "metadata": {
        "colab": {
          "base_uri": "https://localhost:8080/",
          "height": 0
        },
        "id": "bPTCZ2oyhxFg",
        "outputId": "99f27738-a83d-4714-9be8-176bd3425e88"
      },
      "execution_count": 31,
      "outputs": [
        {
          "output_type": "stream",
          "name": "stdout",
          "text": [
            "      N1  N2  N4  N16  N39  N3  sum\n",
            "0      1   1   2    1    1   2    8\n",
            "1      2   2   2    1    1   1    9\n",
            "2      1   1   1    1    1   1    6\n",
            "3      2   2   2    1    1   1    9\n",
            "4      2   2   2    1    1   2   10\n",
            "...   ..  ..  ..  ...  ...  ..  ...\n",
            "9995   1   1   2    1    1   1    7\n",
            "9996   1   1   1    2    1   1    7\n",
            "9997   1   1   1    2    2   2    9\n",
            "9998   1   1   1    2    1   2    8\n",
            "9999   2   2   2    1    1   2   10\n",
            "\n",
            "[10000 rows x 7 columns]\n"
          ]
        }
      ]
    },
    {
      "cell_type": "code",
      "source": [
        "c = PC(df)\n",
        "model = c.estimate()\n",
        "print(model.edges())"
      ],
      "metadata": {
        "colab": {
          "base_uri": "https://localhost:8080/",
          "height": 86,
          "referenced_widgets": [
            "fb0aac5657b14228b149f3064127a8e4",
            "d737854056e74176b4b6abe11ef9f4ae",
            "27ae3d6444944ca3b63c1846cad1b8f8",
            "3e10c842be0a4c61b7b87aa393c16077",
            "bdbca445f5e34b888607168fb5200f4e",
            "a5c5231f89b64762869d7ebf20108a7b",
            "8542f0ed633141d8acd6ad3696a9d047",
            "0e9fb159c1294271b0d02acd7a33a26f",
            "e6be9e571d0b476e830163c5662fb6cf",
            "ac31858957744b1a8a1211fccacfcbb1",
            "a2541040bf724b779636be279fefc8a0"
          ]
        },
        "id": "jcwQm4dah0Oa",
        "outputId": "37e9df0c-8870-4aa6-af1f-6214d8d4da13"
      },
      "execution_count": 32,
      "outputs": [
        {
          "output_type": "display_data",
          "data": {
            "text/plain": [
              "  0%|          | 0/5 [00:00<?, ?it/s]"
            ],
            "application/vnd.jupyter.widget-view+json": {
              "version_major": 2,
              "version_minor": 0,
              "model_id": "fb0aac5657b14228b149f3064127a8e4"
            }
          },
          "metadata": {}
        },
        {
          "output_type": "stream",
          "name": "stdout",
          "text": [
            "[('N4', 'sum'), ('N4', 'N2'), ('N4', 'N16'), ('N39', 'sum'), ('N3', 'N2'), ('N3', 'sum'), ('N2', 'sum'), ('N16', 'sum'), ('N16', 'N39'), ('N1', 'N2'), ('N1', 'sum'), ('N1', 'N4')]\n"
          ]
        }
      ]
    },
    {
      "cell_type": "markdown",
      "source": [
        "**Score Based Algorithm: Hill Climb Algorithm**"
      ],
      "metadata": {
        "id": "mUABSuPijcV9"
      }
    },
    {
      "cell_type": "code",
      "source": [
        "from pgmpy.estimators import HillClimbSearch\n",
        "est = HillClimbSearch(df)\n",
        "best_model = est.estimate()\n",
        "sorted(best_model.nodes())"
      ],
      "metadata": {
        "colab": {
          "base_uri": "https://localhost:8080/",
          "height": 66,
          "referenced_widgets": [
            "3eab41bb59354e23a0456492c3eaf716",
            "424629db15a045899a843be50a29897b",
            "b964a5edc76240b6952dc807b1d877cc",
            "c18629b4a0cc421590e1a14713dcf3fb",
            "d03a5259130843bbb2c5f43affeff8de",
            "52674a00373e4a5892d965097788fe15",
            "e4a843cf91eb4894a2e2f33fb3d4f758",
            "01c91be368bc48e08c5974aa54c04b8d",
            "5ad263ea7c1b4368bf6baa535bdf4e9c",
            "b6b043c3ff604e0f984dc24be4e01585",
            "0a5993230aa9437680a86ac4ed585f30"
          ]
        },
        "id": "qcNOKfftjnWo",
        "outputId": "16da58c0-9b56-4bd3-f336-13c77484e31b"
      },
      "execution_count": 33,
      "outputs": [
        {
          "output_type": "display_data",
          "data": {
            "text/plain": [
              "  0%|          | 0/1000000 [00:00<?, ?it/s]"
            ],
            "application/vnd.jupyter.widget-view+json": {
              "version_major": 2,
              "version_minor": 0,
              "model_id": "3eab41bb59354e23a0456492c3eaf716"
            }
          },
          "metadata": {}
        },
        {
          "output_type": "execute_result",
          "data": {
            "text/plain": [
              "['N1', 'N16', 'N2', 'N3', 'N39', 'N4', 'sum']"
            ]
          },
          "metadata": {},
          "execution_count": 33
        }
      ]
    },
    {
      "cell_type": "markdown",
      "source": [
        "**Scoring Method**"
      ],
      "metadata": {
        "id": "PQknWg1wjVd_"
      }
    },
    {
      "cell_type": "code",
      "source": [
        "import bnlearn as bn"
      ],
      "metadata": {
        "id": "F8gccfP6kFtI"
      },
      "execution_count": 34,
      "outputs": []
    },
    {
      "cell_type": "code",
      "source": [
        "# Using DAG for Bayesian structure learning:\n",
        "DAG = bn.structure_learning.fit(df)"
      ],
      "metadata": {
        "colab": {
          "base_uri": "https://localhost:8080/",
          "height": 0
        },
        "id": "hK8j4PnQkPxc",
        "outputId": "24a84568-7819-4640-faa2-95c2f5b3bb64"
      },
      "execution_count": 63,
      "outputs": [
        {
          "output_type": "stream",
          "name": "stdout",
          "text": [
            "[bnlearn] >Computing best DAG using [hc]\n",
            "[bnlearn] >Set scoring type at [bic]\n"
          ]
        }
      ]
    },
    {
      "cell_type": "code",
      "source": [
        "# print adjacency matrix\n",
        "print(DAG['adjmat'])"
      ],
      "metadata": {
        "colab": {
          "base_uri": "https://localhost:8080/",
          "height": 0
        },
        "id": "HFpTzzP9kVnU",
        "outputId": "9ff1a33b-01e8-4041-8bf8-a3709aa9c25b"
      },
      "execution_count": 36,
      "outputs": [
        {
          "output_type": "stream",
          "name": "stdout",
          "text": [
            "target     N1     N2     N4    N16    N39     N3    sum\n",
            "source                                                 \n",
            "N1      False  False   True  False  False  False   True\n",
            "N2       True  False   True  False  False  False   True\n",
            "N4      False  False  False   True  False  False   True\n",
            "N16     False  False  False  False   True  False   True\n",
            "N39     False  False  False  False  False  False   True\n",
            "N3      False   True  False  False  False  False   True\n",
            "sum     False  False  False  False  False  False  False\n"
          ]
        }
      ]
    },
    {
      "cell_type": "code",
      "source": [
        "# Plot\n",
        "G = bn.plot(DAG)"
      ],
      "metadata": {
        "colab": {
          "base_uri": "https://localhost:8080/",
          "height": 518
        },
        "id": "DZl8S2GNkd7r",
        "outputId": "1c31a1b9-18f0-4427-d10d-3fec53411976"
      },
      "execution_count": 37,
      "outputs": [
        {
          "output_type": "stream",
          "name": "stdout",
          "text": [
            "[bnlearn]> Set node properties.\n",
            "[bnlearn]> Set edge properties.\n",
            "[bnlearn] >Plot based on Bayesian model\n"
          ]
        },
        {
          "output_type": "display_data",
          "data": {
            "text/plain": [
              "<Figure size 1080x576 with 1 Axes>"
            ],
            "image/png": "[encoded data removed]"
          },
          "metadata": {}
        }
      ]
    },
    {
      "cell_type": "code",
      "source": [
        "# Interactive plotting\n",
        "G = bn.plot(DAG, interactive=True)"
      ],
      "metadata": {
        "colab": {
          "base_uri": "https://localhost:8080/",
          "height": 1490
        },
        "id": "XcYlKGKXkh4I",
        "outputId": "0a7e42ab-1f97-481b-fec8-7a0a04d44402"
      },
      "execution_count": 38,
      "outputs": [
        {
          "output_type": "stream",
          "name": "stdout",
          "text": [
            "[bnlearn]> Set node properties.\n",
            "[bnlearn]> Set edge properties.\n",
            "[bnlearn] >Plot based on Bayesian model\n"
          ]
        },
        {
          "output_type": "display_data",
          "data": {
            "text/plain": [
              "<IPython.core.display.HTML object>"
            ],
            "text/html": [
              "<html>\n",
              "<head>\n",
              "<link rel=\"stylesheet\" href=\"https://cdn.jsdelivr.net/npm/vis-network@latest/styles/vis-network.css\" type=\"text/css\" />\n",
              "<script type=\"text/javascript\" src=\"https://cdn.jsdelivr.net/npm/vis-network@latest/dist/vis-network.min.js\"> </script>\n",
              "<center>\n",
              "<h1></h1>\n",
              "</center>\n",
              "\n",
              "<!-- <link rel=\"stylesheet\" href=\"../node_modules/vis/dist/vis.min.css\" type=\"text/css\" />\n",
              "<script type=\"text/javascript\" src=\"../node_modules/vis/dist/vis.js\"> </script>-->\n",
              "\n",
              "<style type=\"text/css\">\n",
              "\n",
              "        #mynetwork {\n",
              "            width: 70%;\n",
              "            height: 800px;\n",
              "            background-color: #ffffff;\n",
              "            border: 1px solid lightgray;\n",
              "            position: relative;\n",
              "            float: left;\n",
              "        }\n",
              "\n",
              "        \n",
              "\n",
              "        \n",
              "        #config {\n",
              "            float: left;\n",
              "            width: 400px;\n",
              "            height: 600px;\n",
              "        }\n",
              "        \n",
              "\n",
              "        \n",
              "</style>\n",
              "\n",
              "</head>\n",
              "\n",
              "<body>\n",
              "<div id = \"mynetwork\"></div>\n",
              "\n",
              "\n",
              "<div id = \"config\"></div>\n",
              "\n",
              "<script type=\"text/javascript\">\n",
              "\n",
              "    // initialize global variables.\n",
              "    var edges;\n",
              "    var nodes;\n",
              "    var network; \n",
              "    var container;\n",
              "    var options, data;\n",
              "\n",
              "    \n",
              "    // This method is responsible for drawing the graph, returns the drawn network\n",
              "    function drawGraph() {\n",
              "        var container = document.getElementById('mynetwork');\n",
              "        \n",
              "        \n",
              "\n",
              "        // parsing and collecting nodes and edges from the python\n",
              "        nodes = new vis.DataSet([{\"color\": \"#1f456e\", \"id\": \"N1\", \"label\": \"N1\", \"shape\": \"dot\", \"size\": 10}, {\"color\": \"#1f456e\", \"id\": \"N4\", \"label\": \"N4\", \"shape\": \"dot\", \"size\": 10}, {\"color\": \"#1f456e\", \"id\": \"sum\", \"label\": \"sum\", \"shape\": \"dot\", \"size\": 10}, {\"color\": \"#1f456e\", \"id\": \"N16\", \"label\": \"N16\", \"shape\": \"dot\", \"size\": 10}, {\"color\": \"#1f456e\", \"id\": \"N2\", \"label\": \"N2\", \"shape\": \"dot\", \"size\": 10}, {\"color\": \"#1f456e\", \"id\": \"N39\", \"label\": \"N39\", \"shape\": \"dot\", \"size\": 10}, {\"color\": \"#1f456e\", \"id\": \"N3\", \"label\": \"N3\", \"shape\": \"dot\", \"size\": 10}]);\n",
              "        edges = new vis.DataSet([{\"arrows\": \"to\", \"color\": \"#000000\", \"from\": \"N1\", \"label\": 1.0, \"to\": \"N4\", \"weight\": 1}, {\"arrows\": \"to\", \"color\": \"#000000\", \"from\": \"N1\", \"label\": 1.0, \"to\": \"sum\", \"weight\": 1}, {\"arrows\": \"to\", \"color\": \"#000000\", \"from\": \"N4\", \"label\": 1.0, \"to\": \"N16\", \"weight\": 1}, {\"arrows\": \"to\", \"color\": \"#000000\", \"from\": \"N4\", \"label\": 1.0, \"to\": \"sum\", \"weight\": 1}, {\"arrows\": \"to\", \"color\": \"#000000\", \"from\": \"N2\", \"label\": 1.0, \"to\": \"N1\", \"weight\": 1}, {\"arrows\": \"to\", \"color\": \"#000000\", \"from\": \"N2\", \"label\": 1.0, \"to\": \"N4\", \"weight\": 1}, {\"arrows\": \"to\", \"color\": \"#000000\", \"from\": \"N2\", \"label\": 1.0, \"to\": \"sum\", \"weight\": 1}, {\"arrows\": \"to\", \"color\": \"#000000\", \"from\": \"N16\", \"label\": 1.0, \"to\": \"N39\", \"weight\": 1}, {\"arrows\": \"to\", \"color\": \"#000000\", \"from\": \"N16\", \"label\": 1.0, \"to\": \"sum\", \"weight\": 1}, {\"arrows\": \"to\", \"color\": \"#000000\", \"from\": \"N39\", \"label\": 1.0, \"to\": \"sum\", \"weight\": 1}, {\"arrows\": \"to\", \"color\": \"#000000\", \"from\": \"N3\", \"label\": 1.0, \"to\": \"N2\", \"weight\": 1}, {\"arrows\": \"to\", \"color\": \"#000000\", \"from\": \"N3\", \"label\": 1.0, \"to\": \"sum\", \"weight\": 1}]);\n",
              "\n",
              "        // adding nodes and edges to the graph\n",
              "        data = {nodes: nodes, edges: edges};\n",
              "\n",
              "        var options = {\n",
              "    \"configure\": {\n",
              "        \"enabled\": true,\n",
              "        \"filter\": [\n",
              "            \"physics\"\n",
              "        ]\n",
              "    },\n",
              "    \"edges\": {\n",
              "        \"color\": {\n",
              "            \"inherit\": true\n",
              "        },\n",
              "        \"smooth\": {\n",
              "            \"enabled\": true,\n",
              "            \"type\": \"dynamic\"\n",
              "        }\n",
              "    },\n",
              "    \"interaction\": {\n",
              "        \"dragNodes\": true,\n",
              "        \"hideEdgesOnDrag\": false,\n",
              "        \"hideNodesOnDrag\": false\n",
              "    },\n",
              "    \"physics\": {\n",
              "        \"enabled\": true,\n",
              "        \"stabilization\": {\n",
              "            \"enabled\": true,\n",
              "            \"fit\": true,\n",
              "            \"iterations\": 1000,\n",
              "            \"onlyDynamicEdges\": false,\n",
              "            \"updateInterval\": 50\n",
              "        }\n",
              "    }\n",
              "};\n",
              "        \n",
              "        \n",
              "\n",
              "        \n",
              "        // if this network requires displaying the configure window,\n",
              "        // put it in its div\n",
              "        options.configure[\"container\"] = document.getElementById(\"config\");\n",
              "        \n",
              "\n",
              "        network = new vis.Network(container, data, options);\n",
              "\t \n",
              "        \n",
              "\n",
              "\n",
              "        \n",
              "\n",
              "        return network;\n",
              "\n",
              "    }\n",
              "\n",
              "    drawGraph();\n",
              "\n",
              "</script>\n",
              "</body>\n",
              "</html>"
            ]
          },
          "metadata": {}
        }
      ]
    },
    {
      "cell_type": "markdown",
      "source": [
        "**Calculating score  with different types of methods: BIC ,K2 and BDEU in different  scoring methods**"
      ],
      "metadata": {
        "id": "vrnl3lxeky3t"
      }
    },
    {
      "cell_type": "code",
      "source": [
        "# 'Calling hillclimbsearch with scoring type BIC'\n",
        "model_hill_bic  = bn.structure_learning.fit(df, methodtype='hc', scoretype='bic')\n",
        "\n"
      ],
      "metadata": {
        "colab": {
          "base_uri": "https://localhost:8080/",
          "height": 0
        },
        "id": "qiuWbgKWkl_s",
        "outputId": "9c86b1c0-5d54-46db-cf6b-b8ea99abce1d"
      },
      "execution_count": 40,
      "outputs": [
        {
          "output_type": "stream",
          "name": "stdout",
          "text": [
            "[bnlearn] >Computing best DAG using [hc]\n",
            "[bnlearn] >Set scoring type at [bic]\n"
          ]
        }
      ]
    },
    {
      "cell_type": "code",
      "source": [
        "model_hill_bic"
      ],
      "metadata": {
        "colab": {
          "base_uri": "https://localhost:8080/",
          "height": 0
        },
        "id": "nU4isgPDr4i-",
        "outputId": "34d2b1a4-1329-45e6-d6c5-bf26cd6b8f59"
      },
      "execution_count": 42,
      "outputs": [
        {
          "output_type": "execute_result",
          "data": {
            "text/plain": [
              "{'adjmat': target     N1     N2     N4    N16    N39     N3    sum\n",
              " source                                                 \n",
              " N1      False  False   True  False  False  False   True\n",
              " N2       True  False   True  False  False  False   True\n",
              " N4      False  False  False   True  False  False   True\n",
              " N16     False  False  False  False   True  False   True\n",
              " N39     False  False  False  False  False  False   True\n",
              " N3      False   True  False  False  False  False   True\n",
              " sum     False  False  False  False  False  False  False,\n",
              " 'config': {'black_list': None,\n",
              "  'bw_list_method': None,\n",
              "  'class_node': None,\n",
              "  'epsilon': 0.0001,\n",
              "  'fixed_edges': set(),\n",
              "  'max_indegree': None,\n",
              "  'max_iter': 1000000.0,\n",
              "  'method': 'hc',\n",
              "  'return_all_dags': False,\n",
              "  'root_node': None,\n",
              "  'scoring': 'bic',\n",
              "  'tabu_length': 100,\n",
              "  'verbose': 3,\n",
              "  'white_list': None},\n",
              " 'model': <pgmpy.base.DAG.DAG at 0x7f5b3a15f5d0>,\n",
              " 'model_edges': [('N1', 'sum'),\n",
              "  ('N1', 'N4'),\n",
              "  ('N2', 'N1'),\n",
              "  ('N2', 'sum'),\n",
              "  ('N2', 'N4'),\n",
              "  ('N4', 'sum'),\n",
              "  ('N4', 'N16'),\n",
              "  ('N16', 'sum'),\n",
              "  ('N16', 'N39'),\n",
              "  ('N39', 'sum'),\n",
              "  ('N3', 'sum'),\n",
              "  ('N3', 'N2')]}"
            ]
          },
          "metadata": {},
          "execution_count": 42
        }
      ]
    },
    {
      "cell_type": "code",
      "source": [
        "pip install tabulate"
      ],
      "metadata": {
        "colab": {
          "base_uri": "https://localhost:8080/",
          "height": 0
        },
        "id": "59SNnmx54PBG",
        "outputId": "dc959110-68bc-444e-aa79-3f8e9df84d23"
      },
      "execution_count": 68,
      "outputs": [
        {
          "output_type": "stream",
          "name": "stdout",
          "text": [
            "Looking in indexes: https://pypi.org/simple, https://us-python.pkg.dev/colab-wheels/public/simple/\n",
            "Requirement already satisfied: tabulate in /usr/local/lib/python3.7/dist-packages (0.8.10)\n"
          ]
        }
      ]
    },
    {
      "cell_type": "code",
      "source": [
        "# 'Calling hillclimbsearch with scoring type K2'#\n",
        "model_hill_k2   = bn.structure_learning.fit(df, methodtype='hc', scoretype='k2')\n"
      ],
      "metadata": {
        "colab": {
          "base_uri": "https://localhost:8080/",
          "height": 0
        },
        "id": "xAJ_EYTMr1TJ",
        "outputId": "6828dd30-69b9-4670-8c1c-7b62a09d89bc"
      },
      "execution_count": 64,
      "outputs": [
        {
          "output_type": "stream",
          "name": "stdout",
          "text": [
            "[bnlearn] >Computing best DAG using [hc]\n",
            "[bnlearn] >Set scoring type at [k2]\n"
          ]
        }
      ]
    },
    {
      "cell_type": "code",
      "source": [
        "model_hill_k2"
      ],
      "metadata": {
        "colab": {
          "base_uri": "https://localhost:8080/",
          "height": 0
        },
        "id": "LmKyVnNXr7qx",
        "outputId": "3beee570-eca0-44e8-a972-be26b213403f"
      },
      "execution_count": 43,
      "outputs": [
        {
          "output_type": "execute_result",
          "data": {
            "text/plain": [
              "{'adjmat': target     N1     N2     N4    N16    N39     N3    sum\n",
              " source                                                 \n",
              " N1      False   True   True   True  False   True  False\n",
              " N2      False  False   True   True  False   True  False\n",
              " N4      False  False  False   True  False   True  False\n",
              " N16     False  False  False  False  False   True  False\n",
              " N39      True   True   True   True  False   True   True\n",
              " N3      False  False  False  False  False  False  False\n",
              " sum      True   True   True   True  False   True  False,\n",
              " 'config': {'black_list': None,\n",
              "  'bw_list_method': None,\n",
              "  'class_node': None,\n",
              "  'epsilon': 0.0001,\n",
              "  'fixed_edges': set(),\n",
              "  'max_indegree': None,\n",
              "  'max_iter': 1000000.0,\n",
              "  'method': 'hc',\n",
              "  'return_all_dags': False,\n",
              "  'root_node': None,\n",
              "  'scoring': 'k2',\n",
              "  'tabu_length': 100,\n",
              "  'verbose': 3,\n",
              "  'white_list': None},\n",
              " 'model': <pgmpy.base.DAG.DAG at 0x7f5b3291cfd0>,\n",
              " 'model_edges': [('N1', 'N2'),\n",
              "  ('N1', 'N4'),\n",
              "  ('N1', 'N3'),\n",
              "  ('N1', 'N16'),\n",
              "  ('N2', 'N3'),\n",
              "  ('N2', 'N16'),\n",
              "  ('N2', 'N4'),\n",
              "  ('N4', 'N16'),\n",
              "  ('N4', 'N3'),\n",
              "  ('N16', 'N3'),\n",
              "  ('N39', 'N1'),\n",
              "  ('N39', 'sum'),\n",
              "  ('N39', 'N3'),\n",
              "  ('N39', 'N2'),\n",
              "  ('N39', 'N4'),\n",
              "  ('N39', 'N16'),\n",
              "  ('sum', 'N1'),\n",
              "  ('sum', 'N16'),\n",
              "  ('sum', 'N3'),\n",
              "  ('sum', 'N2'),\n",
              "  ('sum', 'N4')]}"
            ]
          },
          "metadata": {},
          "execution_count": 43
        }
      ]
    },
    {
      "cell_type": "code",
      "source": [
        "# 'Calling hillclimbsearch with scoring type BDEU'#\n",
        "model_hill_bdeu = bn.structure_learning.fit(df, methodtype='hc', scoretype='bdeu')"
      ],
      "metadata": {
        "colab": {
          "base_uri": "https://localhost:8080/",
          "height": 0
        },
        "id": "tUKH5msAsAxd",
        "outputId": "eef4a4e5-4ea6-44f5-a2a5-6fb84d46225f"
      },
      "execution_count": 65,
      "outputs": [
        {
          "output_type": "stream",
          "name": "stdout",
          "text": [
            "[bnlearn] >Computing best DAG using [hc]\n",
            "[bnlearn] >Set scoring type at [bdeu]\n"
          ]
        }
      ]
    },
    {
      "cell_type": "code",
      "source": [
        "model_hill_bdeu"
      ],
      "metadata": {
        "colab": {
          "base_uri": "https://localhost:8080/",
          "height": 0
        },
        "id": "Di04b0e6r8My",
        "outputId": "75510ebb-3fa6-46bf-cfa0-8b12d5fb73cc"
      },
      "execution_count": 45,
      "outputs": [
        {
          "output_type": "execute_result",
          "data": {
            "text/plain": [
              "{'adjmat': target     N1     N2     N4    N16    N39     N3    sum\n",
              " source                                                 \n",
              " N1      False  False   True  False  False  False   True\n",
              " N2       True  False   True  False  False   True   True\n",
              " N4      False  False  False   True  False  False   True\n",
              " N16     False  False  False  False   True  False   True\n",
              " N39     False  False  False  False  False  False   True\n",
              " N3      False  False  False  False  False  False   True\n",
              " sum     False  False  False  False  False  False  False,\n",
              " 'config': {'black_list': None,\n",
              "  'bw_list_method': None,\n",
              "  'class_node': None,\n",
              "  'epsilon': 0.0001,\n",
              "  'fixed_edges': set(),\n",
              "  'max_indegree': None,\n",
              "  'max_iter': 1000000.0,\n",
              "  'method': 'hc',\n",
              "  'return_all_dags': False,\n",
              "  'root_node': None,\n",
              "  'scoring': 'bdeu',\n",
              "  'tabu_length': 100,\n",
              "  'verbose': 3,\n",
              "  'white_list': None},\n",
              " 'model': <pgmpy.base.DAG.DAG at 0x7f5b33304ad0>,\n",
              " 'model_edges': [('N1', 'sum'),\n",
              "  ('N1', 'N4'),\n",
              "  ('N2', 'N1'),\n",
              "  ('N2', 'sum'),\n",
              "  ('N2', 'N4'),\n",
              "  ('N2', 'N3'),\n",
              "  ('N4', 'sum'),\n",
              "  ('N4', 'N16'),\n",
              "  ('N16', 'sum'),\n",
              "  ('N16', 'N39'),\n",
              "  ('N39', 'sum'),\n",
              "  ('N3', 'sum')]}"
            ]
          },
          "metadata": {},
          "execution_count": 45
        }
      ]
    },
    {
      "cell_type": "code",
      "source": [
        "## 'Calling Constraint search algorithm with scoring type K2'#\n",
        "model_constraint_k2   = bn.structure_learning.fit(df, methodtype='cs', scoretype='k2')"
      ],
      "metadata": {
        "colab": {
          "base_uri": "https://localhost:8080/",
          "height": 98,
          "referenced_widgets": [
            "408969e0944a4e8c9cff5b82ac6f1890",
            "950102b653bd41fea488a05346312820",
            "6d20f328fd284a219fedfdf67ec208f4",
            "5bd4aab5721d484691245c3a34a653f4",
            "00ecff8878c542d19fc45492761dea3e",
            "bee512aa5ae54a82b17498a7f0679b3d",
            "1ccff8047a6747779dccc8c071d2e07f",
            "856073082aed459da9ac08aec594099d",
            "e65e3c3db13c4269a4548b57f3118545",
            "0b5249e438cc4e71a058e06725415703",
            "ec10be429af84dca9f2b8f9baa057fb7",
            "6c6c2ff73640441bb99d40b286ec5663",
            "27c6870a257744f395d0e84384e53f72",
            "08c99a5f2ca548c190166bc9801163ca",
            "55b4ccfd9791454ab0382364c68611b1",
            "e4ad070cd6054d9e9afeeb3ac394dbe7",
            "a5f85f018fbc4907be0e51946716ea87",
            "bc616665c39b484f9f5cd9b0c2c2ce48",
            "6da2a85ea59245afb6b16483b79c36e7",
            "8bbb14dd619a4df4b3fee2b01412af91",
            "538ba83576a44e0ea98c4fa1973f4aef",
            "00ecd704673d4e4a9be5dee90cecbece"
          ]
        },
        "id": "CW5ogR5UsekZ",
        "outputId": "c8278000-513e-47e8-acc1-84e2e8f7565a"
      },
      "execution_count": 66,
      "outputs": [
        {
          "output_type": "stream",
          "name": "stdout",
          "text": [
            "[bnlearn] >Computing best DAG using [cs]\n"
          ]
        },
        {
          "output_type": "display_data",
          "data": {
            "text/plain": [
              "  0%|          | 0/5 [00:00<?, ?it/s]"
            ],
            "application/vnd.jupyter.widget-view+json": {
              "version_major": 2,
              "version_minor": 0,
              "model_id": "408969e0944a4e8c9cff5b82ac6f1890"
            }
          },
          "metadata": {}
        },
        {
          "output_type": "display_data",
          "data": {
            "text/plain": [
              "  0%|          | 0/5 [00:00<?, ?it/s]"
            ],
            "application/vnd.jupyter.widget-view+json": {
              "version_major": 2,
              "version_minor": 0,
              "model_id": "6c6c2ff73640441bb99d40b286ec5663"
            }
          },
          "metadata": {}
        }
      ]
    },
    {
      "cell_type": "code",
      "source": [
        "model_constraint_k2"
      ],
      "metadata": {
        "colab": {
          "base_uri": "https://localhost:8080/",
          "height": 0
        },
        "id": "lpLUl2STtpPi",
        "outputId": "eeeb2357-eb61-421f-a443-6bf0aef2cffd"
      },
      "execution_count": 50,
      "outputs": [
        {
          "output_type": "execute_result",
          "data": {
            "text/plain": [
              "{'adjmat': target     N4     N1    sum     N2    N39     N3    N16\n",
              " source                                                 \n",
              " N4      False   True   True   True  False  False  False\n",
              " N1      False  False   True  False  False  False  False\n",
              " sum     False  False  False  False  False  False  False\n",
              " N2      False   True   True  False  False  False  False\n",
              " N39     False  False   True  False  False  False   True\n",
              " N3      False  False   True   True  False  False  False\n",
              " N16      True  False   True  False  False  False  False,\n",
              " 'config': {'black_list': None,\n",
              "  'bw_list_method': None,\n",
              "  'class_node': None,\n",
              "  'epsilon': 0.0001,\n",
              "  'fixed_edges': set(),\n",
              "  'max_indegree': None,\n",
              "  'max_iter': 1000000.0,\n",
              "  'method': 'cs',\n",
              "  'return_all_dags': False,\n",
              "  'root_node': None,\n",
              "  'scoring': 'k2',\n",
              "  'tabu_length': 100,\n",
              "  'verbose': 3,\n",
              "  'white_list': None},\n",
              " 'dag': <pgmpy.base.DAG.DAG at 0x7f5b35cb3a10>,\n",
              " 'dag_edges': OutEdgeView([('N4', 'sum'), ('N4', 'N1'), ('N4', 'N2'), ('N1', 'sum'), ('N2', 'sum'), ('N2', 'N1'), ('N39', 'sum'), ('N39', 'N16'), ('N3', 'N2'), ('N3', 'sum'), ('N16', 'sum'), ('N16', 'N4')]),\n",
              " 'model': <pgmpy.base.DAG.DAG at 0x7f5b33f020d0>,\n",
              " 'model_edges': [('N4', 'sum'),\n",
              "  ('N4', 'N1'),\n",
              "  ('N4', 'N2'),\n",
              "  ('N1', 'sum'),\n",
              "  ('N2', 'sum'),\n",
              "  ('N2', 'N1'),\n",
              "  ('N39', 'sum'),\n",
              "  ('N39', 'N16'),\n",
              "  ('N3', 'N2'),\n",
              "  ('N3', 'sum'),\n",
              "  ('N16', 'sum'),\n",
              "  ('N16', 'N4')],\n",
              " 'pdag': <pgmpy.base.DAG.PDAG at 0x7f5b35ce0c50>,\n",
              " 'pdag_edges': OutEdgeView([('N4', 'N1'), ('N4', 'sum'), ('N4', 'N2'), ('N4', 'N16'), ('N1', 'sum'), ('N2', 'sum'), ('N2', 'N1'), ('N39', 'sum'), ('N39', 'N16'), ('N3', 'sum'), ('N3', 'N2'), ('N16', 'sum'), ('N16', 'N4'), ('N16', 'N39')]),\n",
              " 'undirected': <networkx.classes.graph.Graph at 0x7f5b33703190>,\n",
              " 'undirected_edges': EdgeView([('N1', 'N2'), ('N1', 'N4'), ('N1', 'sum'), ('N2', 'N4'), ('N2', 'N3'), ('N2', 'sum'), ('N4', 'N16'), ('N4', 'sum'), ('N16', 'N39'), ('N16', 'sum'), ('N39', 'sum'), ('N3', 'sum')])}"
            ]
          },
          "metadata": {},
          "execution_count": 50
        }
      ]
    },
    {
      "cell_type": "code",
      "source": [
        "# Calling Constraint algorithm with scoring type BDEU'#\n",
        "model_constraint_bdeu = bn.structure_learning.fit(df, methodtype='cs', scoretype='bdeu')"
      ],
      "metadata": {
        "colab": {
          "base_uri": "https://localhost:8080/",
          "height": 98,
          "referenced_widgets": [
            "e5c4269e904748ecbe81fb804d818cb8",
            "b64e098e46aa45b5b46523fc96771b9c",
            "b286f266a8314a64aa999a5a92183225",
            "1e38aa579c52482c90adcc4530420508",
            "5b2903f3f12d4e73bbce06a4fe7a4339",
            "de2842bab15745c886c509ab2c1209c4",
            "8d9793d5523446329bd0349a752f77c2",
            "88768cd1448d4cd8af10a976e31c3ac1",
            "4fe20bcac9f54957a12d8820a47bb6a2",
            "ad69639ed8354e31a595f3112514bfdf",
            "21ec2c60fc4a4247ba09d97152441cad",
            "56e4b63bbb754d4e8bbbe6e1411bf92a",
            "3fdd2951729845d2a23371e00b61bed7",
            "699c323fb0554d85b3ac82868df014f1",
            "68b47ddc33474fe4a423f5f70cf0efc4",
            "e1973536539d49e99849ef42dff92b29",
            "09dd887dc8bd4ab796e8f0941bbb19f0",
            "c0ab2f5201f043b189f3ae2e4df56ace",
            "a409117df51748ce9617623577f930db",
            "80417cc078e64973a1a0708e3d607fd7",
            "bc2161ea20e940ca99554dd122d3963d",
            "d5f9bcbd45864d0a959231da39c7adda"
          ]
        },
        "id": "x-lFiiBgs906",
        "outputId": "a870d7c8-b482-448a-f852-a1b1ad147501"
      },
      "execution_count": 48,
      "outputs": [
        {
          "output_type": "stream",
          "name": "stdout",
          "text": [
            "[bnlearn] >Computing best DAG using [cs]\n"
          ]
        },
        {
          "output_type": "display_data",
          "data": {
            "text/plain": [
              "  0%|          | 0/5 [00:00<?, ?it/s]"
            ],
            "application/vnd.jupyter.widget-view+json": {
              "version_major": 2,
              "version_minor": 0,
              "model_id": "e5c4269e904748ecbe81fb804d818cb8"
            }
          },
          "metadata": {}
        },
        {
          "output_type": "display_data",
          "data": {
            "text/plain": [
              "  0%|          | 0/5 [00:00<?, ?it/s]"
            ],
            "application/vnd.jupyter.widget-view+json": {
              "version_major": 2,
              "version_minor": 0,
              "model_id": "56e4b63bbb754d4e8bbbe6e1411bf92a"
            }
          },
          "metadata": {}
        }
      ]
    },
    {
      "cell_type": "code",
      "source": [
        "model_constraint_bdeu"
      ],
      "metadata": {
        "colab": {
          "base_uri": "https://localhost:8080/",
          "height": 0
        },
        "id": "1HXFGKs1tsHB",
        "outputId": "e3c9c352-8f23-4598-b582-69bb1c9f65f5"
      },
      "execution_count": 51,
      "outputs": [
        {
          "output_type": "execute_result",
          "data": {
            "text/plain": [
              "{'adjmat': target     N4     N1    sum     N2    N39     N3    N16\n",
              " source                                                 \n",
              " N4      False   True   True   True  False  False  False\n",
              " N1      False  False   True  False  False  False  False\n",
              " sum     False  False  False  False  False  False  False\n",
              " N2      False   True   True  False  False  False  False\n",
              " N39     False  False   True  False  False  False   True\n",
              " N3      False  False   True   True  False  False  False\n",
              " N16      True  False   True  False  False  False  False,\n",
              " 'config': {'black_list': None,\n",
              "  'bw_list_method': None,\n",
              "  'class_node': None,\n",
              "  'epsilon': 0.0001,\n",
              "  'fixed_edges': set(),\n",
              "  'max_indegree': None,\n",
              "  'max_iter': 1000000.0,\n",
              "  'method': 'cs',\n",
              "  'return_all_dags': False,\n",
              "  'root_node': None,\n",
              "  'scoring': 'bdeu',\n",
              "  'tabu_length': 100,\n",
              "  'verbose': 3,\n",
              "  'white_list': None},\n",
              " 'dag': <pgmpy.base.DAG.DAG at 0x7f5b3291cbd0>,\n",
              " 'dag_edges': OutEdgeView([('N4', 'sum'), ('N4', 'N1'), ('N4', 'N2'), ('N1', 'sum'), ('N2', 'sum'), ('N2', 'N1'), ('N39', 'sum'), ('N39', 'N16'), ('N3', 'N2'), ('N3', 'sum'), ('N16', 'sum'), ('N16', 'N4')]),\n",
              " 'model': <pgmpy.base.DAG.DAG at 0x7f5b336f6dd0>,\n",
              " 'model_edges': [('N4', 'sum'),\n",
              "  ('N4', 'N1'),\n",
              "  ('N4', 'N2'),\n",
              "  ('N1', 'sum'),\n",
              "  ('N2', 'sum'),\n",
              "  ('N2', 'N1'),\n",
              "  ('N39', 'sum'),\n",
              "  ('N39', 'N16'),\n",
              "  ('N3', 'N2'),\n",
              "  ('N3', 'sum'),\n",
              "  ('N16', 'sum'),\n",
              "  ('N16', 'N4')],\n",
              " 'pdag': <pgmpy.base.DAG.PDAG at 0x7f5b32e7cbd0>,\n",
              " 'pdag_edges': OutEdgeView([('N4', 'N1'), ('N4', 'sum'), ('N4', 'N2'), ('N4', 'N16'), ('N1', 'sum'), ('N2', 'sum'), ('N2', 'N1'), ('N39', 'sum'), ('N39', 'N16'), ('N3', 'sum'), ('N3', 'N2'), ('N16', 'sum'), ('N16', 'N4'), ('N16', 'N39')]),\n",
              " 'undirected': <networkx.classes.graph.Graph at 0x7f5b338b6650>,\n",
              " 'undirected_edges': EdgeView([('N1', 'N2'), ('N1', 'N4'), ('N1', 'sum'), ('N2', 'N4'), ('N2', 'N3'), ('N2', 'sum'), ('N4', 'N16'), ('N4', 'sum'), ('N16', 'N39'), ('N16', 'sum'), ('N39', 'sum'), ('N3', 'sum')])}"
            ]
          },
          "metadata": {},
          "execution_count": 51
        }
      ]
    },
    {
      "cell_type": "code",
      "source": [
        "#'Calling Constrint algorithm with scoring type BIC'#\n",
        "model_constraint_bic  = bn.structure_learning.fit(df, methodtype='cs', scoretype='bic')"
      ],
      "metadata": {
        "colab": {
          "base_uri": "https://localhost:8080/",
          "height": 98,
          "referenced_widgets": [
            "cc230498651947a78a4840e3f802c4ce",
            "180d44ea2ed44d99a425da42a040c513",
            "6c3e538ddced42e88f9145c16b47fee3",
            "e557523e718c4d31b0c28833ba3bc418",
            "0ef8b0c8a6d14e2d9c897ef7e042bfa6",
            "be1f7867f50c4cb19652437229f48eae",
            "232245f08e4e4960ae5e3486e2f4a5b1",
            "575269e8bce84f56a18ad31ebab1fd05",
            "fbd5e7a18b02415597b885c6ef421cb9",
            "254d28c40f534e4584dbb00315cd99bd",
            "0c21b336dbf5447da6c127a7181106e5",
            "9a564819daac4bd9828073733c63d1e1",
            "876d4ac7fe3945ecaca6266d512c16c5",
            "3240fb44cf9b45e285cab00c131684a3",
            "0c8f5cef1de04d20abb6644082b3b108",
            "cbb29847b70b45378a86bcb5e481354f",
            "e2619b59093f4685ae17351c033fe56f",
            "4baa5077097e427aafbefa369dc7badb",
            "2c6ef54e07f4436f9236bfd61ae1f31b",
            "89d77579c37348b89ff72886107c6223",
            "7a32dfe2e5be402bb884936c78e2903d",
            "08b5d15228e7410cba6af5637415dda4"
          ]
        },
        "id": "IgsIkrhCtJVV",
        "outputId": "e8867ee4-682c-42ec-fad1-6df548ff70f9"
      },
      "execution_count": 49,
      "outputs": [
        {
          "output_type": "stream",
          "name": "stdout",
          "text": [
            "[bnlearn] >Computing best DAG using [cs]\n"
          ]
        },
        {
          "output_type": "display_data",
          "data": {
            "text/plain": [
              "  0%|          | 0/5 [00:00<?, ?it/s]"
            ],
            "application/vnd.jupyter.widget-view+json": {
              "version_major": 2,
              "version_minor": 0,
              "model_id": "cc230498651947a78a4840e3f802c4ce"
            }
          },
          "metadata": {}
        },
        {
          "output_type": "display_data",
          "data": {
            "text/plain": [
              "  0%|          | 0/5 [00:00<?, ?it/s]"
            ],
            "application/vnd.jupyter.widget-view+json": {
              "version_major": 2,
              "version_minor": 0,
              "model_id": "9a564819daac4bd9828073733c63d1e1"
            }
          },
          "metadata": {}
        }
      ]
    },
    {
      "cell_type": "code",
      "source": [
        "model_constraint_bic"
      ],
      "metadata": {
        "colab": {
          "base_uri": "https://localhost:8080/",
          "height": 0
        },
        "id": "kZdswLtttXrx",
        "outputId": "89ebda99-fe4d-48dd-c536-7f0cb2376ee9"
      },
      "execution_count": 52,
      "outputs": [
        {
          "output_type": "execute_result",
          "data": {
            "text/plain": [
              "{'adjmat': target     N4     N1    sum     N2    N39     N3    N16\n",
              " source                                                 \n",
              " N4      False   True   True   True  False  False  False\n",
              " N1      False  False   True  False  False  False  False\n",
              " sum     False  False  False  False  False  False  False\n",
              " N2      False   True   True  False  False  False  False\n",
              " N39     False  False   True  False  False  False   True\n",
              " N3      False  False   True   True  False  False  False\n",
              " N16      True  False   True  False  False  False  False,\n",
              " 'config': {'black_list': None,\n",
              "  'bw_list_method': None,\n",
              "  'class_node': None,\n",
              "  'epsilon': 0.0001,\n",
              "  'fixed_edges': set(),\n",
              "  'max_indegree': None,\n",
              "  'max_iter': 1000000.0,\n",
              "  'method': 'cs',\n",
              "  'return_all_dags': False,\n",
              "  'root_node': None,\n",
              "  'scoring': 'bic',\n",
              "  'tabu_length': 100,\n",
              "  'verbose': 3,\n",
              "  'white_list': None},\n",
              " 'dag': <pgmpy.base.DAG.DAG at 0x7f5b33689a90>,\n",
              " 'dag_edges': OutEdgeView([('N4', 'sum'), ('N4', 'N1'), ('N4', 'N2'), ('N1', 'sum'), ('N2', 'sum'), ('N2', 'N1'), ('N39', 'sum'), ('N39', 'N16'), ('N3', 'N2'), ('N3', 'sum'), ('N16', 'sum'), ('N16', 'N4')]),\n",
              " 'model': <pgmpy.base.DAG.DAG at 0x7f5b33679e90>,\n",
              " 'model_edges': [('N4', 'sum'),\n",
              "  ('N4', 'N1'),\n",
              "  ('N4', 'N2'),\n",
              "  ('N1', 'sum'),\n",
              "  ('N2', 'sum'),\n",
              "  ('N2', 'N1'),\n",
              "  ('N39', 'sum'),\n",
              "  ('N39', 'N16'),\n",
              "  ('N3', 'N2'),\n",
              "  ('N3', 'sum'),\n",
              "  ('N16', 'sum'),\n",
              "  ('N16', 'N4')],\n",
              " 'pdag': <pgmpy.base.DAG.PDAG at 0x7f5b336a1090>,\n",
              " 'pdag_edges': OutEdgeView([('N4', 'N1'), ('N4', 'sum'), ('N4', 'N2'), ('N4', 'N16'), ('N1', 'sum'), ('N2', 'sum'), ('N2', 'N1'), ('N39', 'sum'), ('N39', 'N16'), ('N3', 'sum'), ('N3', 'N2'), ('N16', 'sum'), ('N16', 'N4'), ('N16', 'N39')]),\n",
              " 'undirected': <networkx.classes.graph.Graph at 0x7f5b3369afd0>,\n",
              " 'undirected_edges': EdgeView([('N1', 'N2'), ('N1', 'N4'), ('N1', 'sum'), ('N2', 'N4'), ('N2', 'N3'), ('N2', 'sum'), ('N4', 'N16'), ('N4', 'sum'), ('N16', 'N39'), ('N16', 'sum'), ('N39', 'sum'), ('N3', 'sum')])}"
            ]
          },
          "metadata": {},
          "execution_count": 52
        }
      ]
    },
    {
      "cell_type": "markdown",
      "source": [
        "**Plotting Score Graph**"
      ],
      "metadata": {
        "id": "jY7torX1urE_"
      }
    },
    {
      "cell_type": "markdown",
      "source": [
        "**Making Interactive Plot of Score models of HillClimb Algorithm and Constraint based algorithm**"
      ],
      "metadata": {
        "id": "_g_P6L4ou_NX"
      }
    },
    {
      "cell_type": "markdown",
      "source": [
        "Plotting Hill based using score BIC"
      ],
      "metadata": {
        "id": "Q3aq7LgWvc2A"
      }
    },
    {
      "cell_type": "code",
      "source": [
        "bn.plot(model_hill_bic, interactive=True)"
      ],
      "metadata": {
        "colab": {
          "base_uri": "https://localhost:8080/",
          "height": 1490
        },
        "id": "pxNt7vtqvJgt",
        "outputId": "2b96c480-9ca3-4e3f-cd86-ec78e2a6ef16"
      },
      "execution_count": 53,
      "outputs": [
        {
          "output_type": "stream",
          "name": "stdout",
          "text": [
            "[bnlearn]> Set node properties.\n",
            "[bnlearn]> Set edge properties.\n",
            "[bnlearn] >Plot based on Bayesian model\n"
          ]
        },
        {
          "output_type": "display_data",
          "data": {
            "text/plain": [
              "<IPython.core.display.HTML object>"
            ],
            "text/html": [
              "<html>\n",
              "<head>\n",
              "<link rel=\"stylesheet\" href=\"https://cdn.jsdelivr.net/npm/vis-network@latest/styles/vis-network.css\" type=\"text/css\" />\n",
              "<script type=\"text/javascript\" src=\"https://cdn.jsdelivr.net/npm/vis-network@latest/dist/vis-network.min.js\"> </script>\n",
              "<center>\n",
              "<h1></h1>\n",
              "</center>\n",
              "\n",
              "<!-- <link rel=\"stylesheet\" href=\"../node_modules/vis/dist/vis.min.css\" type=\"text/css\" />\n",
              "<script type=\"text/javascript\" src=\"../node_modules/vis/dist/vis.js\"> </script>-->\n",
              "\n",
              "<style type=\"text/css\">\n",
              "\n",
              "        #mynetwork {\n",
              "            width: 70%;\n",
              "            height: 800px;\n",
              "            background-color: #ffffff;\n",
              "            border: 1px solid lightgray;\n",
              "            position: relative;\n",
              "            float: left;\n",
              "        }\n",
              "\n",
              "        \n",
              "\n",
              "        \n",
              "        #config {\n",
              "            float: left;\n",
              "            width: 400px;\n",
              "            height: 600px;\n",
              "        }\n",
              "        \n",
              "\n",
              "        \n",
              "</style>\n",
              "\n",
              "</head>\n",
              "\n",
              "<body>\n",
              "<div id = \"mynetwork\"></div>\n",
              "\n",
              "\n",
              "<div id = \"config\"></div>\n",
              "\n",
              "<script type=\"text/javascript\">\n",
              "\n",
              "    // initialize global variables.\n",
              "    var edges;\n",
              "    var nodes;\n",
              "    var network; \n",
              "    var container;\n",
              "    var options, data;\n",
              "\n",
              "    \n",
              "    // This method is responsible for drawing the graph, returns the drawn network\n",
              "    function drawGraph() {\n",
              "        var container = document.getElementById('mynetwork');\n",
              "        \n",
              "        \n",
              "\n",
              "        // parsing and collecting nodes and edges from the python\n",
              "        nodes = new vis.DataSet([{\"color\": \"#1f456e\", \"id\": \"N1\", \"label\": \"N1\", \"shape\": \"dot\", \"size\": 10}, {\"color\": \"#1f456e\", \"id\": \"N4\", \"label\": \"N4\", \"shape\": \"dot\", \"size\": 10}, {\"color\": \"#1f456e\", \"id\": \"sum\", \"label\": \"sum\", \"shape\": \"dot\", \"size\": 10}, {\"color\": \"#1f456e\", \"id\": \"N16\", \"label\": \"N16\", \"shape\": \"dot\", \"size\": 10}, {\"color\": \"#1f456e\", \"id\": \"N2\", \"label\": \"N2\", \"shape\": \"dot\", \"size\": 10}, {\"color\": \"#1f456e\", \"id\": \"N39\", \"label\": \"N39\", \"shape\": \"dot\", \"size\": 10}, {\"color\": \"#1f456e\", \"id\": \"N3\", \"label\": \"N3\", \"shape\": \"dot\", \"size\": 10}]);\n",
              "        edges = new vis.DataSet([{\"arrows\": \"to\", \"color\": \"#000000\", \"from\": \"N1\", \"label\": 1.0, \"to\": \"N4\", \"weight\": 1}, {\"arrows\": \"to\", \"color\": \"#000000\", \"from\": \"N1\", \"label\": 1.0, \"to\": \"sum\", \"weight\": 1}, {\"arrows\": \"to\", \"color\": \"#000000\", \"from\": \"N4\", \"label\": 1.0, \"to\": \"N16\", \"weight\": 1}, {\"arrows\": \"to\", \"color\": \"#000000\", \"from\": \"N4\", \"label\": 1.0, \"to\": \"sum\", \"weight\": 1}, {\"arrows\": \"to\", \"color\": \"#000000\", \"from\": \"N2\", \"label\": 1.0, \"to\": \"N1\", \"weight\": 1}, {\"arrows\": \"to\", \"color\": \"#000000\", \"from\": \"N2\", \"label\": 1.0, \"to\": \"N4\", \"weight\": 1}, {\"arrows\": \"to\", \"color\": \"#000000\", \"from\": \"N2\", \"label\": 1.0, \"to\": \"sum\", \"weight\": 1}, {\"arrows\": \"to\", \"color\": \"#000000\", \"from\": \"N16\", \"label\": 1.0, \"to\": \"N39\", \"weight\": 1}, {\"arrows\": \"to\", \"color\": \"#000000\", \"from\": \"N16\", \"label\": 1.0, \"to\": \"sum\", \"weight\": 1}, {\"arrows\": \"to\", \"color\": \"#000000\", \"from\": \"N39\", \"label\": 1.0, \"to\": \"sum\", \"weight\": 1}, {\"arrows\": \"to\", \"color\": \"#000000\", \"from\": \"N3\", \"label\": 1.0, \"to\": \"N2\", \"weight\": 1}, {\"arrows\": \"to\", \"color\": \"#000000\", \"from\": \"N3\", \"label\": 1.0, \"to\": \"sum\", \"weight\": 1}]);\n",
              "\n",
              "        // adding nodes and edges to the graph\n",
              "        data = {nodes: nodes, edges: edges};\n",
              "\n",
              "        var options = {\n",
              "    \"configure\": {\n",
              "        \"enabled\": true,\n",
              "        \"filter\": [\n",
              "            \"physics\"\n",
              "        ]\n",
              "    },\n",
              "    \"edges\": {\n",
              "        \"color\": {\n",
              "            \"inherit\": true\n",
              "        },\n",
              "        \"smooth\": {\n",
              "            \"enabled\": true,\n",
              "            \"type\": \"dynamic\"\n",
              "        }\n",
              "    },\n",
              "    \"interaction\": {\n",
              "        \"dragNodes\": true,\n",
              "        \"hideEdgesOnDrag\": false,\n",
              "        \"hideNodesOnDrag\": false\n",
              "    },\n",
              "    \"physics\": {\n",
              "        \"enabled\": true,\n",
              "        \"stabilization\": {\n",
              "            \"enabled\": true,\n",
              "            \"fit\": true,\n",
              "            \"iterations\": 1000,\n",
              "            \"onlyDynamicEdges\": false,\n",
              "            \"updateInterval\": 50\n",
              "        }\n",
              "    }\n",
              "};\n",
              "        \n",
              "        \n",
              "\n",
              "        \n",
              "        // if this network requires displaying the configure window,\n",
              "        // put it in its div\n",
              "        options.configure[\"container\"] = document.getElementById(\"config\");\n",
              "        \n",
              "\n",
              "        network = new vis.Network(container, data, options);\n",
              "\t \n",
              "        \n",
              "\n",
              "\n",
              "        \n",
              "\n",
              "        return network;\n",
              "\n",
              "    }\n",
              "\n",
              "    drawGraph();\n",
              "\n",
              "</script>\n",
              "</body>\n",
              "</html>"
            ]
          },
          "metadata": {}
        },
        {
          "output_type": "execute_result",
          "data": {
            "text/plain": [
              "{'G': <networkx.classes.digraph.DiGraph at 0x7f5b32c88890>,\n",
              " 'edge_properties': {('N1', 'N4'): {'color': '#000000', 'weight': 1},\n",
              "  ('N1', 'sum'): {'color': '#000000', 'weight': 1},\n",
              "  ('N16', 'N39'): {'color': '#000000', 'weight': 1},\n",
              "  ('N16', 'sum'): {'color': '#000000', 'weight': 1},\n",
              "  ('N2', 'N1'): {'color': '#000000', 'weight': 1},\n",
              "  ('N2', 'N4'): {'color': '#000000', 'weight': 1},\n",
              "  ('N2', 'sum'): {'color': '#000000', 'weight': 1},\n",
              "  ('N3', 'N2'): {'color': '#000000', 'weight': 1},\n",
              "  ('N3', 'sum'): {'color': '#000000', 'weight': 1},\n",
              "  ('N39', 'sum'): {'color': '#000000', 'weight': 1},\n",
              "  ('N4', 'N16'): {'color': '#000000', 'weight': 1},\n",
              "  ('N4', 'sum'): {'color': '#000000', 'weight': 1}},\n",
              " 'node_properties': {'N1': {'node_color': '#1f456e', 'node_size': 10},\n",
              "  'N16': {'node_color': '#1f456e', 'node_size': 10},\n",
              "  'N2': {'node_color': '#1f456e', 'node_size': 10},\n",
              "  'N3': {'node_color': '#1f456e', 'node_size': 10},\n",
              "  'N39': {'node_color': '#1f456e', 'node_size': 10},\n",
              "  'N4': {'node_color': '#1f456e', 'node_size': 10},\n",
              "  'sum': {'node_color': '#1f456e', 'node_size': 10}},\n",
              " 'pos': {'N1': array([ 0.81364483, -0.29271099]),\n",
              "  'N16': array([-0.59018248,  0.81189756]),\n",
              "  'N2': array([0.16575749, 0.77475149]),\n",
              "  'N3': array([-0.6429092 , -0.81101344]),\n",
              "  'N39': array([ 0.279321  , -0.93302076]),\n",
              "  'N4': array([-1.        ,  0.00444891]),\n",
              "  'sum': array([0.97436837, 0.44564722])}}"
            ]
          },
          "metadata": {},
          "execution_count": 53
        }
      ]
    },
    {
      "cell_type": "markdown",
      "source": [
        "Plotting Hill based using score K2"
      ],
      "metadata": {
        "id": "Gj83CkjAvqqj"
      }
    },
    {
      "cell_type": "code",
      "source": [
        "bn.plot(model_hill_k2, interactive=True)"
      ],
      "metadata": {
        "colab": {
          "base_uri": "https://localhost:8080/",
          "height": 1490
        },
        "id": "3YozFDPbv0dA",
        "outputId": "f4ecb64b-f8fc-49ef-9b9b-d6cd14b62c02"
      },
      "execution_count": 55,
      "outputs": [
        {
          "output_type": "stream",
          "name": "stdout",
          "text": [
            "[bnlearn]> Set node properties.\n",
            "[bnlearn]> Set edge properties.\n",
            "[bnlearn] >Plot based on Bayesian model\n"
          ]
        },
        {
          "output_type": "display_data",
          "data": {
            "text/plain": [
              "<IPython.core.display.HTML object>"
            ],
            "text/html": [
              "<html>\n",
              "<head>\n",
              "<link rel=\"stylesheet\" href=\"https://cdn.jsdelivr.net/npm/vis-network@latest/styles/vis-network.css\" type=\"text/css\" />\n",
              "<script type=\"text/javascript\" src=\"https://cdn.jsdelivr.net/npm/vis-network@latest/dist/vis-network.min.js\"> </script>\n",
              "<center>\n",
              "<h1></h1>\n",
              "</center>\n",
              "\n",
              "<!-- <link rel=\"stylesheet\" href=\"../node_modules/vis/dist/vis.min.css\" type=\"text/css\" />\n",
              "<script type=\"text/javascript\" src=\"../node_modules/vis/dist/vis.js\"> </script>-->\n",
              "\n",
              "<style type=\"text/css\">\n",
              "\n",
              "        #mynetwork {\n",
              "            width: 70%;\n",
              "            height: 800px;\n",
              "            background-color: #ffffff;\n",
              "            border: 1px solid lightgray;\n",
              "            position: relative;\n",
              "            float: left;\n",
              "        }\n",
              "\n",
              "        \n",
              "\n",
              "        \n",
              "        #config {\n",
              "            float: left;\n",
              "            width: 400px;\n",
              "            height: 600px;\n",
              "        }\n",
              "        \n",
              "\n",
              "        \n",
              "</style>\n",
              "\n",
              "</head>\n",
              "\n",
              "<body>\n",
              "<div id = \"mynetwork\"></div>\n",
              "\n",
              "\n",
              "<div id = \"config\"></div>\n",
              "\n",
              "<script type=\"text/javascript\">\n",
              "\n",
              "    // initialize global variables.\n",
              "    var edges;\n",
              "    var nodes;\n",
              "    var network; \n",
              "    var container;\n",
              "    var options, data;\n",
              "\n",
              "    \n",
              "    // This method is responsible for drawing the graph, returns the drawn network\n",
              "    function drawGraph() {\n",
              "        var container = document.getElementById('mynetwork');\n",
              "        \n",
              "        \n",
              "\n",
              "        // parsing and collecting nodes and edges from the python\n",
              "        nodes = new vis.DataSet([{\"color\": \"#1f456e\", \"id\": \"N1\", \"label\": \"N1\", \"shape\": \"dot\", \"size\": 10}, {\"color\": \"#1f456e\", \"id\": \"N2\", \"label\": \"N2\", \"shape\": \"dot\", \"size\": 10}, {\"color\": \"#1f456e\", \"id\": \"N4\", \"label\": \"N4\", \"shape\": \"dot\", \"size\": 10}, {\"color\": \"#1f456e\", \"id\": \"N16\", \"label\": \"N16\", \"shape\": \"dot\", \"size\": 10}, {\"color\": \"#1f456e\", \"id\": \"N3\", \"label\": \"N3\", \"shape\": \"dot\", \"size\": 10}, {\"color\": \"#1f456e\", \"id\": \"N39\", \"label\": \"N39\", \"shape\": \"dot\", \"size\": 10}, {\"color\": \"#1f456e\", \"id\": \"sum\", \"label\": \"sum\", \"shape\": \"dot\", \"size\": 10}]);\n",
              "        edges = new vis.DataSet([{\"arrows\": \"to\", \"color\": \"#000000\", \"from\": \"N1\", \"label\": 1.0, \"to\": \"N2\", \"weight\": 1}, {\"arrows\": \"to\", \"color\": \"#000000\", \"from\": \"N1\", \"label\": 1.0, \"to\": \"N4\", \"weight\": 1}, {\"arrows\": \"to\", \"color\": \"#000000\", \"from\": \"N1\", \"label\": 1.0, \"to\": \"N16\", \"weight\": 1}, {\"arrows\": \"to\", \"color\": \"#000000\", \"from\": \"N1\", \"label\": 1.0, \"to\": \"N3\", \"weight\": 1}, {\"arrows\": \"to\", \"color\": \"#000000\", \"from\": \"N2\", \"label\": 1.0, \"to\": \"N4\", \"weight\": 1}, {\"arrows\": \"to\", \"color\": \"#000000\", \"from\": \"N2\", \"label\": 1.0, \"to\": \"N16\", \"weight\": 1}, {\"arrows\": \"to\", \"color\": \"#000000\", \"from\": \"N2\", \"label\": 1.0, \"to\": \"N3\", \"weight\": 1}, {\"arrows\": \"to\", \"color\": \"#000000\", \"from\": \"N4\", \"label\": 1.0, \"to\": \"N16\", \"weight\": 1}, {\"arrows\": \"to\", \"color\": \"#000000\", \"from\": \"N4\", \"label\": 1.0, \"to\": \"N3\", \"weight\": 1}, {\"arrows\": \"to\", \"color\": \"#000000\", \"from\": \"N16\", \"label\": 1.0, \"to\": \"N3\", \"weight\": 1}, {\"arrows\": \"to\", \"color\": \"#000000\", \"from\": \"N39\", \"label\": 1.0, \"to\": \"N1\", \"weight\": 1}, {\"arrows\": \"to\", \"color\": \"#000000\", \"from\": \"N39\", \"label\": 1.0, \"to\": \"N2\", \"weight\": 1}, {\"arrows\": \"to\", \"color\": \"#000000\", \"from\": \"N39\", \"label\": 1.0, \"to\": \"N4\", \"weight\": 1}, {\"arrows\": \"to\", \"color\": \"#000000\", \"from\": \"N39\", \"label\": 1.0, \"to\": \"N16\", \"weight\": 1}, {\"arrows\": \"to\", \"color\": \"#000000\", \"from\": \"N39\", \"label\": 1.0, \"to\": \"N3\", \"weight\": 1}, {\"arrows\": \"to\", \"color\": \"#000000\", \"from\": \"N39\", \"label\": 1.0, \"to\": \"sum\", \"weight\": 1}, {\"arrows\": \"to\", \"color\": \"#000000\", \"from\": \"sum\", \"label\": 1.0, \"to\": \"N1\", \"weight\": 1}, {\"arrows\": \"to\", \"color\": \"#000000\", \"from\": \"sum\", \"label\": 1.0, \"to\": \"N2\", \"weight\": 1}, {\"arrows\": \"to\", \"color\": \"#000000\", \"from\": \"sum\", \"label\": 1.0, \"to\": \"N4\", \"weight\": 1}, {\"arrows\": \"to\", \"color\": \"#000000\", \"from\": \"sum\", \"label\": 1.0, \"to\": \"N16\", \"weight\": 1}, {\"arrows\": \"to\", \"color\": \"#000000\", \"from\": \"sum\", \"label\": 1.0, \"to\": \"N3\", \"weight\": 1}]);\n",
              "\n",
              "        // adding nodes and edges to the graph\n",
              "        data = {nodes: nodes, edges: edges};\n",
              "\n",
              "        var options = {\n",
              "    \"configure\": {\n",
              "        \"enabled\": true,\n",
              "        \"filter\": [\n",
              "            \"physics\"\n",
              "        ]\n",
              "    },\n",
              "    \"edges\": {\n",
              "        \"color\": {\n",
              "            \"inherit\": true\n",
              "        },\n",
              "        \"smooth\": {\n",
              "            \"enabled\": true,\n",
              "            \"type\": \"dynamic\"\n",
              "        }\n",
              "    },\n",
              "    \"interaction\": {\n",
              "        \"dragNodes\": true,\n",
              "        \"hideEdgesOnDrag\": false,\n",
              "        \"hideNodesOnDrag\": false\n",
              "    },\n",
              "    \"physics\": {\n",
              "        \"enabled\": true,\n",
              "        \"stabilization\": {\n",
              "            \"enabled\": true,\n",
              "            \"fit\": true,\n",
              "            \"iterations\": 1000,\n",
              "            \"onlyDynamicEdges\": false,\n",
              "            \"updateInterval\": 50\n",
              "        }\n",
              "    }\n",
              "};\n",
              "        \n",
              "        \n",
              "\n",
              "        \n",
              "        // if this network requires displaying the configure window,\n",
              "        // put it in its div\n",
              "        options.configure[\"container\"] = document.getElementById(\"config\");\n",
              "        \n",
              "\n",
              "        network = new vis.Network(container, data, options);\n",
              "\t \n",
              "        \n",
              "\n",
              "\n",
              "        \n",
              "\n",
              "        return network;\n",
              "\n",
              "    }\n",
              "\n",
              "    drawGraph();\n",
              "\n",
              "</script>\n",
              "</body>\n",
              "</html>"
            ]
          },
          "metadata": {}
        },
        {
          "output_type": "execute_result",
          "data": {
            "text/plain": [
              "{'G': <networkx.classes.digraph.DiGraph at 0x7f5b33c0e690>,\n",
              " 'edge_properties': {('N1', 'N16'): {'color': '#000000', 'weight': 1},\n",
              "  ('N1', 'N2'): {'color': '#000000', 'weight': 1},\n",
              "  ('N1', 'N3'): {'color': '#000000', 'weight': 1},\n",
              "  ('N1', 'N4'): {'color': '#000000', 'weight': 1},\n",
              "  ('N16', 'N3'): {'color': '#000000', 'weight': 1},\n",
              "  ('N2', 'N16'): {'color': '#000000', 'weight': 1},\n",
              "  ('N2', 'N3'): {'color': '#000000', 'weight': 1},\n",
              "  ('N2', 'N4'): {'color': '#000000', 'weight': 1},\n",
              "  ('N39', 'N1'): {'color': '#000000', 'weight': 1},\n",
              "  ('N39', 'N16'): {'color': '#000000', 'weight': 1},\n",
              "  ('N39', 'N2'): {'color': '#000000', 'weight': 1},\n",
              "  ('N39', 'N3'): {'color': '#000000', 'weight': 1},\n",
              "  ('N39', 'N4'): {'color': '#000000', 'weight': 1},\n",
              "  ('N39', 'sum'): {'color': '#000000', 'weight': 1},\n",
              "  ('N4', 'N16'): {'color': '#000000', 'weight': 1},\n",
              "  ('N4', 'N3'): {'color': '#000000', 'weight': 1},\n",
              "  ('sum', 'N1'): {'color': '#000000', 'weight': 1},\n",
              "  ('sum', 'N16'): {'color': '#000000', 'weight': 1},\n",
              "  ('sum', 'N2'): {'color': '#000000', 'weight': 1},\n",
              "  ('sum', 'N3'): {'color': '#000000', 'weight': 1},\n",
              "  ('sum', 'N4'): {'color': '#000000', 'weight': 1}},\n",
              " 'node_properties': {'N1': {'node_color': '#1f456e', 'node_size': 10},\n",
              "  'N16': {'node_color': '#1f456e', 'node_size': 10},\n",
              "  'N2': {'node_color': '#1f456e', 'node_size': 10},\n",
              "  'N3': {'node_color': '#1f456e', 'node_size': 10},\n",
              "  'N39': {'node_color': '#1f456e', 'node_size': 10},\n",
              "  'N4': {'node_color': '#1f456e', 'node_size': 10},\n",
              "  'sum': {'node_color': '#1f456e', 'node_size': 10}},\n",
              " 'pos': {'N1': array([0.39284429, 0.72406881]),\n",
              "  'N16': array([ 0.69423471, -0.59312402]),\n",
              "  'N2': array([0.80895473, 0.14186707]),\n",
              "  'N3': array([-0.77240265, -0.44394493]),\n",
              "  'N39': array([-0.31630122,  0.8429706 ]),\n",
              "  'N4': array([ 0.04984097, -1.        ]),\n",
              "  'sum': array([-0.85717083,  0.32816247])}}"
            ]
          },
          "metadata": {},
          "execution_count": 55
        }
      ]
    },
    {
      "cell_type": "markdown",
      "source": [
        "Plotting HillClimb Algorithm with score type BDEU"
      ],
      "metadata": {
        "id": "7E1L_VHvxjjJ"
      }
    },
    {
      "cell_type": "code",
      "source": [
        " bn.plot(model_hill_bdeu, interactive=True)"
      ],
      "metadata": {
        "colab": {
          "base_uri": "https://localhost:8080/",
          "height": 1490
        },
        "id": "G4NkbZlSxG8K",
        "outputId": "56edeb35-4099-4dba-9c96-c033fcae9532"
      },
      "execution_count": 56,
      "outputs": [
        {
          "output_type": "stream",
          "name": "stdout",
          "text": [
            "[bnlearn]> Set node properties.\n",
            "[bnlearn]> Set edge properties.\n",
            "[bnlearn] >Plot based on Bayesian model\n"
          ]
        },
        {
          "output_type": "display_data",
          "data": {
            "text/plain": [
              "<IPython.core.display.HTML object>"
            ],
            "text/html": [
              "<html>\n",
              "<head>\n",
              "<link rel=\"stylesheet\" href=\"https://cdn.jsdelivr.net/npm/vis-network@latest/styles/vis-network.css\" type=\"text/css\" />\n",
              "<script type=\"text/javascript\" src=\"https://cdn.jsdelivr.net/npm/vis-network@latest/dist/vis-network.min.js\"> </script>\n",
              "<center>\n",
              "<h1></h1>\n",
              "</center>\n",
              "\n",
              "<!-- <link rel=\"stylesheet\" href=\"../node_modules/vis/dist/vis.min.css\" type=\"text/css\" />\n",
              "<script type=\"text/javascript\" src=\"../node_modules/vis/dist/vis.js\"> </script>-->\n",
              "\n",
              "<style type=\"text/css\">\n",
              "\n",
              "        #mynetwork {\n",
              "            width: 70%;\n",
              "            height: 800px;\n",
              "            background-color: #ffffff;\n",
              "            border: 1px solid lightgray;\n",
              "            position: relative;\n",
              "            float: left;\n",
              "        }\n",
              "\n",
              "        \n",
              "\n",
              "        \n",
              "        #config {\n",
              "            float: left;\n",
              "            width: 400px;\n",
              "            height: 600px;\n",
              "        }\n",
              "        \n",
              "\n",
              "        \n",
              "</style>\n",
              "\n",
              "</head>\n",
              "\n",
              "<body>\n",
              "<div id = \"mynetwork\"></div>\n",
              "\n",
              "\n",
              "<div id = \"config\"></div>\n",
              "\n",
              "<script type=\"text/javascript\">\n",
              "\n",
              "    // initialize global variables.\n",
              "    var edges;\n",
              "    var nodes;\n",
              "    var network; \n",
              "    var container;\n",
              "    var options, data;\n",
              "\n",
              "    \n",
              "    // This method is responsible for drawing the graph, returns the drawn network\n",
              "    function drawGraph() {\n",
              "        var container = document.getElementById('mynetwork');\n",
              "        \n",
              "        \n",
              "\n",
              "        // parsing and collecting nodes and edges from the python\n",
              "        nodes = new vis.DataSet([{\"color\": \"#1f456e\", \"id\": \"N1\", \"label\": \"N1\", \"shape\": \"dot\", \"size\": 10}, {\"color\": \"#1f456e\", \"id\": \"N4\", \"label\": \"N4\", \"shape\": \"dot\", \"size\": 10}, {\"color\": \"#1f456e\", \"id\": \"sum\", \"label\": \"sum\", \"shape\": \"dot\", \"size\": 10}, {\"color\": \"#1f456e\", \"id\": \"N16\", \"label\": \"N16\", \"shape\": \"dot\", \"size\": 10}, {\"color\": \"#1f456e\", \"id\": \"N2\", \"label\": \"N2\", \"shape\": \"dot\", \"size\": 10}, {\"color\": \"#1f456e\", \"id\": \"N3\", \"label\": \"N3\", \"shape\": \"dot\", \"size\": 10}, {\"color\": \"#1f456e\", \"id\": \"N39\", \"label\": \"N39\", \"shape\": \"dot\", \"size\": 10}]);\n",
              "        edges = new vis.DataSet([{\"arrows\": \"to\", \"color\": \"#000000\", \"from\": \"N1\", \"label\": 1.0, \"to\": \"N4\", \"weight\": 1}, {\"arrows\": \"to\", \"color\": \"#000000\", \"from\": \"N1\", \"label\": 1.0, \"to\": \"sum\", \"weight\": 1}, {\"arrows\": \"to\", \"color\": \"#000000\", \"from\": \"N4\", \"label\": 1.0, \"to\": \"N16\", \"weight\": 1}, {\"arrows\": \"to\", \"color\": \"#000000\", \"from\": \"N4\", \"label\": 1.0, \"to\": \"sum\", \"weight\": 1}, {\"arrows\": \"to\", \"color\": \"#000000\", \"from\": \"N2\", \"label\": 1.0, \"to\": \"N1\", \"weight\": 1}, {\"arrows\": \"to\", \"color\": \"#000000\", \"from\": \"N2\", \"label\": 1.0, \"to\": \"N4\", \"weight\": 1}, {\"arrows\": \"to\", \"color\": \"#000000\", \"from\": \"N2\", \"label\": 1.0, \"to\": \"N3\", \"weight\": 1}, {\"arrows\": \"to\", \"color\": \"#000000\", \"from\": \"N2\", \"label\": 1.0, \"to\": \"sum\", \"weight\": 1}, {\"arrows\": \"to\", \"color\": \"#000000\", \"from\": \"N3\", \"label\": 1.0, \"to\": \"sum\", \"weight\": 1}, {\"arrows\": \"to\", \"color\": \"#000000\", \"from\": \"N16\", \"label\": 1.0, \"to\": \"N39\", \"weight\": 1}, {\"arrows\": \"to\", \"color\": \"#000000\", \"from\": \"N16\", \"label\": 1.0, \"to\": \"sum\", \"weight\": 1}, {\"arrows\": \"to\", \"color\": \"#000000\", \"from\": \"N39\", \"label\": 1.0, \"to\": \"sum\", \"weight\": 1}]);\n",
              "\n",
              "        // adding nodes and edges to the graph\n",
              "        data = {nodes: nodes, edges: edges};\n",
              "\n",
              "        var options = {\n",
              "    \"configure\": {\n",
              "        \"enabled\": true,\n",
              "        \"filter\": [\n",
              "            \"physics\"\n",
              "        ]\n",
              "    },\n",
              "    \"edges\": {\n",
              "        \"color\": {\n",
              "            \"inherit\": true\n",
              "        },\n",
              "        \"smooth\": {\n",
              "            \"enabled\": true,\n",
              "            \"type\": \"dynamic\"\n",
              "        }\n",
              "    },\n",
              "    \"interaction\": {\n",
              "        \"dragNodes\": true,\n",
              "        \"hideEdgesOnDrag\": false,\n",
              "        \"hideNodesOnDrag\": false\n",
              "    },\n",
              "    \"physics\": {\n",
              "        \"enabled\": true,\n",
              "        \"stabilization\": {\n",
              "            \"enabled\": true,\n",
              "            \"fit\": true,\n",
              "            \"iterations\": 1000,\n",
              "            \"onlyDynamicEdges\": false,\n",
              "            \"updateInterval\": 50\n",
              "        }\n",
              "    }\n",
              "};\n",
              "        \n",
              "        \n",
              "\n",
              "        \n",
              "        // if this network requires displaying the configure window,\n",
              "        // put it in its div\n",
              "        options.configure[\"container\"] = document.getElementById(\"config\");\n",
              "        \n",
              "\n",
              "        network = new vis.Network(container, data, options);\n",
              "\t \n",
              "        \n",
              "\n",
              "\n",
              "        \n",
              "\n",
              "        return network;\n",
              "\n",
              "    }\n",
              "\n",
              "    drawGraph();\n",
              "\n",
              "</script>\n",
              "</body>\n",
              "</html>"
            ]
          },
          "metadata": {}
        },
        {
          "output_type": "execute_result",
          "data": {
            "text/plain": [
              "{'G': <networkx.classes.digraph.DiGraph at 0x7f5b36cebb90>,\n",
              " 'edge_properties': {('N1', 'N4'): {'color': '#000000', 'weight': 1},\n",
              "  ('N1', 'sum'): {'color': '#000000', 'weight': 1},\n",
              "  ('N16', 'N39'): {'color': '#000000', 'weight': 1},\n",
              "  ('N16', 'sum'): {'color': '#000000', 'weight': 1},\n",
              "  ('N2', 'N1'): {'color': '#000000', 'weight': 1},\n",
              "  ('N2', 'N3'): {'color': '#000000', 'weight': 1},\n",
              "  ('N2', 'N4'): {'color': '#000000', 'weight': 1},\n",
              "  ('N2', 'sum'): {'color': '#000000', 'weight': 1},\n",
              "  ('N3', 'sum'): {'color': '#000000', 'weight': 1},\n",
              "  ('N39', 'sum'): {'color': '#000000', 'weight': 1},\n",
              "  ('N4', 'N16'): {'color': '#000000', 'weight': 1},\n",
              "  ('N4', 'sum'): {'color': '#000000', 'weight': 1}},\n",
              " 'node_properties': {'N1': {'node_color': '#1f456e', 'node_size': 10},\n",
              "  'N16': {'node_color': '#1f456e', 'node_size': 10},\n",
              "  'N2': {'node_color': '#1f456e', 'node_size': 10},\n",
              "  'N3': {'node_color': '#1f456e', 'node_size': 10},\n",
              "  'N39': {'node_color': '#1f456e', 'node_size': 10},\n",
              "  'N4': {'node_color': '#1f456e', 'node_size': 10},\n",
              "  'sum': {'node_color': '#1f456e', 'node_size': 10}},\n",
              " 'pos': {'N1': array([ 0.63693221, -0.33304675]),\n",
              "  'N16': array([ 0.22227917, -0.96252611]),\n",
              "  'N2': array([1.        , 0.30035041]),\n",
              "  'N3': array([0.32055406, 0.92898081]),\n",
              "  'N39': array([-0.92418282,  0.02097252]),\n",
              "  'N4': array([-0.69955889, -0.79920703]),\n",
              "  'sum': array([-0.55602371,  0.84447615])}}"
            ]
          },
          "metadata": {},
          "execution_count": 56
        }
      ]
    },
    {
      "cell_type": "markdown",
      "source": [
        "Plotting Constraint Algorithm with K2 score"
      ],
      "metadata": {
        "id": "FFvnv0s-zbRA"
      }
    },
    {
      "cell_type": "code",
      "source": [
        "bn.plot(model_constraint_k2, interactive=True)"
      ],
      "metadata": {
        "colab": {
          "base_uri": "https://localhost:8080/",
          "height": 1490
        },
        "id": "PdG95yqjv5RD",
        "outputId": "fdb3b7bc-0032-45c7-dd24-cc6c6bd19b7d"
      },
      "execution_count": 58,
      "outputs": [
        {
          "output_type": "stream",
          "name": "stdout",
          "text": [
            "[bnlearn]> Set node properties.\n",
            "[bnlearn]> Set edge properties.\n",
            "[bnlearn] >Plot based on Bayesian model\n"
          ]
        },
        {
          "output_type": "display_data",
          "data": {
            "text/plain": [
              "<IPython.core.display.HTML object>"
            ],
            "text/html": [
              "<html>\n",
              "<head>\n",
              "<link rel=\"stylesheet\" href=\"https://cdn.jsdelivr.net/npm/vis-network@latest/styles/vis-network.css\" type=\"text/css\" />\n",
              "<script type=\"text/javascript\" src=\"https://cdn.jsdelivr.net/npm/vis-network@latest/dist/vis-network.min.js\"> </script>\n",
              "<center>\n",
              "<h1></h1>\n",
              "</center>\n",
              "\n",
              "<!-- <link rel=\"stylesheet\" href=\"../node_modules/vis/dist/vis.min.css\" type=\"text/css\" />\n",
              "<script type=\"text/javascript\" src=\"../node_modules/vis/dist/vis.js\"> </script>-->\n",
              "\n",
              "<style type=\"text/css\">\n",
              "\n",
              "        #mynetwork {\n",
              "            width: 70%;\n",
              "            height: 800px;\n",
              "            background-color: #ffffff;\n",
              "            border: 1px solid lightgray;\n",
              "            position: relative;\n",
              "            float: left;\n",
              "        }\n",
              "\n",
              "        \n",
              "\n",
              "        \n",
              "        #config {\n",
              "            float: left;\n",
              "            width: 400px;\n",
              "            height: 600px;\n",
              "        }\n",
              "        \n",
              "\n",
              "        \n",
              "</style>\n",
              "\n",
              "</head>\n",
              "\n",
              "<body>\n",
              "<div id = \"mynetwork\"></div>\n",
              "\n",
              "\n",
              "<div id = \"config\"></div>\n",
              "\n",
              "<script type=\"text/javascript\">\n",
              "\n",
              "    // initialize global variables.\n",
              "    var edges;\n",
              "    var nodes;\n",
              "    var network; \n",
              "    var container;\n",
              "    var options, data;\n",
              "\n",
              "    \n",
              "    // This method is responsible for drawing the graph, returns the drawn network\n",
              "    function drawGraph() {\n",
              "        var container = document.getElementById('mynetwork');\n",
              "        \n",
              "        \n",
              "\n",
              "        // parsing and collecting nodes and edges from the python\n",
              "        nodes = new vis.DataSet([{\"color\": \"#1f456e\", \"id\": \"N4\", \"label\": \"N4\", \"shape\": \"dot\", \"size\": 10}, {\"color\": \"#1f456e\", \"id\": \"N1\", \"label\": \"N1\", \"shape\": \"dot\", \"size\": 10}, {\"color\": \"#1f456e\", \"id\": \"sum\", \"label\": \"sum\", \"shape\": \"dot\", \"size\": 10}, {\"color\": \"#1f456e\", \"id\": \"N2\", \"label\": \"N2\", \"shape\": \"dot\", \"size\": 10}, {\"color\": \"#1f456e\", \"id\": \"N39\", \"label\": \"N39\", \"shape\": \"dot\", \"size\": 10}, {\"color\": \"#1f456e\", \"id\": \"N16\", \"label\": \"N16\", \"shape\": \"dot\", \"size\": 10}, {\"color\": \"#1f456e\", \"id\": \"N3\", \"label\": \"N3\", \"shape\": \"dot\", \"size\": 10}]);\n",
              "        edges = new vis.DataSet([{\"arrows\": \"to\", \"color\": \"#000000\", \"from\": \"N4\", \"label\": 1.0, \"to\": \"N1\", \"weight\": 1}, {\"arrows\": \"to\", \"color\": \"#000000\", \"from\": \"N4\", \"label\": 1.0, \"to\": \"sum\", \"weight\": 1}, {\"arrows\": \"to\", \"color\": \"#000000\", \"from\": \"N4\", \"label\": 1.0, \"to\": \"N2\", \"weight\": 1}, {\"arrows\": \"to\", \"color\": \"#000000\", \"from\": \"N1\", \"label\": 1.0, \"to\": \"sum\", \"weight\": 1}, {\"arrows\": \"to\", \"color\": \"#000000\", \"from\": \"N2\", \"label\": 1.0, \"to\": \"N1\", \"weight\": 1}, {\"arrows\": \"to\", \"color\": \"#000000\", \"from\": \"N2\", \"label\": 1.0, \"to\": \"sum\", \"weight\": 1}, {\"arrows\": \"to\", \"color\": \"#000000\", \"from\": \"N39\", \"label\": 1.0, \"to\": \"sum\", \"weight\": 1}, {\"arrows\": \"to\", \"color\": \"#000000\", \"from\": \"N39\", \"label\": 1.0, \"to\": \"N16\", \"weight\": 1}, {\"arrows\": \"to\", \"color\": \"#000000\", \"from\": \"N16\", \"label\": 1.0, \"to\": \"N4\", \"weight\": 1}, {\"arrows\": \"to\", \"color\": \"#000000\", \"from\": \"N16\", \"label\": 1.0, \"to\": \"sum\", \"weight\": 1}, {\"arrows\": \"to\", \"color\": \"#000000\", \"from\": \"N3\", \"label\": 1.0, \"to\": \"sum\", \"weight\": 1}, {\"arrows\": \"to\", \"color\": \"#000000\", \"from\": \"N3\", \"label\": 1.0, \"to\": \"N2\", \"weight\": 1}]);\n",
              "\n",
              "        // adding nodes and edges to the graph\n",
              "        data = {nodes: nodes, edges: edges};\n",
              "\n",
              "        var options = {\n",
              "    \"configure\": {\n",
              "        \"enabled\": true,\n",
              "        \"filter\": [\n",
              "            \"physics\"\n",
              "        ]\n",
              "    },\n",
              "    \"edges\": {\n",
              "        \"color\": {\n",
              "            \"inherit\": true\n",
              "        },\n",
              "        \"smooth\": {\n",
              "            \"enabled\": true,\n",
              "            \"type\": \"dynamic\"\n",
              "        }\n",
              "    },\n",
              "    \"interaction\": {\n",
              "        \"dragNodes\": true,\n",
              "        \"hideEdgesOnDrag\": false,\n",
              "        \"hideNodesOnDrag\": false\n",
              "    },\n",
              "    \"physics\": {\n",
              "        \"enabled\": true,\n",
              "        \"stabilization\": {\n",
              "            \"enabled\": true,\n",
              "            \"fit\": true,\n",
              "            \"iterations\": 1000,\n",
              "            \"onlyDynamicEdges\": false,\n",
              "            \"updateInterval\": 50\n",
              "        }\n",
              "    }\n",
              "};\n",
              "        \n",
              "        \n",
              "\n",
              "        \n",
              "        // if this network requires displaying the configure window,\n",
              "        // put it in its div\n",
              "        options.configure[\"container\"] = document.getElementById(\"config\");\n",
              "        \n",
              "\n",
              "        network = new vis.Network(container, data, options);\n",
              "\t \n",
              "        \n",
              "\n",
              "\n",
              "        \n",
              "\n",
              "        return network;\n",
              "\n",
              "    }\n",
              "\n",
              "    drawGraph();\n",
              "\n",
              "</script>\n",
              "</body>\n",
              "</html>"
            ]
          },
          "metadata": {}
        },
        {
          "output_type": "execute_result",
          "data": {
            "text/plain": [
              "{'G': <networkx.classes.digraph.DiGraph at 0x7f5b33c68490>,\n",
              " 'edge_properties': {('N1', 'sum'): {'color': '#000000', 'weight': 1},\n",
              "  ('N16', 'N4'): {'color': '#000000', 'weight': 1},\n",
              "  ('N16', 'sum'): {'color': '#000000', 'weight': 1},\n",
              "  ('N2', 'N1'): {'color': '#000000', 'weight': 1},\n",
              "  ('N2', 'sum'): {'color': '#000000', 'weight': 1},\n",
              "  ('N3', 'N2'): {'color': '#000000', 'weight': 1},\n",
              "  ('N3', 'sum'): {'color': '#000000', 'weight': 1},\n",
              "  ('N39', 'N16'): {'color': '#000000', 'weight': 1},\n",
              "  ('N39', 'sum'): {'color': '#000000', 'weight': 1},\n",
              "  ('N4', 'N1'): {'color': '#000000', 'weight': 1},\n",
              "  ('N4', 'N2'): {'color': '#000000', 'weight': 1},\n",
              "  ('N4', 'sum'): {'color': '#000000', 'weight': 1}},\n",
              " 'node_properties': {'N1': {'node_color': '#1f456e', 'node_size': 10},\n",
              "  'N16': {'node_color': '#1f456e', 'node_size': 10},\n",
              "  'N2': {'node_color': '#1f456e', 'node_size': 10},\n",
              "  'N3': {'node_color': '#1f456e', 'node_size': 10},\n",
              "  'N39': {'node_color': '#1f456e', 'node_size': 10},\n",
              "  'N4': {'node_color': '#1f456e', 'node_size': 10},\n",
              "  'sum': {'node_color': '#1f456e', 'node_size': 10}},\n",
              " 'pos': {'N1': array([-0.93854991, -0.14335748]),\n",
              "  'N16': array([0.04926693, 0.97325027]),\n",
              "  'N2': array([-0.59862763, -0.86422073]),\n",
              "  'N3': array([0.85753039, 0.6386575 ]),\n",
              "  'N39': array([ 1.        , -0.29887117]),\n",
              "  'N4': array([ 0.35372769, -0.93902207]),\n",
              "  'sum': array([-0.72334747,  0.63356369])}}"
            ]
          },
          "metadata": {},
          "execution_count": 58
        }
      ]
    },
    {
      "cell_type": "code",
      "source": [
        "bn.plot(model_constraint_bdeu, interactive=True)"
      ],
      "metadata": {
        "colab": {
          "base_uri": "https://localhost:8080/",
          "height": 1490
        },
        "id": "l1P7tx6hzjYQ",
        "outputId": "f0cdc6e0-9b1a-41ef-9b44-3f5d9347acdd"
      },
      "execution_count": 59,
      "outputs": [
        {
          "output_type": "stream",
          "name": "stdout",
          "text": [
            "[bnlearn]> Set node properties.\n",
            "[bnlearn]> Set edge properties.\n",
            "[bnlearn] >Plot based on Bayesian model\n"
          ]
        },
        {
          "output_type": "display_data",
          "data": {
            "text/plain": [
              "<IPython.core.display.HTML object>"
            ],
            "text/html": [
              "<html>\n",
              "<head>\n",
              "<link rel=\"stylesheet\" href=\"https://cdn.jsdelivr.net/npm/vis-network@latest/styles/vis-network.css\" type=\"text/css\" />\n",
              "<script type=\"text/javascript\" src=\"https://cdn.jsdelivr.net/npm/vis-network@latest/dist/vis-network.min.js\"> </script>\n",
              "<center>\n",
              "<h1></h1>\n",
              "</center>\n",
              "\n",
              "<!-- <link rel=\"stylesheet\" href=\"../node_modules/vis/dist/vis.min.css\" type=\"text/css\" />\n",
              "<script type=\"text/javascript\" src=\"../node_modules/vis/dist/vis.js\"> </script>-->\n",
              "\n",
              "<style type=\"text/css\">\n",
              "\n",
              "        #mynetwork {\n",
              "            width: 70%;\n",
              "            height: 800px;\n",
              "            background-color: #ffffff;\n",
              "            border: 1px solid lightgray;\n",
              "            position: relative;\n",
              "            float: left;\n",
              "        }\n",
              "\n",
              "        \n",
              "\n",
              "        \n",
              "        #config {\n",
              "            float: left;\n",
              "            width: 400px;\n",
              "            height: 600px;\n",
              "        }\n",
              "        \n",
              "\n",
              "        \n",
              "</style>\n",
              "\n",
              "</head>\n",
              "\n",
              "<body>\n",
              "<div id = \"mynetwork\"></div>\n",
              "\n",
              "\n",
              "<div id = \"config\"></div>\n",
              "\n",
              "<script type=\"text/javascript\">\n",
              "\n",
              "    // initialize global variables.\n",
              "    var edges;\n",
              "    var nodes;\n",
              "    var network; \n",
              "    var container;\n",
              "    var options, data;\n",
              "\n",
              "    \n",
              "    // This method is responsible for drawing the graph, returns the drawn network\n",
              "    function drawGraph() {\n",
              "        var container = document.getElementById('mynetwork');\n",
              "        \n",
              "        \n",
              "\n",
              "        // parsing and collecting nodes and edges from the python\n",
              "        nodes = new vis.DataSet([{\"color\": \"#1f456e\", \"id\": \"N4\", \"label\": \"N4\", \"shape\": \"dot\", \"size\": 10}, {\"color\": \"#1f456e\", \"id\": \"N1\", \"label\": \"N1\", \"shape\": \"dot\", \"size\": 10}, {\"color\": \"#1f456e\", \"id\": \"sum\", \"label\": \"sum\", \"shape\": \"dot\", \"size\": 10}, {\"color\": \"#1f456e\", \"id\": \"N2\", \"label\": \"N2\", \"shape\": \"dot\", \"size\": 10}, {\"color\": \"#1f456e\", \"id\": \"N39\", \"label\": \"N39\", \"shape\": \"dot\", \"size\": 10}, {\"color\": \"#1f456e\", \"id\": \"N16\", \"label\": \"N16\", \"shape\": \"dot\", \"size\": 10}, {\"color\": \"#1f456e\", \"id\": \"N3\", \"label\": \"N3\", \"shape\": \"dot\", \"size\": 10}]);\n",
              "        edges = new vis.DataSet([{\"arrows\": \"to\", \"color\": \"#000000\", \"from\": \"N4\", \"label\": 1.0, \"to\": \"N1\", \"weight\": 1}, {\"arrows\": \"to\", \"color\": \"#000000\", \"from\": \"N4\", \"label\": 1.0, \"to\": \"sum\", \"weight\": 1}, {\"arrows\": \"to\", \"color\": \"#000000\", \"from\": \"N4\", \"label\": 1.0, \"to\": \"N2\", \"weight\": 1}, {\"arrows\": \"to\", \"color\": \"#000000\", \"from\": \"N1\", \"label\": 1.0, \"to\": \"sum\", \"weight\": 1}, {\"arrows\": \"to\", \"color\": \"#000000\", \"from\": \"N2\", \"label\": 1.0, \"to\": \"N1\", \"weight\": 1}, {\"arrows\": \"to\", \"color\": \"#000000\", \"from\": \"N2\", \"label\": 1.0, \"to\": \"sum\", \"weight\": 1}, {\"arrows\": \"to\", \"color\": \"#000000\", \"from\": \"N39\", \"label\": 1.0, \"to\": \"sum\", \"weight\": 1}, {\"arrows\": \"to\", \"color\": \"#000000\", \"from\": \"N39\", \"label\": 1.0, \"to\": \"N16\", \"weight\": 1}, {\"arrows\": \"to\", \"color\": \"#000000\", \"from\": \"N16\", \"label\": 1.0, \"to\": \"N4\", \"weight\": 1}, {\"arrows\": \"to\", \"color\": \"#000000\", \"from\": \"N16\", \"label\": 1.0, \"to\": \"sum\", \"weight\": 1}, {\"arrows\": \"to\", \"color\": \"#000000\", \"from\": \"N3\", \"label\": 1.0, \"to\": \"sum\", \"weight\": 1}, {\"arrows\": \"to\", \"color\": \"#000000\", \"from\": \"N3\", \"label\": 1.0, \"to\": \"N2\", \"weight\": 1}]);\n",
              "\n",
              "        // adding nodes and edges to the graph\n",
              "        data = {nodes: nodes, edges: edges};\n",
              "\n",
              "        var options = {\n",
              "    \"configure\": {\n",
              "        \"enabled\": true,\n",
              "        \"filter\": [\n",
              "            \"physics\"\n",
              "        ]\n",
              "    },\n",
              "    \"edges\": {\n",
              "        \"color\": {\n",
              "            \"inherit\": true\n",
              "        },\n",
              "        \"smooth\": {\n",
              "            \"enabled\": true,\n",
              "            \"type\": \"dynamic\"\n",
              "        }\n",
              "    },\n",
              "    \"interaction\": {\n",
              "        \"dragNodes\": true,\n",
              "        \"hideEdgesOnDrag\": false,\n",
              "        \"hideNodesOnDrag\": false\n",
              "    },\n",
              "    \"physics\": {\n",
              "        \"enabled\": true,\n",
              "        \"stabilization\": {\n",
              "            \"enabled\": true,\n",
              "            \"fit\": true,\n",
              "            \"iterations\": 1000,\n",
              "            \"onlyDynamicEdges\": false,\n",
              "            \"updateInterval\": 50\n",
              "        }\n",
              "    }\n",
              "};\n",
              "        \n",
              "        \n",
              "\n",
              "        \n",
              "        // if this network requires displaying the configure window,\n",
              "        // put it in its div\n",
              "        options.configure[\"container\"] = document.getElementById(\"config\");\n",
              "        \n",
              "\n",
              "        network = new vis.Network(container, data, options);\n",
              "\t \n",
              "        \n",
              "\n",
              "\n",
              "        \n",
              "\n",
              "        return network;\n",
              "\n",
              "    }\n",
              "\n",
              "    drawGraph();\n",
              "\n",
              "</script>\n",
              "</body>\n",
              "</html>"
            ]
          },
          "metadata": {}
        },
        {
          "output_type": "execute_result",
          "data": {
            "text/plain": [
              "{'G': <networkx.classes.digraph.DiGraph at 0x7f5b32e28250>,\n",
              " 'edge_properties': {('N1', 'sum'): {'color': '#000000', 'weight': 1},\n",
              "  ('N16', 'N4'): {'color': '#000000', 'weight': 1},\n",
              "  ('N16', 'sum'): {'color': '#000000', 'weight': 1},\n",
              "  ('N2', 'N1'): {'color': '#000000', 'weight': 1},\n",
              "  ('N2', 'sum'): {'color': '#000000', 'weight': 1},\n",
              "  ('N3', 'N2'): {'color': '#000000', 'weight': 1},\n",
              "  ('N3', 'sum'): {'color': '#000000', 'weight': 1},\n",
              "  ('N39', 'N16'): {'color': '#000000', 'weight': 1},\n",
              "  ('N39', 'sum'): {'color': '#000000', 'weight': 1},\n",
              "  ('N4', 'N1'): {'color': '#000000', 'weight': 1},\n",
              "  ('N4', 'N2'): {'color': '#000000', 'weight': 1},\n",
              "  ('N4', 'sum'): {'color': '#000000', 'weight': 1}},\n",
              " 'node_properties': {'N1': {'node_color': '#1f456e', 'node_size': 10},\n",
              "  'N16': {'node_color': '#1f456e', 'node_size': 10},\n",
              "  'N2': {'node_color': '#1f456e', 'node_size': 10},\n",
              "  'N3': {'node_color': '#1f456e', 'node_size': 10},\n",
              "  'N39': {'node_color': '#1f456e', 'node_size': 10},\n",
              "  'N4': {'node_color': '#1f456e', 'node_size': 10},\n",
              "  'sum': {'node_color': '#1f456e', 'node_size': 10}},\n",
              " 'pos': {'N1': array([0.84560053, 0.44693922]),\n",
              "  'N16': array([-0.50194031,  0.73859153]),\n",
              "  'N2': array([ 0.18891207, -0.95971357]),\n",
              "  'N3': array([0.22340647, 0.78206345]),\n",
              "  'N39': array([-1.        ,  0.19303914]),\n",
              "  'N4': array([ 0.91009917, -0.48913555]),\n",
              "  'sum': array([-0.66607793, -0.71178422])}}"
            ]
          },
          "metadata": {},
          "execution_count": 59
        }
      ]
    },
    {
      "cell_type": "code",
      "source": [
        "bn.plot(model_constraint_bic, interactive=True)"
      ],
      "metadata": {
        "colab": {
          "base_uri": "https://localhost:8080/",
          "height": 1490
        },
        "id": "ACpqYkpkz2yK",
        "outputId": "29c42a71-1b56-4539-d73f-aaa152e5c550"
      },
      "execution_count": 60,
      "outputs": [
        {
          "output_type": "stream",
          "name": "stdout",
          "text": [
            "[bnlearn]> Set node properties.\n",
            "[bnlearn]> Set edge properties.\n",
            "[bnlearn] >Plot based on Bayesian model\n"
          ]
        },
        {
          "output_type": "display_data",
          "data": {
            "text/plain": [
              "<IPython.core.display.HTML object>"
            ],
            "text/html": [
              "<html>\n",
              "<head>\n",
              "<link rel=\"stylesheet\" href=\"https://cdn.jsdelivr.net/npm/vis-network@latest/styles/vis-network.css\" type=\"text/css\" />\n",
              "<script type=\"text/javascript\" src=\"https://cdn.jsdelivr.net/npm/vis-network@latest/dist/vis-network.min.js\"> </script>\n",
              "<center>\n",
              "<h1></h1>\n",
              "</center>\n",
              "\n",
              "<!-- <link rel=\"stylesheet\" href=\"../node_modules/vis/dist/vis.min.css\" type=\"text/css\" />\n",
              "<script type=\"text/javascript\" src=\"../node_modules/vis/dist/vis.js\"> </script>-->\n",
              "\n",
              "<style type=\"text/css\">\n",
              "\n",
              "        #mynetwork {\n",
              "            width: 70%;\n",
              "            height: 800px;\n",
              "            background-color: #ffffff;\n",
              "            border: 1px solid lightgray;\n",
              "            position: relative;\n",
              "            float: left;\n",
              "        }\n",
              "\n",
              "        \n",
              "\n",
              "        \n",
              "        #config {\n",
              "            float: left;\n",
              "            width: 400px;\n",
              "            height: 600px;\n",
              "        }\n",
              "        \n",
              "\n",
              "        \n",
              "</style>\n",
              "\n",
              "</head>\n",
              "\n",
              "<body>\n",
              "<div id = \"mynetwork\"></div>\n",
              "\n",
              "\n",
              "<div id = \"config\"></div>\n",
              "\n",
              "<script type=\"text/javascript\">\n",
              "\n",
              "    // initialize global variables.\n",
              "    var edges;\n",
              "    var nodes;\n",
              "    var network; \n",
              "    var container;\n",
              "    var options, data;\n",
              "\n",
              "    \n",
              "    // This method is responsible for drawing the graph, returns the drawn network\n",
              "    function drawGraph() {\n",
              "        var container = document.getElementById('mynetwork');\n",
              "        \n",
              "        \n",
              "\n",
              "        // parsing and collecting nodes and edges from the python\n",
              "        nodes = new vis.DataSet([{\"color\": \"#1f456e\", \"id\": \"N4\", \"label\": \"N4\", \"shape\": \"dot\", \"size\": 10}, {\"color\": \"#1f456e\", \"id\": \"N1\", \"label\": \"N1\", \"shape\": \"dot\", \"size\": 10}, {\"color\": \"#1f456e\", \"id\": \"sum\", \"label\": \"sum\", \"shape\": \"dot\", \"size\": 10}, {\"color\": \"#1f456e\", \"id\": \"N2\", \"label\": \"N2\", \"shape\": \"dot\", \"size\": 10}, {\"color\": \"#1f456e\", \"id\": \"N39\", \"label\": \"N39\", \"shape\": \"dot\", \"size\": 10}, {\"color\": \"#1f456e\", \"id\": \"N16\", \"label\": \"N16\", \"shape\": \"dot\", \"size\": 10}, {\"color\": \"#1f456e\", \"id\": \"N3\", \"label\": \"N3\", \"shape\": \"dot\", \"size\": 10}]);\n",
              "        edges = new vis.DataSet([{\"arrows\": \"to\", \"color\": \"#000000\", \"from\": \"N4\", \"label\": 1.0, \"to\": \"N1\", \"weight\": 1}, {\"arrows\": \"to\", \"color\": \"#000000\", \"from\": \"N4\", \"label\": 1.0, \"to\": \"sum\", \"weight\": 1}, {\"arrows\": \"to\", \"color\": \"#000000\", \"from\": \"N4\", \"label\": 1.0, \"to\": \"N2\", \"weight\": 1}, {\"arrows\": \"to\", \"color\": \"#000000\", \"from\": \"N1\", \"label\": 1.0, \"to\": \"sum\", \"weight\": 1}, {\"arrows\": \"to\", \"color\": \"#000000\", \"from\": \"N2\", \"label\": 1.0, \"to\": \"N1\", \"weight\": 1}, {\"arrows\": \"to\", \"color\": \"#000000\", \"from\": \"N2\", \"label\": 1.0, \"to\": \"sum\", \"weight\": 1}, {\"arrows\": \"to\", \"color\": \"#000000\", \"from\": \"N39\", \"label\": 1.0, \"to\": \"sum\", \"weight\": 1}, {\"arrows\": \"to\", \"color\": \"#000000\", \"from\": \"N39\", \"label\": 1.0, \"to\": \"N16\", \"weight\": 1}, {\"arrows\": \"to\", \"color\": \"#000000\", \"from\": \"N16\", \"label\": 1.0, \"to\": \"N4\", \"weight\": 1}, {\"arrows\": \"to\", \"color\": \"#000000\", \"from\": \"N16\", \"label\": 1.0, \"to\": \"sum\", \"weight\": 1}, {\"arrows\": \"to\", \"color\": \"#000000\", \"from\": \"N3\", \"label\": 1.0, \"to\": \"sum\", \"weight\": 1}, {\"arrows\": \"to\", \"color\": \"#000000\", \"from\": \"N3\", \"label\": 1.0, \"to\": \"N2\", \"weight\": 1}]);\n",
              "\n",
              "        // adding nodes and edges to the graph\n",
              "        data = {nodes: nodes, edges: edges};\n",
              "\n",
              "        var options = {\n",
              "    \"configure\": {\n",
              "        \"enabled\": true,\n",
              "        \"filter\": [\n",
              "            \"physics\"\n",
              "        ]\n",
              "    },\n",
              "    \"edges\": {\n",
              "        \"color\": {\n",
              "            \"inherit\": true\n",
              "        },\n",
              "        \"smooth\": {\n",
              "            \"enabled\": true,\n",
              "            \"type\": \"dynamic\"\n",
              "        }\n",
              "    },\n",
              "    \"interaction\": {\n",
              "        \"dragNodes\": true,\n",
              "        \"hideEdgesOnDrag\": false,\n",
              "        \"hideNodesOnDrag\": false\n",
              "    },\n",
              "    \"physics\": {\n",
              "        \"enabled\": true,\n",
              "        \"stabilization\": {\n",
              "            \"enabled\": true,\n",
              "            \"fit\": true,\n",
              "            \"iterations\": 1000,\n",
              "            \"onlyDynamicEdges\": false,\n",
              "            \"updateInterval\": 50\n",
              "        }\n",
              "    }\n",
              "};\n",
              "        \n",
              "        \n",
              "\n",
              "        \n",
              "        // if this network requires displaying the configure window,\n",
              "        // put it in its div\n",
              "        options.configure[\"container\"] = document.getElementById(\"config\");\n",
              "        \n",
              "\n",
              "        network = new vis.Network(container, data, options);\n",
              "\t \n",
              "        \n",
              "\n",
              "\n",
              "        \n",
              "\n",
              "        return network;\n",
              "\n",
              "    }\n",
              "\n",
              "    drawGraph();\n",
              "\n",
              "</script>\n",
              "</body>\n",
              "</html>"
            ]
          },
          "metadata": {}
        },
        {
          "output_type": "execute_result",
          "data": {
            "text/plain": [
              "{'G': <networkx.classes.digraph.DiGraph at 0x7f5b35fe9910>,\n",
              " 'edge_properties': {('N1', 'sum'): {'color': '#000000', 'weight': 1},\n",
              "  ('N16', 'N4'): {'color': '#000000', 'weight': 1},\n",
              "  ('N16', 'sum'): {'color': '#000000', 'weight': 1},\n",
              "  ('N2', 'N1'): {'color': '#000000', 'weight': 1},\n",
              "  ('N2', 'sum'): {'color': '#000000', 'weight': 1},\n",
              "  ('N3', 'N2'): {'color': '#000000', 'weight': 1},\n",
              "  ('N3', 'sum'): {'color': '#000000', 'weight': 1},\n",
              "  ('N39', 'N16'): {'color': '#000000', 'weight': 1},\n",
              "  ('N39', 'sum'): {'color': '#000000', 'weight': 1},\n",
              "  ('N4', 'N1'): {'color': '#000000', 'weight': 1},\n",
              "  ('N4', 'N2'): {'color': '#000000', 'weight': 1},\n",
              "  ('N4', 'sum'): {'color': '#000000', 'weight': 1}},\n",
              " 'node_properties': {'N1': {'node_color': '#1f456e', 'node_size': 10},\n",
              "  'N16': {'node_color': '#1f456e', 'node_size': 10},\n",
              "  'N2': {'node_color': '#1f456e', 'node_size': 10},\n",
              "  'N3': {'node_color': '#1f456e', 'node_size': 10},\n",
              "  'N39': {'node_color': '#1f456e', 'node_size': 10},\n",
              "  'N4': {'node_color': '#1f456e', 'node_size': 10},\n",
              "  'sum': {'node_color': '#1f456e', 'node_size': 10}},\n",
              " 'pos': {'N1': array([ 0.32398995, -0.87942876]),\n",
              "  'N16': array([-0.79381721, -0.10672687]),\n",
              "  'N2': array([ 0.98201851, -0.38525784]),\n",
              "  'N3': array([-0.74764505,  0.61505586]),\n",
              "  'N39': array([-0.55881439, -0.78079614]),\n",
              "  'N4': array([0.7739262 , 0.53715375]),\n",
              "  'sum': array([0.02034198, 1.        ])}}"
            ]
          },
          "metadata": {},
          "execution_count": 60
        }
      ]
    },
    {
      "cell_type": "markdown",
      "source": [
        "**Choosing different dataset and performing confusion matrix and diving into true and learned dataset**"
      ],
      "metadata": {
        "id": "V4PYqTpg9QZl"
      }
    },
    {
      "cell_type": "code",
      "source": [
        "## importing different dataset and use confusion matrix\n",
        "\n",
        "import bnlearn as bn\n",
        "# Loading the  asia DAG\n",
        "model_true1 = bn.import_DAG('asia')\n",
        "# plotting the ground truth of the data\n",
        "G = bn.plot(model_true1)"
      ],
      "metadata": {
        "colab": {
          "base_uri": "https://localhost:8080/",
          "height": 588
        },
        "id": "tsvr5aoxz8rg",
        "outputId": "768d897d-09e9-4a65-eda3-97e6fe3ccc46"
      },
      "execution_count": 78,
      "outputs": [
        {
          "output_type": "stream",
          "name": "stdout",
          "text": [
            "[bnlearn] >Import <asia>\n",
            "[bnlearn] >Loading bif file </usr/local/lib/python3.7/dist-packages/bnlearn/data/asia.bif>\n",
            "[bnlearn] >Checking CPDs..\n",
            "[bnlearn] >Check for DAG structure. Correct: True\n",
            "[bnlearn]> Set node properties.\n",
            "[bnlearn]> Set edge properties.\n",
            "[bnlearn] >Plot based on Bayesian model\n"
          ]
        },
        {
          "output_type": "display_data",
          "data": {
            "text/plain": [
              "<Figure size 1080x576 with 1 Axes>"
            ],
            "image/png": "[encoded data removed]"
          },
          "metadata": {}
        }
      ]
    },
    {
      "cell_type": "code",
      "source": [
        "# Dataset sampling\n",
        "df1 = bn.sampling(model_true, n=10000)\n"
      ],
      "metadata": {
        "colab": {
          "base_uri": "https://localhost:8080/",
          "height": 66,
          "referenced_widgets": [
            "64d9d046bf8a4022a7cbc7f50001a842",
            "56d32797a2eb4a73953ecf0b4cd09842",
            "00d85cf1319a45f48fda007415216d69",
            "6f5eb3b18d1e4593bd7b9e7f33ab9db4",
            "a90064ff5ed643b8ad10549e63f114f2",
            "786c29ef9e6f43bc8d5870bc5674948b",
            "499ed2aa33ee48328d6af51c019c7b15",
            "eb2de55ff58640ce8746b8f5b57d0555",
            "d065615d14ce40c6b6704616a11ba4f9",
            "333f6a0d9cc84334b94b7c565dcb8267",
            "8d2bd1e722264716b01d1614c4175ddc"
          ]
        },
        "id": "oVa7dNm48ViE",
        "outputId": "8e6b90d2-3e76-4a48-fc36-8e7fbc2af596"
      },
      "execution_count": 73,
      "outputs": [
        {
          "output_type": "stream",
          "name": "stdout",
          "text": [
            "[bnlearn] >Forward sampling for 10000 samples..\n"
          ]
        },
        {
          "output_type": "display_data",
          "data": {
            "text/plain": [
              "  0%|          | 0/8 [00:00<?, ?it/s]"
            ],
            "application/vnd.jupyter.widget-view+json": {
              "version_major": 2,
              "version_minor": 0,
              "model_id": "64d9d046bf8a4022a7cbc7f50001a842"
            }
          },
          "metadata": {}
        }
      ]
    },
    {
      "cell_type": "code",
      "source": [
        "# Structure learning of sampled dataset\n",
        "model_learned = bn.structure_learning.fit(df1, methodtype='hc', scoretype='bic')"
      ],
      "metadata": {
        "colab": {
          "base_uri": "https://localhost:8080/",
          "height": 0
        },
        "id": "y9o9TiLb7p8A",
        "outputId": "f7b6cae1-b0d7-428a-9c0c-efc1d0b3aa48"
      },
      "execution_count": 74,
      "outputs": [
        {
          "output_type": "stream",
          "name": "stdout",
          "text": [
            "[bnlearn] >Computing best DAG using [hc]\n",
            "[bnlearn] >Set scoring type at [bic]\n"
          ]
        }
      ]
    },
    {
      "cell_type": "code",
      "source": [
        "model_learned"
      ],
      "metadata": {
        "colab": {
          "base_uri": "https://localhost:8080/",
          "height": 0
        },
        "id": "5AsdnoYr8oAD",
        "outputId": "0a136eb4-c2d2-4e5a-e51c-75b8279a9a7c"
      },
      "execution_count": 75,
      "outputs": [
        {
          "output_type": "execute_result",
          "data": {
            "text/plain": [
              "{'adjmat': target   asia    tub  smoke   lung  bronc  either   xray   dysp\n",
              " source                                                         \n",
              " asia    False   True  False  False  False   False  False  False\n",
              " tub     False  False  False  False  False    True  False  False\n",
              " smoke   False  False  False   True   True   False  False  False\n",
              " lung    False  False  False  False  False    True  False  False\n",
              " bronc   False  False  False  False  False   False  False   True\n",
              " either  False  False  False  False  False   False   True   True\n",
              " xray    False  False  False  False  False   False  False  False\n",
              " dysp    False  False  False  False  False   False  False  False,\n",
              " 'config': {'black_list': None,\n",
              "  'bw_list_method': None,\n",
              "  'class_node': None,\n",
              "  'epsilon': 0.0001,\n",
              "  'fixed_edges': set(),\n",
              "  'max_indegree': None,\n",
              "  'max_iter': 1000000.0,\n",
              "  'method': 'hc',\n",
              "  'return_all_dags': False,\n",
              "  'root_node': None,\n",
              "  'scoring': 'bic',\n",
              "  'tabu_length': 100,\n",
              "  'verbose': 3,\n",
              "  'white_list': None},\n",
              " 'model': <pgmpy.base.DAG.DAG at 0x7f5b361c5750>,\n",
              " 'model_edges': [('asia', 'tub'),\n",
              "  ('tub', 'either'),\n",
              "  ('smoke', 'bronc'),\n",
              "  ('smoke', 'lung'),\n",
              "  ('lung', 'either'),\n",
              "  ('bronc', 'dysp'),\n",
              "  ('either', 'xray'),\n",
              "  ('either', 'dysp')]}"
            ]
          },
          "metadata": {},
          "execution_count": 75
        }
      ]
    },
    {
      "cell_type": "code",
      "source": [
        "# Plotting sampled data\n",
        "bn.plot(model_learned, pos=G['pos'])"
      ],
      "metadata": {
        "colab": {
          "base_uri": "https://localhost:8080/",
          "height": 969
        },
        "id": "YI6tL2T_8pu8",
        "outputId": "0d796742-d25a-48a5-c4d3-51f71fc3f6d3"
      },
      "execution_count": 76,
      "outputs": [
        {
          "output_type": "stream",
          "name": "stdout",
          "text": [
            "[bnlearn]> Set node properties.\n",
            "[bnlearn]> Set edge properties.\n",
            "[bnlearn] >Plot based on Bayesian model\n",
            "[bnlearn] >Existing coordinates from <pos> are used.\n"
          ]
        },
        {
          "output_type": "display_data",
          "data": {
            "text/plain": [
              "<Figure size 1080x576 with 1 Axes>"
            ],
            "image/png": "[encoded data removed]"
          },
          "metadata": {}
        },
        {
          "output_type": "execute_result",
          "data": {
            "text/plain": [
              "{'G': <networkx.classes.digraph.DiGraph at 0x7f5b33059dd0>,\n",
              " 'edge_properties': {('asia', 'tub'): {'color': '#000000', 'weight': 1},\n",
              "  ('bronc', 'dysp'): {'color': '#000000', 'weight': 1},\n",
              "  ('either', 'dysp'): {'color': '#000000', 'weight': 1},\n",
              "  ('either', 'xray'): {'color': '#000000', 'weight': 1},\n",
              "  ('lung', 'either'): {'color': '#000000', 'weight': 1},\n",
              "  ('smoke', 'bronc'): {'color': '#000000', 'weight': 1},\n",
              "  ('smoke', 'lung'): {'color': '#000000', 'weight': 1},\n",
              "  ('tub', 'either'): {'color': '#000000', 'weight': 1}},\n",
              " 'node_properties': {'asia': {'node_color': '#1f456e', 'node_size': 800},\n",
              "  'bronc': {'node_color': '#1f456e', 'node_size': 800},\n",
              "  'dysp': {'node_color': '#1f456e', 'node_size': 800},\n",
              "  'either': {'node_color': '#1f456e', 'node_size': 800},\n",
              "  'lung': {'node_color': '#1f456e', 'node_size': 800},\n",
              "  'smoke': {'node_color': '#1f456e', 'node_size': 800},\n",
              "  'tub': {'node_color': '#1f456e', 'node_size': 800},\n",
              "  'xray': {'node_color': '#1f456e', 'node_size': 800}},\n",
              " 'pos': {'asia': array([-0.58038462, -0.71898933]),\n",
              "  'bronc': array([ 0.15179492, -0.98317456]),\n",
              "  'dysp': array([-1.        , -0.10228043]),\n",
              "  'either': array([-0.7288798 ,  0.62402108]),\n",
              "  'lung': array([-0.05857423,  0.92358077]),\n",
              "  'smoke': array([0.91755872, 0.06482314]),\n",
              "  'tub': array([ 0.63308503, -0.54191696]),\n",
              "  'xray': array([0.66539998, 0.73393629])}}"
            ]
          },
          "metadata": {},
          "execution_count": 76
        }
      ]
    },
    {
      "cell_type": "code",
      "source": [
        "# Comparing the both networks and plotting\n",
        "bn.compare_networks(model_true, model_learned, pos=G['pos'])"
      ],
      "metadata": {
        "colab": {
          "base_uri": "https://localhost:8080/",
          "height": 954
        },
        "id": "FlEtknrA8yXf",
        "outputId": "919f154e-6ee1-4ee2-ac21-8117314d7cbf"
      },
      "execution_count": 77,
      "outputs": [
        {
          "output_type": "stream",
          "name": "stdout",
          "text": [
            "[bnlearn] >Existing coordinates from <pos> are used.\n"
          ]
        },
        {
          "output_type": "display_data",
          "data": {
            "text/plain": [
              "<Figure size 432x288 with 2 Axes>"
            ],
            "image/png": "[encoded data removed]"
          },
          "metadata": {
            "needs_background": "light"
          }
        },
        {
          "output_type": "display_data",
          "data": {
            "text/plain": [
              "<Figure size 1080x576 with 1 Axes>"
            ],
            "image/png": "[encoded data removed]"
          },
          "metadata": {}
        },
        {
          "output_type": "execute_result",
          "data": {
            "text/plain": [
              "(array([[56,  0],\n",
              "        [ 0,  8]]), target  asia  tub  smoke  lung  bronc  either  xray  dysp\n",
              " source                                                   \n",
              " asia       0    1      0     0      0       0     0     0\n",
              " tub        0    0      0     0      0       1     0     0\n",
              " smoke      0    0      0     1      1       0     0     0\n",
              " lung       0    0      0     0      0       1     0     0\n",
              " bronc      0    0      0     0      0       0     0     1\n",
              " either     0    0      0     0      0       0     1     1\n",
              " xray       0    0      0     0      0       0     0     0\n",
              " dysp       0    0      0     0      0       0     0     0)"
            ]
          },
          "metadata": {},
          "execution_count": 77
        }
      ]
    },
    {
      "cell_type": "markdown",
      "source": [
        "**Write a short paragraph stating if you feel that you could use the model at work**"
      ],
      "metadata": {
        "id": "_aFWK6qe9oJu"
      }
    },
    {
      "cell_type": "markdown",
      "source": [
        "The model Hill Climbing is best to use in work and for long datasets.It creates more data nodes.It implements a greedy local search that start from DAG and perfomed iteratvely and terminates when the score is maximum.It can be used for Artifical Intelligence datasets and it will give the best result"
      ],
      "metadata": {
        "id": "a_eBIdxP9s24"
      }
    },
    {
      "cell_type": "code",
      "source": [
        ""
      ],
      "metadata": {
        "id": "Xz8Ogpjv99D9"
      },
      "execution_count": null,
      "outputs": []
    }
  ]
}